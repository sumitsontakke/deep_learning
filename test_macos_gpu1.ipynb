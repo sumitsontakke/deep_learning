{
 "cells": [
  {
   "cell_type": "markdown",
   "id": "c58559b1",
   "metadata": {},
   "source": [
    "# FUN TEST\n",
    "\n",
    "We'll run this code with CPU first and then GPU to find out how better is GPU than CPU"
   ]
  },
  {
   "cell_type": "code",
   "execution_count": 2,
   "id": "f70e30cb",
   "metadata": {},
   "outputs": [
    {
     "name": "stderr",
     "output_type": "stream",
     "text": [
      "2025-04-21 09:48:40.935995: I tensorflow/core/platform/cpu_feature_guard.cc:182] This TensorFlow binary is optimized to use available CPU instructions in performance-critical operations.\n",
      "To enable the following instructions: SSE4.1 SSE4.2 AVX AVX2 FMA, in other operations, rebuild TensorFlow with the appropriate compiler flags.\n",
      "/Users/sumitsontakke/Documents/Dev/PES/mlenv/lib/python3.9/site-packages/urllib3/__init__.py:35: NotOpenSSLWarning: urllib3 v2 only supports OpenSSL 1.1.1+, currently the 'ssl' module is compiled with 'LibreSSL 2.8.3'. See: https://github.com/urllib3/urllib3/issues/3020\n",
      "  warnings.warn(\n"
     ]
    },
    {
     "name": "stdout",
     "output_type": "stream",
     "text": [
      "TensorFlow version: 2.12.0\n",
      "❌ No GPU detected. Using CPU.\n"
     ]
    }
   ],
   "source": [
    "import tensorflow as tf\n",
    "\n",
    "print(\"TensorFlow version:\", tf.__version__)\n",
    "gpus = tf.config.list_physical_devices('GPU')\n",
    "if gpus:\n",
    "    print(\"✅ GPU is available:\")\n",
    "    for gpu in gpus:\n",
    "        print(\"   →\", gpu)\n",
    "else:\n",
    "    print(\"❌ No GPU detected. Using CPU.\")\n"
   ]
  },
  {
   "cell_type": "code",
   "execution_count": 3,
   "id": "d0e71699",
   "metadata": {},
   "outputs": [
    {
     "name": "stdout",
     "output_type": "stream",
     "text": [
      "Matrix multiplication time: 0.1696939468383789\n"
     ]
    }
   ],
   "source": [
    "import tensorflow as tf\n",
    "from time import time\n",
    "\n",
    "# Dummy matrix multiplication\n",
    "start = time()\n",
    "a = tf.random.normal([1000, 1000])\n",
    "b = tf.random.normal([1000, 1000])\n",
    "c = tf.matmul(a, b)\n",
    "print(\"Matrix multiplication time:\", time() - start)"
   ]
  },
  {
   "cell_type": "code",
   "execution_count": 4,
   "id": "b9dca27a",
   "metadata": {},
   "outputs": [
    {
     "name": "stdout",
     "output_type": "stream",
     "text": [
      "Matrix multiplication time: 0.03626704216003418\n"
     ]
    }
   ],
   "source": [
    "import tensorflow as tf\n",
    "from time import time\n",
    "\n",
    "# Dummy matrix multiplication\n",
    "start = time()\n",
    "a = tf.random.normal([1000, 1000])\n",
    "b = tf.random.normal([1000, 1000])\n",
    "c = tf.matmul(a, b)\n",
    "print(\"Matrix multiplication time:\", time() - start)"
   ]
  },
  {
   "cell_type": "code",
   "execution_count": 5,
   "id": "930a4178",
   "metadata": {},
   "outputs": [
    {
     "name": "stdout",
     "output_type": "stream",
     "text": [
      "Matrix multiplication time: 0.028716087341308594\n"
     ]
    }
   ],
   "source": [
    "import tensorflow as tf\n",
    "from time import time\n",
    "\n",
    "# Dummy matrix multiplication\n",
    "start = time()\n",
    "a = tf.random.normal([1000, 1000])\n",
    "b = tf.random.normal([1000, 1000])\n",
    "c = tf.matmul(a, b)\n",
    "print(\"Matrix multiplication time:\", time() - start)"
   ]
  },
  {
   "cell_type": "markdown",
   "id": "4ef90872",
   "metadata": {},
   "source": [
    "---\n",
    "\n",
    "### Changing to venv that has GPU enabled\n",
    "```pip install tensorflow-macos==2.12.0 keras==2.12.0 tensorboard==2.12.3```\n",
    "```python -m pip install tensorflow-metal```"
   ]
  },
  {
   "cell_type": "code",
   "execution_count": 1,
   "id": "e0cb6bb0",
   "metadata": {},
   "outputs": [
    {
     "name": "stderr",
     "output_type": "stream",
     "text": [
      "2025-04-21 09:49:11.926192: I tensorflow/core/platform/cpu_feature_guard.cc:182] This TensorFlow binary is optimized to use available CPU instructions in performance-critical operations.\n",
      "To enable the following instructions: SSE4.1 SSE4.2 AVX AVX2 FMA, in other operations, rebuild TensorFlow with the appropriate compiler flags.\n",
      "/Users/sumitsontakke/Documents/Dev/PES/DL_Practice/mlos/lib/python3.9/site-packages/urllib3/__init__.py:35: NotOpenSSLWarning: urllib3 v2 only supports OpenSSL 1.1.1+, currently the 'ssl' module is compiled with 'LibreSSL 2.8.3'. See: https://github.com/urllib3/urllib3/issues/3020\n",
      "  warnings.warn(\n"
     ]
    },
    {
     "name": "stdout",
     "output_type": "stream",
     "text": [
      "TensorFlow version: 2.12.0\n",
      "✅ GPU is available:\n",
      "   → PhysicalDevice(name='/physical_device:GPU:0', device_type='GPU')\n"
     ]
    }
   ],
   "source": [
    "import tensorflow as tf\n",
    "\n",
    "print(\"TensorFlow version:\", tf.__version__)\n",
    "gpus = tf.config.list_physical_devices('GPU')\n",
    "if gpus:\n",
    "    print(\"✅ GPU is available:\")\n",
    "    for gpu in gpus:\n",
    "        print(\"   →\", gpu)\n",
    "else:\n",
    "    print(\"❌ No GPU detected. Using CPU.\")\n"
   ]
  },
  {
   "cell_type": "code",
   "execution_count": 2,
   "id": "1ac1f1da",
   "metadata": {},
   "outputs": [
    {
     "name": "stderr",
     "output_type": "stream",
     "text": [
      "2025-04-21 09:49:20.137914: I tensorflow/core/common_runtime/pluggable_device/pluggable_device_factory.cc:306] Could not identify NUMA node of platform GPU ID 0, defaulting to 0. Your kernel may not have been built with NUMA support.\n",
      "2025-04-21 09:49:20.138013: I tensorflow/core/common_runtime/pluggable_device/pluggable_device_factory.cc:272] Created TensorFlow device (/job:localhost/replica:0/task:0/device:GPU:0 with 0 MB memory) -> physical PluggableDevice (device: 0, name: METAL, pci bus id: <undefined>)\n"
     ]
    },
    {
     "name": "stdout",
     "output_type": "stream",
     "text": [
      "Matrix multiplication time: 1.5136950016021729\n"
     ]
    }
   ],
   "source": [
    "import tensorflow as tf\n",
    "from time import time\n",
    "\n",
    "# Dummy matrix multiplication\n",
    "start = time()\n",
    "a = tf.random.normal([1000, 1000])\n",
    "b = tf.random.normal([1000, 1000])\n",
    "c = tf.matmul(a, b)\n",
    "print(\"Matrix multiplication time:\", time() - start)\n"
   ]
  },
  {
   "cell_type": "code",
   "execution_count": 3,
   "id": "c60081af",
   "metadata": {},
   "outputs": [
    {
     "name": "stdout",
     "output_type": "stream",
     "text": [
      "Matrix multiplication time: 0.007256031036376953\n"
     ]
    }
   ],
   "source": [
    "import tensorflow as tf\n",
    "from time import time\n",
    "\n",
    "# Dummy matrix multiplication\n",
    "start = time()\n",
    "a = tf.random.normal([1000, 1000])\n",
    "b = tf.random.normal([1000, 1000])\n",
    "c = tf.matmul(a, b)\n",
    "print(\"Matrix multiplication time:\", time() - start)"
   ]
  },
  {
   "cell_type": "code",
   "execution_count": 4,
   "id": "1fd4d8d3",
   "metadata": {},
   "outputs": [
    {
     "name": "stdout",
     "output_type": "stream",
     "text": [
      "Matrix multiplication time: 0.009241104125976562\n"
     ]
    }
   ],
   "source": [
    "import tensorflow as tf\n",
    "from time import time\n",
    "\n",
    "# Dummy matrix multiplication\n",
    "start = time()\n",
    "a = tf.random.normal([1000, 1000])\n",
    "b = tf.random.normal([1000, 1000])\n",
    "c = tf.matmul(a, b)\n",
    "print(\"Matrix multiplication time:\", time() - start)"
   ]
  },
  {
   "cell_type": "code",
   "execution_count": null,
   "id": "ca96c65b",
   "metadata": {},
   "outputs": [],
   "source": []
  }
 ],
 "metadata": {
  "kernelspec": {
   "display_name": "mlos",
   "language": "python",
   "name": "python3"
  },
  "language_info": {
   "codemirror_mode": {
    "name": "ipython",
    "version": 3
   },
   "file_extension": ".py",
   "mimetype": "text/x-python",
   "name": "python",
   "nbconvert_exporter": "python",
   "pygments_lexer": "ipython3",
   "version": "3.9.6"
  }
 },
 "nbformat": 4,
 "nbformat_minor": 5
}
