{
  "nbformat": 4,
  "nbformat_minor": 0,
  "metadata": {
    "colab": {
      "provenance": [],
      "gpuType": "T4",
      "authorship_tag": "ABX9TyPHeAGxV6EfPpLiO52To+FJ",
      "include_colab_link": true
    },
    "kernelspec": {
      "name": "python3",
      "display_name": "Python 3"
    },
    "language_info": {
      "name": "python"
    },
    "accelerator": "GPU"
  },
  "cells": [
    {
      "cell_type": "markdown",
      "metadata": {
        "id": "view-in-github",
        "colab_type": "text"
      },
      "source": [
        "<a href=\"https://colab.research.google.com/github/sumitsontakke/deep_learning/blob/main/ANN/end_to_end/base_model_training.ipynb\" target=\"_parent\"><img src=\"https://colab.research.google.com/assets/colab-badge.svg\" alt=\"Open In Colab\"/></a>"
      ]
    },
    {
      "cell_type": "code",
      "execution_count": 1,
      "metadata": {
        "id": "cTILz_RoSTMH"
      },
      "outputs": [],
      "source": [
        "import pandas as pd\n",
        "import numpy as np\n",
        "import tensorflow as tf\n",
        "import matplotlib.pyplot as plt\n",
        "\n",
        "\n",
        "from tensorflow.keras.models import Sequential\n",
        "from tensorflow.keras.layers import Conv2D, MaxPooling2D, Dropout, Flatten, Dense, BatchNormalization\n",
        "from tensorflow.keras.callbacks import EarlyStopping, ModelCheckpoint\n",
        "from tensorflow.keras.datasets import cifar100\n",
        "from tensorflow.keras.utils import to_categorical\n",
        "from tensorflow.keras.metrics import TopKCategoricalAccuracy\n",
        "\n",
        "from sklearn.model_selection import train_test_split"
      ]
    },
    {
      "cell_type": "code",
      "source": [
        "(X_train, y_train), (X_test, y_test) = cifar100.load_data()\n",
        "\n",
        "print(\"X_train shape:\", X_train.shape, \"y_train shape:\", y_train.shape, X_train.dtype, y_train.dtype)\n",
        "print(\"X_test shape:\", X_test.shape, \"y_test shape:\", y_test.shape)"
      ],
      "metadata": {
        "colab": {
          "base_uri": "https://localhost:8080/"
        },
        "id": "GOt_pChDSULX",
        "outputId": "c4e47253-58ec-4585-9f37-04c27d88c884"
      },
      "execution_count": 2,
      "outputs": [
        {
          "output_type": "stream",
          "name": "stdout",
          "text": [
            "Downloading data from https://www.cs.toronto.edu/~kriz/cifar-100-python.tar.gz\n",
            "\u001b[1m169001437/169001437\u001b[0m \u001b[32m━━━━━━━━━━━━━━━━━━━━\u001b[0m\u001b[37m\u001b[0m \u001b[1m14s\u001b[0m 0us/step\n",
            "X_train shape: (50000, 32, 32, 3) y_train shape: (50000, 1) uint8 int64\n",
            "X_test shape: (10000, 32, 32, 3) y_test shape: (10000, 1)\n"
          ]
        }
      ]
    },
    {
      "cell_type": "code",
      "source": [
        "print(X_train[0][0][0], y_train[0:10].flatten(), np.unique(y_train))"
      ],
      "metadata": {
        "colab": {
          "base_uri": "https://localhost:8080/"
        },
        "id": "9f6PTC07SbYX",
        "outputId": "2d16aa2b-186d-40f1-8e20-5334288c3f72"
      },
      "execution_count": 3,
      "outputs": [
        {
          "output_type": "stream",
          "name": "stdout",
          "text": [
            "[255 255 255] [19 29  0 11  1 86 90 28 23 31] [ 0  1  2  3  4  5  6  7  8  9 10 11 12 13 14 15 16 17 18 19 20 21 22 23\n",
            " 24 25 26 27 28 29 30 31 32 33 34 35 36 37 38 39 40 41 42 43 44 45 46 47\n",
            " 48 49 50 51 52 53 54 55 56 57 58 59 60 61 62 63 64 65 66 67 68 69 70 71\n",
            " 72 73 74 75 76 77 78 79 80 81 82 83 84 85 86 87 88 89 90 91 92 93 94 95\n",
            " 96 97 98 99]\n"
          ]
        }
      ]
    },
    {
      "cell_type": "code",
      "source": [
        "# Visualize first 10 images\n",
        "# plt.figure(figsize=(3,15))\n",
        "for i in range(10):\n",
        "  plt.subplot(2, 10, i+1)\n",
        "  plt.imshow(X_train[i])\n",
        "  plt.title(f\"Label: {y_train[i][-1]}\", fontsize=8)\n",
        "  plt.axis(\"off\")\n",
        "plt.tight_layout()\n",
        "plt.show"
      ],
      "metadata": {
        "colab": {
          "base_uri": "https://localhost:8080/",
          "height": 269
        },
        "id": "_mlxUYtcSm8R",
        "outputId": "a902d2b2-054e-49db-acb5-2ed3a1a82fe5"
      },
      "execution_count": 4,
      "outputs": [
        {
          "output_type": "execute_result",
          "data": {
            "text/plain": [
              "<function matplotlib.pyplot.show(close=None, block=None)>"
            ],
            "text/html": [
              "<div style=\"max-width:800px; border: 1px solid var(--colab-border-color);\"><style>\n",
              "      pre.function-repr-contents {\n",
              "        overflow-x: auto;\n",
              "        padding: 8px 12px;\n",
              "        max-height: 500px;\n",
              "      }\n",
              "\n",
              "      pre.function-repr-contents.function-repr-contents-collapsed {\n",
              "        cursor: pointer;\n",
              "        max-height: 100px;\n",
              "      }\n",
              "    </style>\n",
              "    <pre style=\"white-space: initial; background:\n",
              "         var(--colab-secondary-surface-color); padding: 8px 12px;\n",
              "         border-bottom: 1px solid var(--colab-border-color);\"><b>matplotlib.pyplot.show</b><br/>def show(*args, **kwargs) -&gt; None</pre><pre class=\"function-repr-contents function-repr-contents-collapsed\" style=\"\"><a class=\"filepath\" style=\"display:none\" href=\"#\">/usr/local/lib/python3.11/dist-packages/matplotlib/pyplot.py</a>Display all open figures.\n",
              "\n",
              "Parameters\n",
              "----------\n",
              "block : bool, optional\n",
              "    Whether to wait for all figures to be closed before returning.\n",
              "\n",
              "    If `True` block and run the GUI main loop until all figure windows\n",
              "    are closed.\n",
              "\n",
              "    If `False` ensure that all figure windows are displayed and return\n",
              "    immediately.  In this case, you are responsible for ensuring\n",
              "    that the event loop is running to have responsive figures.\n",
              "\n",
              "    Defaults to True in non-interactive mode and to False in interactive\n",
              "    mode (see `.pyplot.isinteractive`).\n",
              "\n",
              "See Also\n",
              "--------\n",
              "ion : Enable interactive mode, which shows / updates the figure after\n",
              "      every plotting command, so that calling ``show()`` is not necessary.\n",
              "ioff : Disable interactive mode.\n",
              "savefig : Save the figure to an image file instead of showing it on screen.\n",
              "\n",
              "Notes\n",
              "-----\n",
              "**Saving figures to file and showing a window at the same time**\n",
              "\n",
              "If you want an image file as well as a user interface window, use\n",
              "`.pyplot.savefig` before `.pyplot.show`. At the end of (a blocking)\n",
              "``show()`` the figure is closed and thus unregistered from pyplot. Calling\n",
              "`.pyplot.savefig` afterwards would save a new and thus empty figure. This\n",
              "limitation of command order does not apply if the show is non-blocking or\n",
              "if you keep a reference to the figure and use `.Figure.savefig`.\n",
              "\n",
              "**Auto-show in jupyter notebooks**\n",
              "\n",
              "The jupyter backends (activated via ``%matplotlib inline``,\n",
              "``%matplotlib notebook``, or ``%matplotlib widget``), call ``show()`` at\n",
              "the end of every cell by default. Thus, you usually don&#x27;t have to call it\n",
              "explicitly there.</pre>\n",
              "      <script>\n",
              "      if (google.colab.kernel.accessAllowed && google.colab.files && google.colab.files.view) {\n",
              "        for (const element of document.querySelectorAll('.filepath')) {\n",
              "          element.style.display = 'block'\n",
              "          element.onclick = (event) => {\n",
              "            event.preventDefault();\n",
              "            event.stopPropagation();\n",
              "            google.colab.files.view(element.textContent, 569);\n",
              "          };\n",
              "        }\n",
              "      }\n",
              "      for (const element of document.querySelectorAll('.function-repr-contents')) {\n",
              "        element.onclick = (event) => {\n",
              "          event.preventDefault();\n",
              "          event.stopPropagation();\n",
              "          element.classList.toggle('function-repr-contents-collapsed');\n",
              "        };\n",
              "      }\n",
              "      </script>\n",
              "      </div>"
            ]
          },
          "metadata": {},
          "execution_count": 4
        },
        {
          "output_type": "display_data",
          "data": {
            "text/plain": [
              "<Figure size 640x480 with 10 Axes>"
            ],
            "image/png": "[encoded data removed]"
          },
          "metadata": {}
        }
      ]
    },
    {
      "cell_type": "markdown",
      "source": [
        "Label Format | Loss Function\n",
        "--- | ---\n",
        "One-hot encoded | categorical_crossentropy\n",
        "Integer encoded (0–99) | sparse_categorical_crossentropy\n",
        "\n",
        "For large number of classes (100 in this case), it will be memory efficient to keep labels and integers and use\n",
        "```python\n",
        "loss='sparse_categorical_crossentropy'\n",
        "```\n"
      ],
      "metadata": {
        "id": "8xaf0NSFVfXN"
      }
    },
    {
      "cell_type": "code",
      "source": [
        "splitds = train_test_split(X_train, y_train, test_size=0.3,random_state=42)"
      ],
      "metadata": {
        "id": "IFz02sQmT1r1"
      },
      "execution_count": 5,
      "outputs": []
    },
    {
      "cell_type": "markdown",
      "source": [],
      "metadata": {
        "id": "D8S2Gt4TX8sG"
      }
    },
    {
      "cell_type": "code",
      "source": [
        "splitds[0].shape, splitds[1].shape, splitds[2].shape, splitds[3].shape"
      ],
      "metadata": {
        "colab": {
          "base_uri": "https://localhost:8080/"
        },
        "id": "KAi1UZ3nWa7J",
        "outputId": "a2d27dab-c0cb-4f0a-93a7-f621bb08eb83"
      },
      "execution_count": 6,
      "outputs": [
        {
          "output_type": "execute_result",
          "data": {
            "text/plain": [
              "((35000, 32, 32, 3), (15000, 32, 32, 3), (35000, 1), (15000, 1))"
            ]
          },
          "metadata": {},
          "execution_count": 6
        }
      ]
    },
    {
      "cell_type": "code",
      "source": [
        "y_training_counts = np.bincount(splitds[2].flatten())\n",
        "ytrain_pct = y_training_counts / y_training_counts.sum() * 100\n",
        "y_val_counts = np.bincount(splitds[3].flatten())\n",
        "yval_pct = y_val_counts / y_val_counts.sum() * 100\n",
        "y_labels = list(range(100))\n",
        "\n",
        "plt.figure(figsize=(18,3))\n",
        "plt.bar(x=y_labels, height=ytrain_pct, width=0.8)\n",
        "plt.bar(x=y_labels, height=yval_pct, width=0.4)\n",
        "plt.xlabel('Class Label')\n",
        "plt.ylabel('Count')\n",
        "plt.title('Class Distribution')\n",
        "plt.xticks(y_labels, rotation=90)\n",
        "plt.tight_layout()\n",
        "plt.show()"
      ],
      "metadata": {
        "colab": {
          "base_uri": "https://localhost:8080/",
          "height": 244
        },
        "id": "8rXAlKA4XEGh",
        "outputId": "95255015-339b-4029-cf64-399b734f36f4"
      },
      "execution_count": 7,
      "outputs": [
        {
          "output_type": "display_data",
          "data": {
            "text/plain": [
              "<Figure size 1800x300 with 1 Axes>"
            ],
            "image/png": "[encoded data removed]"
          },
          "metadata": {}
        }
      ]
    },
    {
      "cell_type": "code",
      "source": [
        "splitdss = train_test_split(X_train, y_train, test_size=0.3,random_state=42, stratify=y_train)\n",
        "splitdss[0].shape, splitdss[1].shape, splitdss[2].shape, splitdss[3].shape"
      ],
      "metadata": {
        "colab": {
          "base_uri": "https://localhost:8080/"
        },
        "id": "gND7a1RIXapE",
        "outputId": "0f15f24c-0820-456b-c756-2594b32232f1"
      },
      "execution_count": 8,
      "outputs": [
        {
          "output_type": "execute_result",
          "data": {
            "text/plain": [
              "((35000, 32, 32, 3), (15000, 32, 32, 3), (35000, 1), (15000, 1))"
            ]
          },
          "metadata": {},
          "execution_count": 8
        }
      ]
    },
    {
      "cell_type": "code",
      "source": [
        "x_labels = list(range(100))\n",
        "ytrain_count = np.bincount(splitdss[2].ravel())\n",
        "ytrain_count"
      ],
      "metadata": {
        "colab": {
          "base_uri": "https://localhost:8080/"
        },
        "id": "IQn7kjL7YuKa",
        "outputId": "219a5f80-8442-4e92-e39b-f19a6d272ca5"
      },
      "execution_count": 9,
      "outputs": [
        {
          "output_type": "execute_result",
          "data": {
            "text/plain": [
              "array([350, 350, 350, 350, 350, 350, 350, 350, 350, 350, 350, 350, 350,\n",
              "       350, 350, 350, 350, 350, 350, 350, 350, 350, 350, 350, 350, 350,\n",
              "       350, 350, 350, 350, 350, 350, 350, 350, 350, 350, 350, 350, 350,\n",
              "       350, 350, 350, 350, 350, 350, 350, 350, 350, 350, 350, 350, 350,\n",
              "       350, 350, 350, 350, 350, 350, 350, 350, 350, 350, 350, 350, 350,\n",
              "       350, 350, 350, 350, 350, 350, 350, 350, 350, 350, 350, 350, 350,\n",
              "       350, 350, 350, 350, 350, 350, 350, 350, 350, 350, 350, 350, 350,\n",
              "       350, 350, 350, 350, 350, 350, 350, 350, 350])"
            ]
          },
          "metadata": {},
          "execution_count": 9
        }
      ]
    },
    {
      "cell_type": "code",
      "source": [
        "np.bincount(y_train.flatten())"
      ],
      "metadata": {
        "colab": {
          "base_uri": "https://localhost:8080/"
        },
        "id": "IH9kGQa1bbFW",
        "outputId": "c66fd089-0c19-4644-c74c-88c8ae7d1cd4"
      },
      "execution_count": 10,
      "outputs": [
        {
          "output_type": "execute_result",
          "data": {
            "text/plain": [
              "array([500, 500, 500, 500, 500, 500, 500, 500, 500, 500, 500, 500, 500,\n",
              "       500, 500, 500, 500, 500, 500, 500, 500, 500, 500, 500, 500, 500,\n",
              "       500, 500, 500, 500, 500, 500, 500, 500, 500, 500, 500, 500, 500,\n",
              "       500, 500, 500, 500, 500, 500, 500, 500, 500, 500, 500, 500, 500,\n",
              "       500, 500, 500, 500, 500, 500, 500, 500, 500, 500, 500, 500, 500,\n",
              "       500, 500, 500, 500, 500, 500, 500, 500, 500, 500, 500, 500, 500,\n",
              "       500, 500, 500, 500, 500, 500, 500, 500, 500, 500, 500, 500, 500,\n",
              "       500, 500, 500, 500, 500, 500, 500, 500, 500])"
            ]
          },
          "metadata": {},
          "execution_count": 10
        }
      ]
    },
    {
      "cell_type": "markdown",
      "source": [
        "---\n",
        "\n",
        "## Model"
      ],
      "metadata": {
        "id": "TqzQ8gh3b0Tl"
      }
    },
    {
      "cell_type": "markdown",
      "source": [
        "Decision Point | Guideline\n",
        "--- | ---\n",
        "🔢 Number of hidden layers | 2–4 layers for starting ANN model\n",
        "💡 Neurons per layer | Start with 512 → 256 → 128 pattern (powers of 2)\n",
        "🧂 Add BatchNorm? | Yes, especially after Dense+ReLU\n",
        "💧 Dropout? | Yes, e.g., Dropout(0.3–0.5) to avoid overfitting\n",
        "🧠 Activation functions | ReLU works well; softmax for final\n",
        "🏁 Final layer | Dense(100, activation='softmax')"
      ],
      "metadata": {
        "id": "ZS2iyJxKdKWV"
      }
    },
    {
      "cell_type": "code",
      "source": [
        "def build_model(learning_rate=0.01):\n",
        "  model = Sequential()\n",
        "  model.add(Flatten(input_shape=(32,32,3)))\n",
        "  for neurons, dr in [(512, 0.3), (256, 0.3), (128, 0.3)]:\n",
        "    model.add(Dense(neurons, activation='relu'))\n",
        "    model.add(BatchNormalization())\n",
        "    model.add(Dropout(dr))\n",
        "  model.add(Dense(100, activation=\"softmax\"))\n",
        "\n",
        "  model.compile(optimizer=tf.keras.optimizers.Adam(learning_rate=learning_rate), loss=\"sparse_categorical_crossentropy\", metrics=['accuracy', TopKCategoricalAccuracy(k=5)])\n",
        "\n",
        "  return model\n",
        "\n",
        "base_model = build_model()\n",
        "base_model.summary()\n"
      ],
      "metadata": {
        "colab": {
          "base_uri": "https://localhost:8080/",
          "height": 583
        },
        "id": "5BWewExfbkVX",
        "outputId": "c2089e13-75e1-481c-f9ea-c321c3ca3563"
      },
      "execution_count": 11,
      "outputs": [
        {
          "output_type": "stream",
          "name": "stderr",
          "text": [
            "/usr/local/lib/python3.11/dist-packages/keras/src/layers/reshaping/flatten.py:37: UserWarning: Do not pass an `input_shape`/`input_dim` argument to a layer. When using Sequential models, prefer using an `Input(shape)` object as the first layer in the model instead.\n",
            "  super().__init__(**kwargs)\n"
          ]
        },
        {
          "output_type": "display_data",
          "data": {
            "text/plain": [
              "\u001b[1mModel: \"sequential\"\u001b[0m\n"
            ],
            "text/html": [
              "<pre style=\"white-space:pre;overflow-x:auto;line-height:normal;font-family:Menlo,'DejaVu Sans Mono',consolas,'Courier New',monospace\"><span style=\"font-weight: bold\">Model: \"sequential\"</span>\n",
              "</pre>\n"
            ]
          },
          "metadata": {}
        },
        {
          "output_type": "display_data",
          "data": {
            "text/plain": [
              "┏━━━━━━━━━━━━━━━━━━━━━━━━━━━━━━━━━┳━━━━━━━━━━━━━━━━━━━━━━━━┳━━━━━━━━━━━━━━━┓\n",
              "┃\u001b[1m \u001b[0m\u001b[1mLayer (type)                   \u001b[0m\u001b[1m \u001b[0m┃\u001b[1m \u001b[0m\u001b[1mOutput Shape          \u001b[0m\u001b[1m \u001b[0m┃\u001b[1m \u001b[0m\u001b[1m      Param #\u001b[0m\u001b[1m \u001b[0m┃\n",
              "┡━━━━━━━━━━━━━━━━━━━━━━━━━━━━━━━━━╇━━━━━━━━━━━━━━━━━━━━━━━━╇━━━━━━━━━━━━━━━┩\n",
              "│ flatten (\u001b[38;5;33mFlatten\u001b[0m)               │ (\u001b[38;5;45mNone\u001b[0m, \u001b[38;5;34m3072\u001b[0m)           │             \u001b[38;5;34m0\u001b[0m │\n",
              "├─────────────────────────────────┼────────────────────────┼───────────────┤\n",
              "│ dense (\u001b[38;5;33mDense\u001b[0m)                   │ (\u001b[38;5;45mNone\u001b[0m, \u001b[38;5;34m512\u001b[0m)            │     \u001b[38;5;34m1,573,376\u001b[0m │\n",
              "├─────────────────────────────────┼────────────────────────┼───────────────┤\n",
              "│ batch_normalization             │ (\u001b[38;5;45mNone\u001b[0m, \u001b[38;5;34m512\u001b[0m)            │         \u001b[38;5;34m2,048\u001b[0m │\n",
              "│ (\u001b[38;5;33mBatchNormalization\u001b[0m)            │                        │               │\n",
              "├─────────────────────────────────┼────────────────────────┼───────────────┤\n",
              "│ dropout (\u001b[38;5;33mDropout\u001b[0m)               │ (\u001b[38;5;45mNone\u001b[0m, \u001b[38;5;34m512\u001b[0m)            │             \u001b[38;5;34m0\u001b[0m │\n",
              "├─────────────────────────────────┼────────────────────────┼───────────────┤\n",
              "│ dense_1 (\u001b[38;5;33mDense\u001b[0m)                 │ (\u001b[38;5;45mNone\u001b[0m, \u001b[38;5;34m256\u001b[0m)            │       \u001b[38;5;34m131,328\u001b[0m │\n",
              "├─────────────────────────────────┼────────────────────────┼───────────────┤\n",
              "│ batch_normalization_1           │ (\u001b[38;5;45mNone\u001b[0m, \u001b[38;5;34m256\u001b[0m)            │         \u001b[38;5;34m1,024\u001b[0m │\n",
              "│ (\u001b[38;5;33mBatchNormalization\u001b[0m)            │                        │               │\n",
              "├─────────────────────────────────┼────────────────────────┼───────────────┤\n",
              "│ dropout_1 (\u001b[38;5;33mDropout\u001b[0m)             │ (\u001b[38;5;45mNone\u001b[0m, \u001b[38;5;34m256\u001b[0m)            │             \u001b[38;5;34m0\u001b[0m │\n",
              "├─────────────────────────────────┼────────────────────────┼───────────────┤\n",
              "│ dense_2 (\u001b[38;5;33mDense\u001b[0m)                 │ (\u001b[38;5;45mNone\u001b[0m, \u001b[38;5;34m128\u001b[0m)            │        \u001b[38;5;34m32,896\u001b[0m │\n",
              "├─────────────────────────────────┼────────────────────────┼───────────────┤\n",
              "│ batch_normalization_2           │ (\u001b[38;5;45mNone\u001b[0m, \u001b[38;5;34m128\u001b[0m)            │           \u001b[38;5;34m512\u001b[0m │\n",
              "│ (\u001b[38;5;33mBatchNormalization\u001b[0m)            │                        │               │\n",
              "├─────────────────────────────────┼────────────────────────┼───────────────┤\n",
              "│ dropout_2 (\u001b[38;5;33mDropout\u001b[0m)             │ (\u001b[38;5;45mNone\u001b[0m, \u001b[38;5;34m128\u001b[0m)            │             \u001b[38;5;34m0\u001b[0m │\n",
              "├─────────────────────────────────┼────────────────────────┼───────────────┤\n",
              "│ dense_3 (\u001b[38;5;33mDense\u001b[0m)                 │ (\u001b[38;5;45mNone\u001b[0m, \u001b[38;5;34m100\u001b[0m)            │        \u001b[38;5;34m12,900\u001b[0m │\n",
              "└─────────────────────────────────┴────────────────────────┴───────────────┘\n"
            ],
            "text/html": [
              "<pre style=\"white-space:pre;overflow-x:auto;line-height:normal;font-family:Menlo,'DejaVu Sans Mono',consolas,'Courier New',monospace\">┏━━━━━━━━━━━━━━━━━━━━━━━━━━━━━━━━━┳━━━━━━━━━━━━━━━━━━━━━━━━┳━━━━━━━━━━━━━━━┓\n",
              "┃<span style=\"font-weight: bold\"> Layer (type)                    </span>┃<span style=\"font-weight: bold\"> Output Shape           </span>┃<span style=\"font-weight: bold\">       Param # </span>┃\n",
              "┡━━━━━━━━━━━━━━━━━━━━━━━━━━━━━━━━━╇━━━━━━━━━━━━━━━━━━━━━━━━╇━━━━━━━━━━━━━━━┩\n",
              "│ flatten (<span style=\"color: #0087ff; text-decoration-color: #0087ff\">Flatten</span>)               │ (<span style=\"color: #00d7ff; text-decoration-color: #00d7ff\">None</span>, <span style=\"color: #00af00; text-decoration-color: #00af00\">3072</span>)           │             <span style=\"color: #00af00; text-decoration-color: #00af00\">0</span> │\n",
              "├─────────────────────────────────┼────────────────────────┼───────────────┤\n",
              "│ dense (<span style=\"color: #0087ff; text-decoration-color: #0087ff\">Dense</span>)                   │ (<span style=\"color: #00d7ff; text-decoration-color: #00d7ff\">None</span>, <span style=\"color: #00af00; text-decoration-color: #00af00\">512</span>)            │     <span style=\"color: #00af00; text-decoration-color: #00af00\">1,573,376</span> │\n",
              "├─────────────────────────────────┼────────────────────────┼───────────────┤\n",
              "│ batch_normalization             │ (<span style=\"color: #00d7ff; text-decoration-color: #00d7ff\">None</span>, <span style=\"color: #00af00; text-decoration-color: #00af00\">512</span>)            │         <span style=\"color: #00af00; text-decoration-color: #00af00\">2,048</span> │\n",
              "│ (<span style=\"color: #0087ff; text-decoration-color: #0087ff\">BatchNormalization</span>)            │                        │               │\n",
              "├─────────────────────────────────┼────────────────────────┼───────────────┤\n",
              "│ dropout (<span style=\"color: #0087ff; text-decoration-color: #0087ff\">Dropout</span>)               │ (<span style=\"color: #00d7ff; text-decoration-color: #00d7ff\">None</span>, <span style=\"color: #00af00; text-decoration-color: #00af00\">512</span>)            │             <span style=\"color: #00af00; text-decoration-color: #00af00\">0</span> │\n",
              "├─────────────────────────────────┼────────────────────────┼───────────────┤\n",
              "│ dense_1 (<span style=\"color: #0087ff; text-decoration-color: #0087ff\">Dense</span>)                 │ (<span style=\"color: #00d7ff; text-decoration-color: #00d7ff\">None</span>, <span style=\"color: #00af00; text-decoration-color: #00af00\">256</span>)            │       <span style=\"color: #00af00; text-decoration-color: #00af00\">131,328</span> │\n",
              "├─────────────────────────────────┼────────────────────────┼───────────────┤\n",
              "│ batch_normalization_1           │ (<span style=\"color: #00d7ff; text-decoration-color: #00d7ff\">None</span>, <span style=\"color: #00af00; text-decoration-color: #00af00\">256</span>)            │         <span style=\"color: #00af00; text-decoration-color: #00af00\">1,024</span> │\n",
              "│ (<span style=\"color: #0087ff; text-decoration-color: #0087ff\">BatchNormalization</span>)            │                        │               │\n",
              "├─────────────────────────────────┼────────────────────────┼───────────────┤\n",
              "│ dropout_1 (<span style=\"color: #0087ff; text-decoration-color: #0087ff\">Dropout</span>)             │ (<span style=\"color: #00d7ff; text-decoration-color: #00d7ff\">None</span>, <span style=\"color: #00af00; text-decoration-color: #00af00\">256</span>)            │             <span style=\"color: #00af00; text-decoration-color: #00af00\">0</span> │\n",
              "├─────────────────────────────────┼────────────────────────┼───────────────┤\n",
              "│ dense_2 (<span style=\"color: #0087ff; text-decoration-color: #0087ff\">Dense</span>)                 │ (<span style=\"color: #00d7ff; text-decoration-color: #00d7ff\">None</span>, <span style=\"color: #00af00; text-decoration-color: #00af00\">128</span>)            │        <span style=\"color: #00af00; text-decoration-color: #00af00\">32,896</span> │\n",
              "├─────────────────────────────────┼────────────────────────┼───────────────┤\n",
              "│ batch_normalization_2           │ (<span style=\"color: #00d7ff; text-decoration-color: #00d7ff\">None</span>, <span style=\"color: #00af00; text-decoration-color: #00af00\">128</span>)            │           <span style=\"color: #00af00; text-decoration-color: #00af00\">512</span> │\n",
              "│ (<span style=\"color: #0087ff; text-decoration-color: #0087ff\">BatchNormalization</span>)            │                        │               │\n",
              "├─────────────────────────────────┼────────────────────────┼───────────────┤\n",
              "│ dropout_2 (<span style=\"color: #0087ff; text-decoration-color: #0087ff\">Dropout</span>)             │ (<span style=\"color: #00d7ff; text-decoration-color: #00d7ff\">None</span>, <span style=\"color: #00af00; text-decoration-color: #00af00\">128</span>)            │             <span style=\"color: #00af00; text-decoration-color: #00af00\">0</span> │\n",
              "├─────────────────────────────────┼────────────────────────┼───────────────┤\n",
              "│ dense_3 (<span style=\"color: #0087ff; text-decoration-color: #0087ff\">Dense</span>)                 │ (<span style=\"color: #00d7ff; text-decoration-color: #00d7ff\">None</span>, <span style=\"color: #00af00; text-decoration-color: #00af00\">100</span>)            │        <span style=\"color: #00af00; text-decoration-color: #00af00\">12,900</span> │\n",
              "└─────────────────────────────────┴────────────────────────┴───────────────┘\n",
              "</pre>\n"
            ]
          },
          "metadata": {}
        },
        {
          "output_type": "display_data",
          "data": {
            "text/plain": [
              "\u001b[1m Total params: \u001b[0m\u001b[38;5;34m1,754,084\u001b[0m (6.69 MB)\n"
            ],
            "text/html": [
              "<pre style=\"white-space:pre;overflow-x:auto;line-height:normal;font-family:Menlo,'DejaVu Sans Mono',consolas,'Courier New',monospace\"><span style=\"font-weight: bold\"> Total params: </span><span style=\"color: #00af00; text-decoration-color: #00af00\">1,754,084</span> (6.69 MB)\n",
              "</pre>\n"
            ]
          },
          "metadata": {}
        },
        {
          "output_type": "display_data",
          "data": {
            "text/plain": [
              "\u001b[1m Trainable params: \u001b[0m\u001b[38;5;34m1,752,292\u001b[0m (6.68 MB)\n"
            ],
            "text/html": [
              "<pre style=\"white-space:pre;overflow-x:auto;line-height:normal;font-family:Menlo,'DejaVu Sans Mono',consolas,'Courier New',monospace\"><span style=\"font-weight: bold\"> Trainable params: </span><span style=\"color: #00af00; text-decoration-color: #00af00\">1,752,292</span> (6.68 MB)\n",
              "</pre>\n"
            ]
          },
          "metadata": {}
        },
        {
          "output_type": "display_data",
          "data": {
            "text/plain": [
              "\u001b[1m Non-trainable params: \u001b[0m\u001b[38;5;34m1,792\u001b[0m (7.00 KB)\n"
            ],
            "text/html": [
              "<pre style=\"white-space:pre;overflow-x:auto;line-height:normal;font-family:Menlo,'DejaVu Sans Mono',consolas,'Courier New',monospace\"><span style=\"font-weight: bold\"> Non-trainable params: </span><span style=\"color: #00af00; text-decoration-color: #00af00\">1,792</span> (7.00 KB)\n",
              "</pre>\n"
            ]
          },
          "metadata": {}
        }
      ]
    },
    {
      "cell_type": "code",
      "source": [
        "ann_trained = base_model.fit(X_train, y_train, epochs=40, batch_size=200, validation_split=0.3, verbose=1)"
      ],
      "metadata": {
        "colab": {
          "base_uri": "https://localhost:8080/"
        },
        "id": "_1J9zv8Xd3QX",
        "outputId": "2ac8d5e6-5234-4fc7-d25c-1968298e3670"
      },
      "execution_count": 12,
      "outputs": [
        {
          "output_type": "stream",
          "name": "stdout",
          "text": [
            "Epoch 1/40\n",
            "\u001b[1m175/175\u001b[0m \u001b[32m━━━━━━━━━━━━━━━━━━━━\u001b[0m\u001b[37m\u001b[0m \u001b[1m11s\u001b[0m 10ms/step - accuracy: 0.0496 - loss: 4.4470 - top_k_categorical_accuracy: 0.0576 - val_accuracy: 0.1015 - val_loss: 3.8860 - val_top_k_categorical_accuracy: 0.0738\n",
            "Epoch 2/40\n",
            "\u001b[1m175/175\u001b[0m \u001b[32m━━━━━━━━━━━━━━━━━━━━\u001b[0m\u001b[37m\u001b[0m \u001b[1m1s\u001b[0m 5ms/step - accuracy: 0.1101 - loss: 3.8098 - top_k_categorical_accuracy: 0.0496 - val_accuracy: 0.1147 - val_loss: 3.7981 - val_top_k_categorical_accuracy: 0.0104\n",
            "Epoch 3/40\n",
            "\u001b[1m175/175\u001b[0m \u001b[32m━━━━━━━━━━━━━━━━━━━━\u001b[0m\u001b[37m\u001b[0m \u001b[1m1s\u001b[0m 7ms/step - accuracy: 0.1316 - loss: 3.6804 - top_k_categorical_accuracy: 0.0446 - val_accuracy: 0.1017 - val_loss: 3.9724 - val_top_k_categorical_accuracy: 0.0261\n",
            "Epoch 4/40\n",
            "\u001b[1m175/175\u001b[0m \u001b[32m━━━━━━━━━━━━━━━━━━━━\u001b[0m\u001b[37m\u001b[0m \u001b[1m1s\u001b[0m 6ms/step - accuracy: 0.1415 - loss: 3.6284 - top_k_categorical_accuracy: 0.0480 - val_accuracy: 0.1483 - val_loss: 3.6123 - val_top_k_categorical_accuracy: 0.0673\n",
            "Epoch 5/40\n",
            "\u001b[1m175/175\u001b[0m \u001b[32m━━━━━━━━━━━━━━━━━━━━\u001b[0m\u001b[37m\u001b[0m \u001b[1m1s\u001b[0m 7ms/step - accuracy: 0.1529 - loss: 3.5507 - top_k_categorical_accuracy: 0.0462 - val_accuracy: 0.1393 - val_loss: 3.7050 - val_top_k_categorical_accuracy: 0.0276\n",
            "Epoch 6/40\n",
            "\u001b[1m175/175\u001b[0m \u001b[32m━━━━━━━━━━━━━━━━━━━━\u001b[0m\u001b[37m\u001b[0m \u001b[1m1s\u001b[0m 6ms/step - accuracy: 0.1649 - loss: 3.5046 - top_k_categorical_accuracy: 0.0461 - val_accuracy: 0.1718 - val_loss: 3.5451 - val_top_k_categorical_accuracy: 0.0485\n",
            "Epoch 7/40\n",
            "\u001b[1m175/175\u001b[0m \u001b[32m━━━━━━━━━━━━━━━━━━━━\u001b[0m\u001b[37m\u001b[0m \u001b[1m1s\u001b[0m 5ms/step - accuracy: 0.1761 - loss: 3.4617 - top_k_categorical_accuracy: 0.0519 - val_accuracy: 0.1578 - val_loss: 3.6393 - val_top_k_categorical_accuracy: 0.0489\n",
            "Epoch 8/40\n",
            "\u001b[1m175/175\u001b[0m \u001b[32m━━━━━━━━━━━━━━━━━━━━\u001b[0m\u001b[37m\u001b[0m \u001b[1m1s\u001b[0m 6ms/step - accuracy: 0.1694 - loss: 3.4613 - top_k_categorical_accuracy: 0.0502 - val_accuracy: 0.1737 - val_loss: 3.5642 - val_top_k_categorical_accuracy: 0.0845\n",
            "Epoch 9/40\n",
            "\u001b[1m175/175\u001b[0m \u001b[32m━━━━━━━━━━━━━━━━━━━━\u001b[0m\u001b[37m\u001b[0m \u001b[1m1s\u001b[0m 6ms/step - accuracy: 0.1823 - loss: 3.3987 - top_k_categorical_accuracy: 0.0508 - val_accuracy: 0.1887 - val_loss: 3.4565 - val_top_k_categorical_accuracy: 0.0390\n",
            "Epoch 10/40\n",
            "\u001b[1m175/175\u001b[0m \u001b[32m━━━━━━━━━━━━━━━━━━━━\u001b[0m\u001b[37m\u001b[0m \u001b[1m1s\u001b[0m 5ms/step - accuracy: 0.1830 - loss: 3.4044 - top_k_categorical_accuracy: 0.0480 - val_accuracy: 0.1619 - val_loss: 3.6238 - val_top_k_categorical_accuracy: 0.0696\n",
            "Epoch 11/40\n",
            "\u001b[1m175/175\u001b[0m \u001b[32m━━━━━━━━━━━━━━━━━━━━\u001b[0m\u001b[37m\u001b[0m \u001b[1m1s\u001b[0m 5ms/step - accuracy: 0.1801 - loss: 3.3867 - top_k_categorical_accuracy: 0.0449 - val_accuracy: 0.1801 - val_loss: 3.5866 - val_top_k_categorical_accuracy: 0.0621\n",
            "Epoch 12/40\n",
            "\u001b[1m175/175\u001b[0m \u001b[32m━━━━━━━━━━━━━━━━━━━━\u001b[0m\u001b[37m\u001b[0m \u001b[1m1s\u001b[0m 5ms/step - accuracy: 0.1871 - loss: 3.3749 - top_k_categorical_accuracy: 0.0493 - val_accuracy: 0.1261 - val_loss: 4.0409 - val_top_k_categorical_accuracy: 0.0766\n",
            "Epoch 13/40\n",
            "\u001b[1m175/175\u001b[0m \u001b[32m━━━━━━━━━━━━━━━━━━━━\u001b[0m\u001b[37m\u001b[0m \u001b[1m1s\u001b[0m 6ms/step - accuracy: 0.1900 - loss: 3.3605 - top_k_categorical_accuracy: 0.0480 - val_accuracy: 0.1577 - val_loss: 3.7128 - val_top_k_categorical_accuracy: 0.0495\n",
            "Epoch 14/40\n",
            "\u001b[1m175/175\u001b[0m \u001b[32m━━━━━━━━━━━━━━━━━━━━\u001b[0m\u001b[37m\u001b[0m \u001b[1m1s\u001b[0m 7ms/step - accuracy: 0.1894 - loss: 3.3600 - top_k_categorical_accuracy: 0.0468 - val_accuracy: 0.1907 - val_loss: 3.6503 - val_top_k_categorical_accuracy: 0.0671\n",
            "Epoch 15/40\n",
            "\u001b[1m175/175\u001b[0m \u001b[32m━━━━━━━━━━━━━━━━━━━━\u001b[0m\u001b[37m\u001b[0m \u001b[1m1s\u001b[0m 5ms/step - accuracy: 0.1955 - loss: 3.3262 - top_k_categorical_accuracy: 0.0484 - val_accuracy: 0.1956 - val_loss: 3.6855 - val_top_k_categorical_accuracy: 0.0674\n",
            "Epoch 16/40\n",
            "\u001b[1m175/175\u001b[0m \u001b[32m━━━━━━━━━━━━━━━━━━━━\u001b[0m\u001b[37m\u001b[0m \u001b[1m1s\u001b[0m 6ms/step - accuracy: 0.1985 - loss: 3.2961 - top_k_categorical_accuracy: 0.0476 - val_accuracy: 0.2020 - val_loss: 3.6103 - val_top_k_categorical_accuracy: 0.0554\n",
            "Epoch 17/40\n",
            "\u001b[1m175/175\u001b[0m \u001b[32m━━━━━━━━━━━━━━━━━━━━\u001b[0m\u001b[37m\u001b[0m \u001b[1m1s\u001b[0m 5ms/step - accuracy: 0.1983 - loss: 3.2984 - top_k_categorical_accuracy: 0.0479 - val_accuracy: 0.2073 - val_loss: 3.5994 - val_top_k_categorical_accuracy: 0.0381\n",
            "Epoch 18/40\n",
            "\u001b[1m175/175\u001b[0m \u001b[32m━━━━━━━━━━━━━━━━━━━━\u001b[0m\u001b[37m\u001b[0m \u001b[1m1s\u001b[0m 6ms/step - accuracy: 0.2052 - loss: 3.2810 - top_k_categorical_accuracy: 0.0440 - val_accuracy: 0.2045 - val_loss: 3.7413 - val_top_k_categorical_accuracy: 0.0665\n",
            "Epoch 19/40\n",
            "\u001b[1m175/175\u001b[0m \u001b[32m━━━━━━━━━━━━━━━━━━━━\u001b[0m\u001b[37m\u001b[0m \u001b[1m1s\u001b[0m 5ms/step - accuracy: 0.2056 - loss: 3.2717 - top_k_categorical_accuracy: 0.0463 - val_accuracy: 0.2047 - val_loss: 3.7924 - val_top_k_categorical_accuracy: 0.0414\n",
            "Epoch 20/40\n",
            "\u001b[1m175/175\u001b[0m \u001b[32m━━━━━━━━━━━━━━━━━━━━\u001b[0m\u001b[37m\u001b[0m \u001b[1m1s\u001b[0m 5ms/step - accuracy: 0.1988 - loss: 3.2825 - top_k_categorical_accuracy: 0.0459 - val_accuracy: 0.2017 - val_loss: 3.8356 - val_top_k_categorical_accuracy: 0.0775\n",
            "Epoch 21/40\n",
            "\u001b[1m175/175\u001b[0m \u001b[32m━━━━━━━━━━━━━━━━━━━━\u001b[0m\u001b[37m\u001b[0m \u001b[1m1s\u001b[0m 6ms/step - accuracy: 0.2072 - loss: 3.2599 - top_k_categorical_accuracy: 0.0527 - val_accuracy: 0.2091 - val_loss: 3.7547 - val_top_k_categorical_accuracy: 0.0360\n",
            "Epoch 22/40\n",
            "\u001b[1m175/175\u001b[0m \u001b[32m━━━━━━━━━━━━━━━━━━━━\u001b[0m\u001b[37m\u001b[0m \u001b[1m1s\u001b[0m 6ms/step - accuracy: 0.2030 - loss: 3.2680 - top_k_categorical_accuracy: 0.0440 - val_accuracy: 0.2081 - val_loss: 3.7786 - val_top_k_categorical_accuracy: 0.0677\n",
            "Epoch 23/40\n",
            "\u001b[1m175/175\u001b[0m \u001b[32m━━━━━━━━━━━━━━━━━━━━\u001b[0m\u001b[37m\u001b[0m \u001b[1m1s\u001b[0m 5ms/step - accuracy: 0.2105 - loss: 3.2264 - top_k_categorical_accuracy: 0.0502 - val_accuracy: 0.2054 - val_loss: 3.8448 - val_top_k_categorical_accuracy: 0.0640\n",
            "Epoch 24/40\n",
            "\u001b[1m175/175\u001b[0m \u001b[32m━━━━━━━━━━━━━━━━━━━━\u001b[0m\u001b[37m\u001b[0m \u001b[1m1s\u001b[0m 6ms/step - accuracy: 0.2101 - loss: 3.2349 - top_k_categorical_accuracy: 0.0435 - val_accuracy: 0.2115 - val_loss: 3.7896 - val_top_k_categorical_accuracy: 0.0435\n",
            "Epoch 25/40\n",
            "\u001b[1m175/175\u001b[0m \u001b[32m━━━━━━━━━━━━━━━━━━━━\u001b[0m\u001b[37m\u001b[0m \u001b[1m1s\u001b[0m 7ms/step - accuracy: 0.2101 - loss: 3.2322 - top_k_categorical_accuracy: 0.0477 - val_accuracy: 0.2140 - val_loss: 3.7520 - val_top_k_categorical_accuracy: 0.0446\n",
            "Epoch 26/40\n",
            "\u001b[1m175/175\u001b[0m \u001b[32m━━━━━━━━━━━━━━━━━━━━\u001b[0m\u001b[37m\u001b[0m \u001b[1m1s\u001b[0m 5ms/step - accuracy: 0.2130 - loss: 3.2087 - top_k_categorical_accuracy: 0.0506 - val_accuracy: 0.2201 - val_loss: 3.7116 - val_top_k_categorical_accuracy: 0.0512\n",
            "Epoch 27/40\n",
            "\u001b[1m175/175\u001b[0m \u001b[32m━━━━━━━━━━━━━━━━━━━━\u001b[0m\u001b[37m\u001b[0m \u001b[1m1s\u001b[0m 6ms/step - accuracy: 0.2160 - loss: 3.2101 - top_k_categorical_accuracy: 0.0439 - val_accuracy: 0.2137 - val_loss: 3.7459 - val_top_k_categorical_accuracy: 0.0251\n",
            "Epoch 28/40\n",
            "\u001b[1m175/175\u001b[0m \u001b[32m━━━━━━━━━━━━━━━━━━━━\u001b[0m\u001b[37m\u001b[0m \u001b[1m1s\u001b[0m 5ms/step - accuracy: 0.2141 - loss: 3.2225 - top_k_categorical_accuracy: 0.0438 - val_accuracy: 0.2191 - val_loss: 3.7354 - val_top_k_categorical_accuracy: 0.0704\n",
            "Epoch 29/40\n",
            "\u001b[1m175/175\u001b[0m \u001b[32m━━━━━━━━━━━━━━━━━━━━\u001b[0m\u001b[37m\u001b[0m \u001b[1m1s\u001b[0m 5ms/step - accuracy: 0.2210 - loss: 3.1812 - top_k_categorical_accuracy: 0.0488 - val_accuracy: 0.2250 - val_loss: 3.7035 - val_top_k_categorical_accuracy: 0.0482\n",
            "Epoch 30/40\n",
            "\u001b[1m175/175\u001b[0m \u001b[32m━━━━━━━━━━━━━━━━━━━━\u001b[0m\u001b[37m\u001b[0m \u001b[1m1s\u001b[0m 6ms/step - accuracy: 0.2200 - loss: 3.1746 - top_k_categorical_accuracy: 0.0461 - val_accuracy: 0.2215 - val_loss: 3.7811 - val_top_k_categorical_accuracy: 0.0385\n",
            "Epoch 31/40\n",
            "\u001b[1m175/175\u001b[0m \u001b[32m━━━━━━━━━━━━━━━━━━━━\u001b[0m\u001b[37m\u001b[0m \u001b[1m1s\u001b[0m 5ms/step - accuracy: 0.2201 - loss: 3.1881 - top_k_categorical_accuracy: 0.0470 - val_accuracy: 0.2195 - val_loss: 3.7220 - val_top_k_categorical_accuracy: 0.0511\n",
            "Epoch 32/40\n",
            "\u001b[1m175/175\u001b[0m \u001b[32m━━━━━━━━━━━━━━━━━━━━\u001b[0m\u001b[37m\u001b[0m \u001b[1m1s\u001b[0m 6ms/step - accuracy: 0.2155 - loss: 3.1910 - top_k_categorical_accuracy: 0.0485 - val_accuracy: 0.2255 - val_loss: 3.7711 - val_top_k_categorical_accuracy: 0.0557\n",
            "Epoch 33/40\n",
            "\u001b[1m175/175\u001b[0m \u001b[32m━━━━━━━━━━━━━━━━━━━━\u001b[0m\u001b[37m\u001b[0m \u001b[1m1s\u001b[0m 6ms/step - accuracy: 0.2233 - loss: 3.1737 - top_k_categorical_accuracy: 0.0491 - val_accuracy: 0.1708 - val_loss: 4.0806 - val_top_k_categorical_accuracy: 0.0261\n",
            "Epoch 34/40\n",
            "\u001b[1m175/175\u001b[0m \u001b[32m━━━━━━━━━━━━━━━━━━━━\u001b[0m\u001b[37m\u001b[0m \u001b[1m1s\u001b[0m 7ms/step - accuracy: 0.2216 - loss: 3.1756 - top_k_categorical_accuracy: 0.0473 - val_accuracy: 0.2107 - val_loss: 3.7755 - val_top_k_categorical_accuracy: 0.0696\n",
            "Epoch 35/40\n",
            "\u001b[1m175/175\u001b[0m \u001b[32m━━━━━━━━━━━━━━━━━━━━\u001b[0m\u001b[37m\u001b[0m \u001b[1m1s\u001b[0m 6ms/step - accuracy: 0.2247 - loss: 3.1554 - top_k_categorical_accuracy: 0.0434 - val_accuracy: 0.2249 - val_loss: 3.7400 - val_top_k_categorical_accuracy: 0.0393\n",
            "Epoch 36/40\n",
            "\u001b[1m175/175\u001b[0m \u001b[32m━━━━━━━━━━━━━━━━━━━━\u001b[0m\u001b[37m\u001b[0m \u001b[1m1s\u001b[0m 5ms/step - accuracy: 0.2268 - loss: 3.1521 - top_k_categorical_accuracy: 0.0481 - val_accuracy: 0.2178 - val_loss: 3.7934 - val_top_k_categorical_accuracy: 0.0789\n",
            "Epoch 37/40\n",
            "\u001b[1m175/175\u001b[0m \u001b[32m━━━━━━━━━━━━━━━━━━━━\u001b[0m\u001b[37m\u001b[0m \u001b[1m1s\u001b[0m 5ms/step - accuracy: 0.2264 - loss: 3.1531 - top_k_categorical_accuracy: 0.0479 - val_accuracy: 0.2187 - val_loss: 3.7049 - val_top_k_categorical_accuracy: 0.0561\n",
            "Epoch 38/40\n",
            "\u001b[1m175/175\u001b[0m \u001b[32m━━━━━━━━━━━━━━━━━━━━\u001b[0m\u001b[37m\u001b[0m \u001b[1m1s\u001b[0m 5ms/step - accuracy: 0.2270 - loss: 3.1297 - top_k_categorical_accuracy: 0.0491 - val_accuracy: 0.2170 - val_loss: 3.7556 - val_top_k_categorical_accuracy: 0.0359\n",
            "Epoch 39/40\n",
            "\u001b[1m175/175\u001b[0m \u001b[32m━━━━━━━━━━━━━━━━━━━━\u001b[0m\u001b[37m\u001b[0m \u001b[1m1s\u001b[0m 6ms/step - accuracy: 0.2243 - loss: 3.1566 - top_k_categorical_accuracy: 0.0506 - val_accuracy: 0.2135 - val_loss: 3.7796 - val_top_k_categorical_accuracy: 0.0423\n",
            "Epoch 40/40\n",
            "\u001b[1m175/175\u001b[0m \u001b[32m━━━━━━━━━━━━━━━━━━━━\u001b[0m\u001b[37m\u001b[0m \u001b[1m1s\u001b[0m 5ms/step - accuracy: 0.2304 - loss: 3.1319 - top_k_categorical_accuracy: 0.0506 - val_accuracy: 0.2124 - val_loss: 3.7612 - val_top_k_categorical_accuracy: 0.0391\n"
          ]
        }
      ]
    },
    {
      "cell_type": "code",
      "source": [
        "# Evalaute base_model\n",
        "base_model.evaluate(X_test, y_test)"
      ],
      "metadata": {
        "colab": {
          "base_uri": "https://localhost:8080/"
        },
        "id": "VTDJ6Av7epY9",
        "outputId": "3c270ffa-c7ea-4861-b565-58c76e3adaca"
      },
      "execution_count": 13,
      "outputs": [
        {
          "output_type": "stream",
          "name": "stdout",
          "text": [
            "\u001b[1m313/313\u001b[0m \u001b[32m━━━━━━━━━━━━━━━━━━━━\u001b[0m\u001b[37m\u001b[0m \u001b[1m2s\u001b[0m 4ms/step - accuracy: 0.2145 - loss: 3.4704 - top_k_categorical_accuracy: 0.0370\n"
          ]
        },
        {
          "output_type": "execute_result",
          "data": {
            "text/plain": [
              "[3.4660558700561523, 0.21610000729560852, 0.03689999878406525]"
            ]
          },
          "metadata": {},
          "execution_count": 13
        }
      ]
    },
    {
      "cell_type": "code",
      "source": [
        "base_model.save(\"cifar10_base_ann.keras\", overwrite=True)"
      ],
      "metadata": {
        "id": "9rMvxnklergf"
      },
      "execution_count": 14,
      "outputs": []
    },
    {
      "cell_type": "code",
      "source": [
        "ann_trained.history.keys()"
      ],
      "metadata": {
        "colab": {
          "base_uri": "https://localhost:8080/"
        },
        "id": "2rAd9QidH0nk",
        "outputId": "a99cefde-3a6e-4c02-ca85-e7ab9dd9fc94"
      },
      "execution_count": 19,
      "outputs": [
        {
          "output_type": "execute_result",
          "data": {
            "text/plain": [
              "dict_keys(['accuracy', 'loss', 'top_k_categorical_accuracy', 'val_accuracy', 'val_loss', 'val_top_k_categorical_accuracy'])"
            ]
          },
          "metadata": {},
          "execution_count": 19
        }
      ]
    },
    {
      "cell_type": "code",
      "source": [
        "str(ann_trained.epoch)"
      ],
      "metadata": {
        "colab": {
          "base_uri": "https://localhost:8080/",
          "height": 35
        },
        "id": "erv_J4rXH7Y9",
        "outputId": "04264791-676b-4bb9-b98e-0313ed32a8c8"
      },
      "execution_count": 23,
      "outputs": [
        {
          "output_type": "execute_result",
          "data": {
            "text/plain": [
              "'[0, 1, 2, 3, 4, 5, 6, 7, 8, 9, 10, 11, 12, 13, 14, 15, 16, 17, 18, 19, 20, 21, 22, 23, 24, 25, 26, 27, 28, 29, 30, 31, 32, 33, 34, 35, 36, 37, 38, 39]'"
            ],
            "application/vnd.google.colaboratory.intrinsic+json": {
              "type": "string"
            }
          },
          "metadata": {},
          "execution_count": 23
        }
      ]
    },
    {
      "cell_type": "code",
      "source": [
        "ann_metric_df = pd.DataFrame({\n",
        "    \"epochs\": ann_trained.epoch,\n",
        "    \"accuracy\": ann_trained.history[\"accuracy\"],\n",
        "    \"loss\": ann_trained.history[\"loss\"],\n",
        "    \"val_accuracy\": ann_trained.history[\"val_accuracy\"],\n",
        "    \"val_loss\": ann_trained.history[\"val_loss\"],\n",
        "    \"top_k_categorical_accuracy\": ann_trained.history[\"top_k_categorical_accuracy\"],\n",
        "    })\n",
        "\n",
        "ann_metric_df"
      ],
      "metadata": {
        "colab": {
          "base_uri": "https://localhost:8080/",
          "height": 1000
        },
        "id": "0-knEbdAIJby",
        "outputId": "a0472865-70c5-48f2-cdc4-9bf1eb696bed"
      },
      "execution_count": 33,
      "outputs": [
        {
          "output_type": "execute_result",
          "data": {
            "text/plain": [
              "    epochs  accuracy      loss  val_accuracy  val_loss  \\\n",
              "0        0  0.067486  4.174543      0.101467  3.886038   \n",
              "1        1  0.114486  3.786544      0.114733  3.798116   \n",
              "2        2  0.131914  3.682947      0.101667  3.972421   \n",
              "3        3  0.144000  3.618383      0.148267  3.612283   \n",
              "4        4  0.152400  3.559607      0.139333  3.704959   \n",
              "5        5  0.161086  3.519577      0.171800  3.545086   \n",
              "6        6  0.169200  3.492760      0.157800  3.639315   \n",
              "7        7  0.170600  3.460587      0.173667  3.564185   \n",
              "8        8  0.177314  3.430671      0.188667  3.456487   \n",
              "9        9  0.179314  3.413088      0.161933  3.623834   \n",
              "10      10  0.179743  3.396102      0.180067  3.586614   \n",
              "11      11  0.185857  3.381317      0.126133  4.040924   \n",
              "12      12  0.186686  3.376674      0.157733  3.712767   \n",
              "13      13  0.187600  3.364936      0.190667  3.650300   \n",
              "14      14  0.192029  3.341712      0.195600  3.685474   \n",
              "15      15  0.193971  3.323372      0.202000  3.610326   \n",
              "16      16  0.195714  3.317989      0.207267  3.599369   \n",
              "17      17  0.199629  3.307319      0.204467  3.741332   \n",
              "18      18  0.200286  3.294308      0.204667  3.792362   \n",
              "19      19  0.201171  3.292906      0.201667  3.835570   \n",
              "20      20  0.203686  3.276382      0.209067  3.754724   \n",
              "21      21  0.204000  3.267988      0.208067  3.778627   \n",
              "22      22  0.209429  3.255832      0.205400  3.844843   \n",
              "23      23  0.207343  3.251909      0.211467  3.789625   \n",
              "24      24  0.207829  3.241538      0.214000  3.752003   \n",
              "25      25  0.208686  3.243090      0.220067  3.711568   \n",
              "26      26  0.210286  3.235327      0.213667  3.745932   \n",
              "27      27  0.211543  3.230097      0.219133  3.735385   \n",
              "28      28  0.214171  3.216146      0.225000  3.703514   \n",
              "29      29  0.217429  3.201732      0.221467  3.781117   \n",
              "30      30  0.218486  3.193647      0.219533  3.722046   \n",
              "31      31  0.218143  3.195526      0.225533  3.771141   \n",
              "32      32  0.222057  3.185490      0.170800  4.080591   \n",
              "33      33  0.220171  3.177121      0.210667  3.775515   \n",
              "34      34  0.221971  3.171548      0.224867  3.739968   \n",
              "35      35  0.222686  3.169960      0.217800  3.793355   \n",
              "36      36  0.223914  3.165979      0.218733  3.704935   \n",
              "37      37  0.223371  3.151035      0.217000  3.755572   \n",
              "38      38  0.223314  3.164813      0.213467  3.779579   \n",
              "39      39  0.225800  3.154498      0.212400  3.761226   \n",
              "\n",
              "    top_k_categorical_accuracy  \n",
              "0                     0.059400  \n",
              "1                     0.051229  \n",
              "2                     0.048714  \n",
              "3                     0.048343  \n",
              "4                     0.048171  \n",
              "5                     0.047143  \n",
              "6                     0.047771  \n",
              "7                     0.048686  \n",
              "8                     0.048743  \n",
              "9                     0.047771  \n",
              "10                    0.045229  \n",
              "11                    0.047971  \n",
              "12                    0.047171  \n",
              "13                    0.045743  \n",
              "14                    0.046429  \n",
              "15                    0.049371  \n",
              "16                    0.048086  \n",
              "17                    0.047257  \n",
              "18                    0.046171  \n",
              "19                    0.047600  \n",
              "20                    0.049800  \n",
              "21                    0.045343  \n",
              "22                    0.048143  \n",
              "23                    0.045257  \n",
              "24                    0.046714  \n",
              "25                    0.049457  \n",
              "26                    0.047000  \n",
              "27                    0.044857  \n",
              "28                    0.046829  \n",
              "29                    0.047257  \n",
              "30                    0.047343  \n",
              "31                    0.046743  \n",
              "32                    0.047571  \n",
              "33                    0.046429  \n",
              "34                    0.046171  \n",
              "35                    0.045086  \n",
              "36                    0.046429  \n",
              "37                    0.047943  \n",
              "38                    0.047000  \n",
              "39                    0.048943  "
            ],
            "text/html": [
              "\n",
              "  <div id=\"df-8881456b-eccd-4b3e-80b0-8d259af37e52\" class=\"colab-df-container\">\n",
              "    <div>\n",
              "<style scoped>\n",
              "    .dataframe tbody tr th:only-of-type {\n",
              "        vertical-align: middle;\n",
              "    }\n",
              "\n",
              "    .dataframe tbody tr th {\n",
              "        vertical-align: top;\n",
              "    }\n",
              "\n",
              "    .dataframe thead th {\n",
              "        text-align: right;\n",
              "    }\n",
              "</style>\n",
              "<table border=\"1\" class=\"dataframe\">\n",
              "  <thead>\n",
              "    <tr style=\"text-align: right;\">\n",
              "      <th></th>\n",
              "      <th>epochs</th>\n",
              "      <th>accuracy</th>\n",
              "      <th>loss</th>\n",
              "      <th>val_accuracy</th>\n",
              "      <th>val_loss</th>\n",
              "      <th>top_k_categorical_accuracy</th>\n",
              "    </tr>\n",
              "  </thead>\n",
              "  <tbody>\n",
              "    <tr>\n",
              "      <th>0</th>\n",
              "      <td>0</td>\n",
              "      <td>0.067486</td>\n",
              "      <td>4.174543</td>\n",
              "      <td>0.101467</td>\n",
              "      <td>3.886038</td>\n",
              "      <td>0.059400</td>\n",
              "    </tr>\n",
              "    <tr>\n",
              "      <th>1</th>\n",
              "      <td>1</td>\n",
              "      <td>0.114486</td>\n",
              "      <td>3.786544</td>\n",
              "      <td>0.114733</td>\n",
              "      <td>3.798116</td>\n",
              "      <td>0.051229</td>\n",
              "    </tr>\n",
              "    <tr>\n",
              "      <th>2</th>\n",
              "      <td>2</td>\n",
              "      <td>0.131914</td>\n",
              "      <td>3.682947</td>\n",
              "      <td>0.101667</td>\n",
              "      <td>3.972421</td>\n",
              "      <td>0.048714</td>\n",
              "    </tr>\n",
              "    <tr>\n",
              "      <th>3</th>\n",
              "      <td>3</td>\n",
              "      <td>0.144000</td>\n",
              "      <td>3.618383</td>\n",
              "      <td>0.148267</td>\n",
              "      <td>3.612283</td>\n",
              "      <td>0.048343</td>\n",
              "    </tr>\n",
              "    <tr>\n",
              "      <th>4</th>\n",
              "      <td>4</td>\n",
              "      <td>0.152400</td>\n",
              "      <td>3.559607</td>\n",
              "      <td>0.139333</td>\n",
              "      <td>3.704959</td>\n",
              "      <td>0.048171</td>\n",
              "    </tr>\n",
              "    <tr>\n",
              "      <th>5</th>\n",
              "      <td>5</td>\n",
              "      <td>0.161086</td>\n",
              "      <td>3.519577</td>\n",
              "      <td>0.171800</td>\n",
              "      <td>3.545086</td>\n",
              "      <td>0.047143</td>\n",
              "    </tr>\n",
              "    <tr>\n",
              "      <th>6</th>\n",
              "      <td>6</td>\n",
              "      <td>0.169200</td>\n",
              "      <td>3.492760</td>\n",
              "      <td>0.157800</td>\n",
              "      <td>3.639315</td>\n",
              "      <td>0.047771</td>\n",
              "    </tr>\n",
              "    <tr>\n",
              "      <th>7</th>\n",
              "      <td>7</td>\n",
              "      <td>0.170600</td>\n",
              "      <td>3.460587</td>\n",
              "      <td>0.173667</td>\n",
              "      <td>3.564185</td>\n",
              "      <td>0.048686</td>\n",
              "    </tr>\n",
              "    <tr>\n",
              "      <th>8</th>\n",
              "      <td>8</td>\n",
              "      <td>0.177314</td>\n",
              "      <td>3.430671</td>\n",
              "      <td>0.188667</td>\n",
              "      <td>3.456487</td>\n",
              "      <td>0.048743</td>\n",
              "    </tr>\n",
              "    <tr>\n",
              "      <th>9</th>\n",
              "      <td>9</td>\n",
              "      <td>0.179314</td>\n",
              "      <td>3.413088</td>\n",
              "      <td>0.161933</td>\n",
              "      <td>3.623834</td>\n",
              "      <td>0.047771</td>\n",
              "    </tr>\n",
              "    <tr>\n",
              "      <th>10</th>\n",
              "      <td>10</td>\n",
              "      <td>0.179743</td>\n",
              "      <td>3.396102</td>\n",
              "      <td>0.180067</td>\n",
              "      <td>3.586614</td>\n",
              "      <td>0.045229</td>\n",
              "    </tr>\n",
              "    <tr>\n",
              "      <th>11</th>\n",
              "      <td>11</td>\n",
              "      <td>0.185857</td>\n",
              "      <td>3.381317</td>\n",
              "      <td>0.126133</td>\n",
              "      <td>4.040924</td>\n",
              "      <td>0.047971</td>\n",
              "    </tr>\n",
              "    <tr>\n",
              "      <th>12</th>\n",
              "      <td>12</td>\n",
              "      <td>0.186686</td>\n",
              "      <td>3.376674</td>\n",
              "      <td>0.157733</td>\n",
              "      <td>3.712767</td>\n",
              "      <td>0.047171</td>\n",
              "    </tr>\n",
              "    <tr>\n",
              "      <th>13</th>\n",
              "      <td>13</td>\n",
              "      <td>0.187600</td>\n",
              "      <td>3.364936</td>\n",
              "      <td>0.190667</td>\n",
              "      <td>3.650300</td>\n",
              "      <td>0.045743</td>\n",
              "    </tr>\n",
              "    <tr>\n",
              "      <th>14</th>\n",
              "      <td>14</td>\n",
              "      <td>0.192029</td>\n",
              "      <td>3.341712</td>\n",
              "      <td>0.195600</td>\n",
              "      <td>3.685474</td>\n",
              "      <td>0.046429</td>\n",
              "    </tr>\n",
              "    <tr>\n",
              "      <th>15</th>\n",
              "      <td>15</td>\n",
              "      <td>0.193971</td>\n",
              "      <td>3.323372</td>\n",
              "      <td>0.202000</td>\n",
              "      <td>3.610326</td>\n",
              "      <td>0.049371</td>\n",
              "    </tr>\n",
              "    <tr>\n",
              "      <th>16</th>\n",
              "      <td>16</td>\n",
              "      <td>0.195714</td>\n",
              "      <td>3.317989</td>\n",
              "      <td>0.207267</td>\n",
              "      <td>3.599369</td>\n",
              "      <td>0.048086</td>\n",
              "    </tr>\n",
              "    <tr>\n",
              "      <th>17</th>\n",
              "      <td>17</td>\n",
              "      <td>0.199629</td>\n",
              "      <td>3.307319</td>\n",
              "      <td>0.204467</td>\n",
              "      <td>3.741332</td>\n",
              "      <td>0.047257</td>\n",
              "    </tr>\n",
              "    <tr>\n",
              "      <th>18</th>\n",
              "      <td>18</td>\n",
              "      <td>0.200286</td>\n",
              "      <td>3.294308</td>\n",
              "      <td>0.204667</td>\n",
              "      <td>3.792362</td>\n",
              "      <td>0.046171</td>\n",
              "    </tr>\n",
              "    <tr>\n",
              "      <th>19</th>\n",
              "      <td>19</td>\n",
              "      <td>0.201171</td>\n",
              "      <td>3.292906</td>\n",
              "      <td>0.201667</td>\n",
              "      <td>3.835570</td>\n",
              "      <td>0.047600</td>\n",
              "    </tr>\n",
              "    <tr>\n",
              "      <th>20</th>\n",
              "      <td>20</td>\n",
              "      <td>0.203686</td>\n",
              "      <td>3.276382</td>\n",
              "      <td>0.209067</td>\n",
              "      <td>3.754724</td>\n",
              "      <td>0.049800</td>\n",
              "    </tr>\n",
              "    <tr>\n",
              "      <th>21</th>\n",
              "      <td>21</td>\n",
              "      <td>0.204000</td>\n",
              "      <td>3.267988</td>\n",
              "      <td>0.208067</td>\n",
              "      <td>3.778627</td>\n",
              "      <td>0.045343</td>\n",
              "    </tr>\n",
              "    <tr>\n",
              "      <th>22</th>\n",
              "      <td>22</td>\n",
              "      <td>0.209429</td>\n",
              "      <td>3.255832</td>\n",
              "      <td>0.205400</td>\n",
              "      <td>3.844843</td>\n",
              "      <td>0.048143</td>\n",
              "    </tr>\n",
              "    <tr>\n",
              "      <th>23</th>\n",
              "      <td>23</td>\n",
              "      <td>0.207343</td>\n",
              "      <td>3.251909</td>\n",
              "      <td>0.211467</td>\n",
              "      <td>3.789625</td>\n",
              "      <td>0.045257</td>\n",
              "    </tr>\n",
              "    <tr>\n",
              "      <th>24</th>\n",
              "      <td>24</td>\n",
              "      <td>0.207829</td>\n",
              "      <td>3.241538</td>\n",
              "      <td>0.214000</td>\n",
              "      <td>3.752003</td>\n",
              "      <td>0.046714</td>\n",
              "    </tr>\n",
              "    <tr>\n",
              "      <th>25</th>\n",
              "      <td>25</td>\n",
              "      <td>0.208686</td>\n",
              "      <td>3.243090</td>\n",
              "      <td>0.220067</td>\n",
              "      <td>3.711568</td>\n",
              "      <td>0.049457</td>\n",
              "    </tr>\n",
              "    <tr>\n",
              "      <th>26</th>\n",
              "      <td>26</td>\n",
              "      <td>0.210286</td>\n",
              "      <td>3.235327</td>\n",
              "      <td>0.213667</td>\n",
              "      <td>3.745932</td>\n",
              "      <td>0.047000</td>\n",
              "    </tr>\n",
              "    <tr>\n",
              "      <th>27</th>\n",
              "      <td>27</td>\n",
              "      <td>0.211543</td>\n",
              "      <td>3.230097</td>\n",
              "      <td>0.219133</td>\n",
              "      <td>3.735385</td>\n",
              "      <td>0.044857</td>\n",
              "    </tr>\n",
              "    <tr>\n",
              "      <th>28</th>\n",
              "      <td>28</td>\n",
              "      <td>0.214171</td>\n",
              "      <td>3.216146</td>\n",
              "      <td>0.225000</td>\n",
              "      <td>3.703514</td>\n",
              "      <td>0.046829</td>\n",
              "    </tr>\n",
              "    <tr>\n",
              "      <th>29</th>\n",
              "      <td>29</td>\n",
              "      <td>0.217429</td>\n",
              "      <td>3.201732</td>\n",
              "      <td>0.221467</td>\n",
              "      <td>3.781117</td>\n",
              "      <td>0.047257</td>\n",
              "    </tr>\n",
              "    <tr>\n",
              "      <th>30</th>\n",
              "      <td>30</td>\n",
              "      <td>0.218486</td>\n",
              "      <td>3.193647</td>\n",
              "      <td>0.219533</td>\n",
              "      <td>3.722046</td>\n",
              "      <td>0.047343</td>\n",
              "    </tr>\n",
              "    <tr>\n",
              "      <th>31</th>\n",
              "      <td>31</td>\n",
              "      <td>0.218143</td>\n",
              "      <td>3.195526</td>\n",
              "      <td>0.225533</td>\n",
              "      <td>3.771141</td>\n",
              "      <td>0.046743</td>\n",
              "    </tr>\n",
              "    <tr>\n",
              "      <th>32</th>\n",
              "      <td>32</td>\n",
              "      <td>0.222057</td>\n",
              "      <td>3.185490</td>\n",
              "      <td>0.170800</td>\n",
              "      <td>4.080591</td>\n",
              "      <td>0.047571</td>\n",
              "    </tr>\n",
              "    <tr>\n",
              "      <th>33</th>\n",
              "      <td>33</td>\n",
              "      <td>0.220171</td>\n",
              "      <td>3.177121</td>\n",
              "      <td>0.210667</td>\n",
              "      <td>3.775515</td>\n",
              "      <td>0.046429</td>\n",
              "    </tr>\n",
              "    <tr>\n",
              "      <th>34</th>\n",
              "      <td>34</td>\n",
              "      <td>0.221971</td>\n",
              "      <td>3.171548</td>\n",
              "      <td>0.224867</td>\n",
              "      <td>3.739968</td>\n",
              "      <td>0.046171</td>\n",
              "    </tr>\n",
              "    <tr>\n",
              "      <th>35</th>\n",
              "      <td>35</td>\n",
              "      <td>0.222686</td>\n",
              "      <td>3.169960</td>\n",
              "      <td>0.217800</td>\n",
              "      <td>3.793355</td>\n",
              "      <td>0.045086</td>\n",
              "    </tr>\n",
              "    <tr>\n",
              "      <th>36</th>\n",
              "      <td>36</td>\n",
              "      <td>0.223914</td>\n",
              "      <td>3.165979</td>\n",
              "      <td>0.218733</td>\n",
              "      <td>3.704935</td>\n",
              "      <td>0.046429</td>\n",
              "    </tr>\n",
              "    <tr>\n",
              "      <th>37</th>\n",
              "      <td>37</td>\n",
              "      <td>0.223371</td>\n",
              "      <td>3.151035</td>\n",
              "      <td>0.217000</td>\n",
              "      <td>3.755572</td>\n",
              "      <td>0.047943</td>\n",
              "    </tr>\n",
              "    <tr>\n",
              "      <th>38</th>\n",
              "      <td>38</td>\n",
              "      <td>0.223314</td>\n",
              "      <td>3.164813</td>\n",
              "      <td>0.213467</td>\n",
              "      <td>3.779579</td>\n",
              "      <td>0.047000</td>\n",
              "    </tr>\n",
              "    <tr>\n",
              "      <th>39</th>\n",
              "      <td>39</td>\n",
              "      <td>0.225800</td>\n",
              "      <td>3.154498</td>\n",
              "      <td>0.212400</td>\n",
              "      <td>3.761226</td>\n",
              "      <td>0.048943</td>\n",
              "    </tr>\n",
              "  </tbody>\n",
              "</table>\n",
              "</div>\n",
              "    <div class=\"colab-df-buttons\">\n",
              "\n",
              "  <div class=\"colab-df-container\">\n",
              "    <button class=\"colab-df-convert\" onclick=\"convertToInteractive('df-8881456b-eccd-4b3e-80b0-8d259af37e52')\"\n",
              "            title=\"Convert this dataframe to an interactive table.\"\n",
              "            style=\"display:none;\">\n",
              "\n",
              "  <svg xmlns=\"http://www.w3.org/2000/svg\" height=\"24px\" viewBox=\"0 -960 960 960\">\n",
              "    <path d=\"M120-120v-720h720v720H120Zm60-500h600v-160H180v160Zm220 220h160v-160H400v160Zm0 220h160v-160H400v160ZM180-400h160v-160H180v160Zm440 0h160v-160H620v160ZM180-180h160v-160H180v160Zm440 0h160v-160H620v160Z\"/>\n",
              "  </svg>\n",
              "    </button>\n",
              "\n",
              "  <style>\n",
              "    .colab-df-container {\n",
              "      display:flex;\n",
              "      gap: 12px;\n",
              "    }\n",
              "\n",
              "    .colab-df-convert {\n",
              "      background-color: #E8F0FE;\n",
              "      border: none;\n",
              "      border-radius: 50%;\n",
              "      cursor: pointer;\n",
              "      display: none;\n",
              "      fill: #1967D2;\n",
              "      height: 32px;\n",
              "      padding: 0 0 0 0;\n",
              "      width: 32px;\n",
              "    }\n",
              "\n",
              "    .colab-df-convert:hover {\n",
              "      background-color: #E2EBFA;\n",
              "      box-shadow: 0px 1px 2px rgba(60, 64, 67, 0.3), 0px 1px 3px 1px rgba(60, 64, 67, 0.15);\n",
              "      fill: #174EA6;\n",
              "    }\n",
              "\n",
              "    .colab-df-buttons div {\n",
              "      margin-bottom: 4px;\n",
              "    }\n",
              "\n",
              "    [theme=dark] .colab-df-convert {\n",
              "      background-color: #3B4455;\n",
              "      fill: #D2E3FC;\n",
              "    }\n",
              "\n",
              "    [theme=dark] .colab-df-convert:hover {\n",
              "      background-color: #434B5C;\n",
              "      box-shadow: 0px 1px 3px 1px rgba(0, 0, 0, 0.15);\n",
              "      filter: drop-shadow(0px 1px 2px rgba(0, 0, 0, 0.3));\n",
              "      fill: #FFFFFF;\n",
              "    }\n",
              "  </style>\n",
              "\n",
              "    <script>\n",
              "      const buttonEl =\n",
              "        document.querySelector('#df-8881456b-eccd-4b3e-80b0-8d259af37e52 button.colab-df-convert');\n",
              "      buttonEl.style.display =\n",
              "        google.colab.kernel.accessAllowed ? 'block' : 'none';\n",
              "\n",
              "      async function convertToInteractive(key) {\n",
              "        const element = document.querySelector('#df-8881456b-eccd-4b3e-80b0-8d259af37e52');\n",
              "        const dataTable =\n",
              "          await google.colab.kernel.invokeFunction('convertToInteractive',\n",
              "                                                    [key], {});\n",
              "        if (!dataTable) return;\n",
              "\n",
              "        const docLinkHtml = 'Like what you see? Visit the ' +\n",
              "          '<a target=\"_blank\" href=https://colab.research.google.com/notebooks/data_table.ipynb>data table notebook</a>'\n",
              "          + ' to learn more about interactive tables.';\n",
              "        element.innerHTML = '';\n",
              "        dataTable['output_type'] = 'display_data';\n",
              "        await google.colab.output.renderOutput(dataTable, element);\n",
              "        const docLink = document.createElement('div');\n",
              "        docLink.innerHTML = docLinkHtml;\n",
              "        element.appendChild(docLink);\n",
              "      }\n",
              "    </script>\n",
              "  </div>\n",
              "\n",
              "\n",
              "<div id=\"df-7e842f08-cb32-4b4b-95f0-5f3fee76dbf9\">\n",
              "  <button class=\"colab-df-quickchart\" onclick=\"quickchart('df-7e842f08-cb32-4b4b-95f0-5f3fee76dbf9')\"\n",
              "            title=\"Suggest charts\"\n",
              "            style=\"display:none;\">\n",
              "\n",
              "<svg xmlns=\"http://www.w3.org/2000/svg\" height=\"24px\"viewBox=\"0 0 24 24\"\n",
              "     width=\"24px\">\n",
              "    <g>\n",
              "        <path d=\"M19 3H5c-1.1 0-2 .9-2 2v14c0 1.1.9 2 2 2h14c1.1 0 2-.9 2-2V5c0-1.1-.9-2-2-2zM9 17H7v-7h2v7zm4 0h-2V7h2v10zm4 0h-2v-4h2v4z\"/>\n",
              "    </g>\n",
              "</svg>\n",
              "  </button>\n",
              "\n",
              "<style>\n",
              "  .colab-df-quickchart {\n",
              "      --bg-color: #E8F0FE;\n",
              "      --fill-color: #1967D2;\n",
              "      --hover-bg-color: #E2EBFA;\n",
              "      --hover-fill-color: #174EA6;\n",
              "      --disabled-fill-color: #AAA;\n",
              "      --disabled-bg-color: #DDD;\n",
              "  }\n",
              "\n",
              "  [theme=dark] .colab-df-quickchart {\n",
              "      --bg-color: #3B4455;\n",
              "      --fill-color: #D2E3FC;\n",
              "      --hover-bg-color: #434B5C;\n",
              "      --hover-fill-color: #FFFFFF;\n",
              "      --disabled-bg-color: #3B4455;\n",
              "      --disabled-fill-color: #666;\n",
              "  }\n",
              "\n",
              "  .colab-df-quickchart {\n",
              "    background-color: var(--bg-color);\n",
              "    border: none;\n",
              "    border-radius: 50%;\n",
              "    cursor: pointer;\n",
              "    display: none;\n",
              "    fill: var(--fill-color);\n",
              "    height: 32px;\n",
              "    padding: 0;\n",
              "    width: 32px;\n",
              "  }\n",
              "\n",
              "  .colab-df-quickchart:hover {\n",
              "    background-color: var(--hover-bg-color);\n",
              "    box-shadow: 0 1px 2px rgba(60, 64, 67, 0.3), 0 1px 3px 1px rgba(60, 64, 67, 0.15);\n",
              "    fill: var(--button-hover-fill-color);\n",
              "  }\n",
              "\n",
              "  .colab-df-quickchart-complete:disabled,\n",
              "  .colab-df-quickchart-complete:disabled:hover {\n",
              "    background-color: var(--disabled-bg-color);\n",
              "    fill: var(--disabled-fill-color);\n",
              "    box-shadow: none;\n",
              "  }\n",
              "\n",
              "  .colab-df-spinner {\n",
              "    border: 2px solid var(--fill-color);\n",
              "    border-color: transparent;\n",
              "    border-bottom-color: var(--fill-color);\n",
              "    animation:\n",
              "      spin 1s steps(1) infinite;\n",
              "  }\n",
              "\n",
              "  @keyframes spin {\n",
              "    0% {\n",
              "      border-color: transparent;\n",
              "      border-bottom-color: var(--fill-color);\n",
              "      border-left-color: var(--fill-color);\n",
              "    }\n",
              "    20% {\n",
              "      border-color: transparent;\n",
              "      border-left-color: var(--fill-color);\n",
              "      border-top-color: var(--fill-color);\n",
              "    }\n",
              "    30% {\n",
              "      border-color: transparent;\n",
              "      border-left-color: var(--fill-color);\n",
              "      border-top-color: var(--fill-color);\n",
              "      border-right-color: var(--fill-color);\n",
              "    }\n",
              "    40% {\n",
              "      border-color: transparent;\n",
              "      border-right-color: var(--fill-color);\n",
              "      border-top-color: var(--fill-color);\n",
              "    }\n",
              "    60% {\n",
              "      border-color: transparent;\n",
              "      border-right-color: var(--fill-color);\n",
              "    }\n",
              "    80% {\n",
              "      border-color: transparent;\n",
              "      border-right-color: var(--fill-color);\n",
              "      border-bottom-color: var(--fill-color);\n",
              "    }\n",
              "    90% {\n",
              "      border-color: transparent;\n",
              "      border-bottom-color: var(--fill-color);\n",
              "    }\n",
              "  }\n",
              "</style>\n",
              "\n",
              "  <script>\n",
              "    async function quickchart(key) {\n",
              "      const quickchartButtonEl =\n",
              "        document.querySelector('#' + key + ' button');\n",
              "      quickchartButtonEl.disabled = true;  // To prevent multiple clicks.\n",
              "      quickchartButtonEl.classList.add('colab-df-spinner');\n",
              "      try {\n",
              "        const charts = await google.colab.kernel.invokeFunction(\n",
              "            'suggestCharts', [key], {});\n",
              "      } catch (error) {\n",
              "        console.error('Error during call to suggestCharts:', error);\n",
              "      }\n",
              "      quickchartButtonEl.classList.remove('colab-df-spinner');\n",
              "      quickchartButtonEl.classList.add('colab-df-quickchart-complete');\n",
              "    }\n",
              "    (() => {\n",
              "      let quickchartButtonEl =\n",
              "        document.querySelector('#df-7e842f08-cb32-4b4b-95f0-5f3fee76dbf9 button');\n",
              "      quickchartButtonEl.style.display =\n",
              "        google.colab.kernel.accessAllowed ? 'block' : 'none';\n",
              "    })();\n",
              "  </script>\n",
              "</div>\n",
              "\n",
              "  <div id=\"id_97e472bc-e41e-4e63-ab3d-4e423c67793c\">\n",
              "    <style>\n",
              "      .colab-df-generate {\n",
              "        background-color: #E8F0FE;\n",
              "        border: none;\n",
              "        border-radius: 50%;\n",
              "        cursor: pointer;\n",
              "        display: none;\n",
              "        fill: #1967D2;\n",
              "        height: 32px;\n",
              "        padding: 0 0 0 0;\n",
              "        width: 32px;\n",
              "      }\n",
              "\n",
              "      .colab-df-generate:hover {\n",
              "        background-color: #E2EBFA;\n",
              "        box-shadow: 0px 1px 2px rgba(60, 64, 67, 0.3), 0px 1px 3px 1px rgba(60, 64, 67, 0.15);\n",
              "        fill: #174EA6;\n",
              "      }\n",
              "\n",
              "      [theme=dark] .colab-df-generate {\n",
              "        background-color: #3B4455;\n",
              "        fill: #D2E3FC;\n",
              "      }\n",
              "\n",
              "      [theme=dark] .colab-df-generate:hover {\n",
              "        background-color: #434B5C;\n",
              "        box-shadow: 0px 1px 3px 1px rgba(0, 0, 0, 0.15);\n",
              "        filter: drop-shadow(0px 1px 2px rgba(0, 0, 0, 0.3));\n",
              "        fill: #FFFFFF;\n",
              "      }\n",
              "    </style>\n",
              "    <button class=\"colab-df-generate\" onclick=\"generateWithVariable('ann_metric_df')\"\n",
              "            title=\"Generate code using this dataframe.\"\n",
              "            style=\"display:none;\">\n",
              "\n",
              "  <svg xmlns=\"http://www.w3.org/2000/svg\" height=\"24px\"viewBox=\"0 0 24 24\"\n",
              "       width=\"24px\">\n",
              "    <path d=\"M7,19H8.4L18.45,9,17,7.55,7,17.6ZM5,21V16.75L18.45,3.32a2,2,0,0,1,2.83,0l1.4,1.43a1.91,1.91,0,0,1,.58,1.4,1.91,1.91,0,0,1-.58,1.4L9.25,21ZM18.45,9,17,7.55Zm-12,3A5.31,5.31,0,0,0,4.9,8.1,5.31,5.31,0,0,0,1,6.5,5.31,5.31,0,0,0,4.9,4.9,5.31,5.31,0,0,0,6.5,1,5.31,5.31,0,0,0,8.1,4.9,5.31,5.31,0,0,0,12,6.5,5.46,5.46,0,0,0,6.5,12Z\"/>\n",
              "  </svg>\n",
              "    </button>\n",
              "    <script>\n",
              "      (() => {\n",
              "      const buttonEl =\n",
              "        document.querySelector('#id_97e472bc-e41e-4e63-ab3d-4e423c67793c button.colab-df-generate');\n",
              "      buttonEl.style.display =\n",
              "        google.colab.kernel.accessAllowed ? 'block' : 'none';\n",
              "\n",
              "      buttonEl.onclick = () => {\n",
              "        google.colab.notebook.generateWithVariable('ann_metric_df');\n",
              "      }\n",
              "      })();\n",
              "    </script>\n",
              "  </div>\n",
              "\n",
              "    </div>\n",
              "  </div>\n"
            ],
            "application/vnd.google.colaboratory.intrinsic+json": {
              "type": "dataframe",
              "variable_name": "ann_metric_df",
              "summary": "{\n  \"name\": \"ann_metric_df\",\n  \"rows\": 40,\n  \"fields\": [\n    {\n      \"column\": \"epochs\",\n      \"properties\": {\n        \"dtype\": \"number\",\n        \"std\": 11,\n        \"min\": 0,\n        \"max\": 39,\n        \"num_unique_values\": 40,\n        \"samples\": [\n          19,\n          16,\n          15\n        ],\n        \"semantic_type\": \"\",\n        \"description\": \"\"\n      }\n    },\n    {\n      \"column\": \"accuracy\",\n      \"properties\": {\n        \"dtype\": \"number\",\n        \"std\": 0.03359045232020501,\n        \"min\": 0.06748571246862411,\n        \"max\": 0.22579999268054962,\n        \"num_unique_values\": 40,\n        \"samples\": [\n          0.20117142796516418,\n          0.19571428000926971,\n          0.1939714252948761\n        ],\n        \"semantic_type\": \"\",\n        \"description\": \"\"\n      }\n    },\n    {\n      \"column\": \"loss\",\n      \"properties\": {\n        \"dtype\": \"number\",\n        \"std\": 0.2036462268031954,\n        \"min\": 3.1510353088378906,\n        \"max\": 4.1745429039001465,\n        \"num_unique_values\": 40,\n        \"samples\": [\n          3.2929060459136963,\n          3.317988634109497,\n          3.323371648788452\n        ],\n        \"semantic_type\": \"\",\n        \"description\": \"\"\n      }\n    },\n    {\n      \"column\": \"val_accuracy\",\n      \"properties\": {\n        \"dtype\": \"number\",\n        \"std\": 0.035195049309511735,\n        \"min\": 0.10146666318178177,\n        \"max\": 0.22553333640098572,\n        \"num_unique_values\": 40,\n        \"samples\": [\n          0.2016666680574417,\n          0.2072666734457016,\n          0.20200000703334808\n        ],\n        \"semantic_type\": \"\",\n        \"description\": \"\"\n      }\n    },\n    {\n      \"column\": \"val_loss\",\n      \"properties\": {\n        \"dtype\": \"number\",\n        \"std\": 0.12273411877296755,\n        \"min\": 3.4564874172210693,\n        \"max\": 4.080590724945068,\n        \"num_unique_values\": 40,\n        \"samples\": [\n          3.8355700969696045,\n          3.5993692874908447,\n          3.610326051712036\n        ],\n        \"semantic_type\": \"\",\n        \"description\": \"\"\n      }\n    },\n    {\n      \"column\": \"top_k_categorical_accuracy\",\n      \"properties\": {\n        \"dtype\": \"number\",\n        \"std\": 0.0023536141252205795,\n        \"min\": 0.044857144355773926,\n        \"max\": 0.05939999967813492,\n        \"num_unique_values\": 34,\n        \"samples\": [\n          0.048085715621709824,\n          0.049800001084804535,\n          0.04682857170701027\n        ],\n        \"semantic_type\": \"\",\n        \"description\": \"\"\n      }\n    }\n  ]\n}"
            }
          },
          "metadata": {},
          "execution_count": 33
        }
      ]
    },
    {
      "cell_type": "code",
      "source": [
        "# plot accuracy and loss plot side by side using subplots\n",
        "fig, axs = plt.subplots(1, 2, figsize=(15, 5))\n",
        "axs[0].plot(ann_metric_df[\"epochs\"], ann_metric_df[\"accuracy\"], label=\"accuracy\")\n",
        "axs[0].plot(ann_metric_df[\"epochs\"], ann_metric_df[\"val_accuracy\"], label=\"val_accuracy\")\n",
        "axs[0].set_title(\"Accuracy\")\n",
        "axs[0].legend()\n",
        "axs[1].plot(ann_metric_df[\"epochs\"], ann_metric_df[\"loss\"], label=\"loss\")\n",
        "axs[1].plot(ann_metric_df[\"epochs\"], ann_metric_df[\"val_loss\"], label=\"val_loss\")\n",
        "axs[1].set_title(\"Loss\")\n",
        "axs[1].legend()\n",
        "plt.tight_layout()\n",
        "plt.show()"
      ],
      "metadata": {
        "colab": {
          "base_uri": "https://localhost:8080/",
          "height": 478
        },
        "id": "7k3HGr1kIUsE",
        "outputId": "3b7ac549-d41f-4625-89a4-6d3ad30087d7"
      },
      "execution_count": 39,
      "outputs": [
        {
          "output_type": "display_data",
          "data": {
            "text/plain": [
              "<Figure size 1500x500 with 2 Axes>"
            ],
            "image/png": "[encoded data removed]"
          },
          "metadata": {}
        }
      ]
    },
    {
      "cell_type": "code",
      "source": [],
      "metadata": {
        "id": "lpUS8GqYJrSE"
      },
      "execution_count": null,
      "outputs": []
    }
  ]
}