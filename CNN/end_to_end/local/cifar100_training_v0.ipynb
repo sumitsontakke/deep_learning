{
  "cells": [
    {
      "cell_type": "code",
      "execution_count": 5,
      "metadata": {
        "id": "iAcIi_H8PbIV"
      },
      "outputs": [],
      "source": [
        "\n",
        "import pandas as pd\n",
        "import numpy as np\n",
        "import tensorflow as tf\n",
        "import matplotlib.pyplot as plt\n",
        "\n",
        "from tensorflow.keras import Input\n",
        "from tensorflow.keras.models import Sequential\n",
        "from tensorflow.keras.layers import Conv2D, MaxPooling2D, Dropout, Flatten, Dense, BatchNormalization\n",
        "from tensorflow.keras.callbacks import EarlyStopping, ModelCheckpoint\n",
        "from tensorflow.keras.datasets import cifar100\n",
        "from tensorflow.keras.utils import to_categorical\n",
        "from tensorflow.keras.metrics import TopKCategoricalAccuracy\n",
        "\n",
        "from sklearn.model_selection import train_test_split"
      ]
    },
    {
      "cell_type": "code",
      "execution_count": 6,
      "metadata": {
        "colab": {
          "base_uri": "https://localhost:8080/"
        },
        "id": "Il1oCkfbPok3",
        "outputId": "6607b654-3615-44de-8220-ef83028ceeb3"
      },
      "outputs": [
        {
          "name": "stdout",
          "output_type": "stream",
          "text": [
            "(50000, 32, 32, 3) (50000, 1)\n",
            "(10000, 32, 32, 3) (10000, 1)\n"
          ]
        }
      ],
      "source": [
        "from tensorflow.keras.datasets import cifar100\n",
        "\n",
        "(X_train, y_train), (X_test, y_test) = cifar100.load_data()\n",
        "\n",
        "# Normalize X data\n",
        "X_train = X_train.astype('float32') / 255.0\n",
        "X_test = X_test.astype('float32') / 255.0\n",
        "\n",
        "print(X_train.shape, y_train.shape)\n",
        "print(X_test.shape, y_test.shape)"
      ]
    },
    {
      "cell_type": "code",
      "execution_count": 4,
      "metadata": {
        "id": "CdPNYP79bNi5"
      },
      "outputs": [
        {
          "name": "stderr",
          "output_type": "stream",
          "text": [
            "2025-04-23 09:34:22.143982: I tensorflow/core/common_runtime/pluggable_device/pluggable_device_factory.cc:306] Could not identify NUMA node of platform GPU ID 0, defaulting to 0. Your kernel may not have been built with NUMA support.\n",
            "2025-04-23 09:34:22.144501: I tensorflow/core/common_runtime/pluggable_device/pluggable_device_factory.cc:272] Created TensorFlow device (/job:localhost/replica:0/task:0/device:GPU:0 with 0 MB memory) -> physical PluggableDevice (device: 0, name: METAL, pci bus id: <undefined>)\n"
          ]
        }
      ],
      "source": [
        "model = Sequential([\n",
        "    Input(shape=(32,32,3)),\n",
        "    Conv2D(32, (3,3), activation=\"relu\", padding=\"same\"),\n",
        "    BatchNormalization(),\n",
        "    MaxPooling2D((2,2)),\n",
        "    Conv2D(64, (3,3), activation=\"relu\", padding=\"same\"),\n",
        "    BatchNormalization(),\n",
        "    MaxPooling2D((2,2)),\n",
        "    Conv2D(128, (3,3), activation=\"relu\", padding=\"same\"),\n",
        "    BatchNormalization(),\n",
        "    MaxPooling2D((2,2)),\n",
        "    Conv2D(256, (3,3), activation=\"relu\", padding=\"same\"),\n",
        "    BatchNormalization(),\n",
        "    MaxPooling2D((2,2)),\n",
        "    Flatten(),\n",
        "    Dense(512, activation=\"relu\"),\n",
        "    BatchNormalization(),\n",
        "    Dropout(0.5),\n",
        "    Dense(100, activation=\"softmax\")\n",
        "])"
      ]
    },
    {
      "cell_type": "code",
      "execution_count": 5,
      "metadata": {},
      "outputs": [
        {
          "name": "stdout",
          "output_type": "stream",
          "text": [
            "(37500, 32, 32, 3) (37500, 1) (12500, 32, 32, 3) (12500, 1)\n"
          ]
        }
      ],
      "source": [
        "\n",
        "early_stopping = EarlyStopping(\n",
        "    monitor=\"val_loss\",\n",
        "    patience=25,\n",
        "    restore_best_weights=True\n",
        ")\n",
        "\n",
        "# ModelCheckpoint\n",
        "checkpoint = ModelCheckpoint(\n",
        "    \"cnn_model.h5\",\n",
        "    monitor=\"val_loss\",\n",
        "    save_best_only=True\n",
        ")\n",
        "\n",
        "reduce_lr = tf.keras.callbacks.ReduceLROnPlateau(\n",
        "    monitor='val_loss',\n",
        "    factor=0.5,\n",
        "    patience=5,\n",
        "    min_lr=1e-6\n",
        ")\n",
        "\n",
        "X_training, X_val, y_training, y_val = train_test_split(X_train, y_train, test_size=0.25, random_state=42)\n",
        "\n",
        "print(X_training.shape, y_training.shape, X_val.shape, y_val.shape )"
      ]
    },
    {
      "cell_type": "code",
      "execution_count": 6,
      "metadata": {},
      "outputs": [],
      "source": [
        "from tensorflow.keras.callbacks import ReduceLROnPlateau\n",
        "\n",
        "lr_scheduler = ReduceLROnPlateau(monitor='val_loss', factor=0.5, patience=5, verbose=1)\n"
      ]
    },
    {
      "cell_type": "code",
      "execution_count": 7,
      "metadata": {},
      "outputs": [],
      "source": [
        "model.compile(\n",
        "    optimizer=tf.keras.optimizers.Adam(learning_rate=1e-3),\n",
        "    loss=\"sparse_categorical_crossentropy\",\n",
        "    metrics=[\"accuracy\"]\n",
        ")"
      ]
    },
    {
      "cell_type": "code",
      "execution_count": 8,
      "metadata": {},
      "outputs": [
        {
          "name": "stdout",
          "output_type": "stream",
          "text": [
            "Epoch 1/100\n"
          ]
        },
        {
          "name": "stderr",
          "output_type": "stream",
          "text": [
            "2025-04-23 09:34:27.202242: I tensorflow/core/grappler/optimizers/custom_graph_optimizer_registry.cc:114] Plugin optimizer for device_type GPU is enabled.\n",
            "2025-04-23 09:34:27.415162: E tensorflow/core/grappler/optimizers/meta_optimizer.cc:954] model_pruner failed: INVALID_ARGUMENT: Graph does not contain terminal node AssignAddVariableOp_10.\n"
          ]
        },
        {
          "name": "stdout",
          "output_type": "stream",
          "text": [
            "293/293 [==============================] - ETA: 0s - loss: 3.9997 - accuracy: 0.1323"
          ]
        },
        {
          "name": "stderr",
          "output_type": "stream",
          "text": [
            "2025-04-23 09:34:47.014382: I tensorflow/core/grappler/optimizers/custom_graph_optimizer_registry.cc:114] Plugin optimizer for device_type GPU is enabled.\n"
          ]
        },
        {
          "name": "stdout",
          "output_type": "stream",
          "text": [
            "293/293 [==============================] - 23s 54ms/step - loss: 3.9997 - accuracy: 0.1323 - val_loss: 5.2130 - val_accuracy: 0.0324 - lr: 0.0010\n",
            "Epoch 2/100\n",
            "293/293 [==============================] - 11s 38ms/step - loss: 3.0531 - accuracy: 0.2582 - val_loss: 3.2814 - val_accuracy: 0.2296 - lr: 0.0010\n",
            "Epoch 3/100\n",
            "293/293 [==============================] - 11s 37ms/step - loss: 2.5620 - accuracy: 0.3508 - val_loss: 2.5116 - val_accuracy: 0.3687 - lr: 0.0010\n",
            "Epoch 4/100\n",
            "293/293 [==============================] - 11s 37ms/step - loss: 2.2332 - accuracy: 0.4142 - val_loss: 2.6705 - val_accuracy: 0.3507 - lr: 0.0010\n",
            "Epoch 5/100\n",
            "293/293 [==============================] - 11s 37ms/step - loss: 1.9726 - accuracy: 0.4694 - val_loss: 2.8149 - val_accuracy: 0.3297 - lr: 0.0010\n",
            "Epoch 6/100\n",
            "293/293 [==============================] - 11s 37ms/step - loss: 1.7379 - accuracy: 0.5252 - val_loss: 2.9117 - val_accuracy: 0.3360 - lr: 0.0010\n",
            "Epoch 7/100\n",
            "293/293 [==============================] - 11s 37ms/step - loss: 1.5206 - accuracy: 0.5766 - val_loss: 2.6623 - val_accuracy: 0.3806 - lr: 0.0010\n",
            "Epoch 8/100\n",
            "293/293 [==============================] - 11s 37ms/step - loss: 1.3094 - accuracy: 0.6288 - val_loss: 2.4912 - val_accuracy: 0.4123 - lr: 0.0010\n",
            "Epoch 9/100\n",
            "293/293 [==============================] - 11s 38ms/step - loss: 1.1261 - accuracy: 0.6760 - val_loss: 2.5424 - val_accuracy: 0.4122 - lr: 0.0010\n",
            "Epoch 10/100\n",
            "293/293 [==============================] - 12s 40ms/step - loss: 0.9552 - accuracy: 0.7205 - val_loss: 2.5599 - val_accuracy: 0.4296 - lr: 0.0010\n",
            "Epoch 11/100\n",
            "293/293 [==============================] - 11s 37ms/step - loss: 0.8013 - accuracy: 0.7617 - val_loss: 2.7997 - val_accuracy: 0.3990 - lr: 0.0010\n",
            "Epoch 12/100\n",
            "293/293 [==============================] - 12s 40ms/step - loss: 0.6883 - accuracy: 0.7934 - val_loss: 2.7644 - val_accuracy: 0.4172 - lr: 0.0010\n",
            "Epoch 13/100\n",
            "293/293 [==============================] - 12s 42ms/step - loss: 0.5869 - accuracy: 0.8193 - val_loss: 3.1735 - val_accuracy: 0.4055 - lr: 0.0010\n",
            "Epoch 14/100\n",
            "293/293 [==============================] - 13s 43ms/step - loss: 0.3425 - accuracy: 0.8982 - val_loss: 2.8249 - val_accuracy: 0.4349 - lr: 5.0000e-04\n",
            "Epoch 15/100\n",
            "293/293 [==============================] - 13s 43ms/step - loss: 0.2272 - accuracy: 0.9369 - val_loss: 2.8297 - val_accuracy: 0.4403 - lr: 5.0000e-04\n",
            "Epoch 16/100\n",
            "293/293 [==============================] - 13s 43ms/step - loss: 0.1800 - accuracy: 0.9513 - val_loss: 2.9628 - val_accuracy: 0.4398 - lr: 5.0000e-04\n",
            "Epoch 17/100\n",
            "293/293 [==============================] - 13s 43ms/step - loss: 0.1543 - accuracy: 0.9589 - val_loss: 3.1914 - val_accuracy: 0.4194 - lr: 5.0000e-04\n",
            "Epoch 18/100\n",
            "293/293 [==============================] - 13s 43ms/step - loss: 0.1351 - accuracy: 0.9648 - val_loss: 3.2664 - val_accuracy: 0.4288 - lr: 5.0000e-04\n",
            "Epoch 19/100\n",
            "293/293 [==============================] - 12s 42ms/step - loss: 0.0947 - accuracy: 0.9768 - val_loss: 3.1566 - val_accuracy: 0.4385 - lr: 2.5000e-04\n",
            "Epoch 20/100\n",
            "293/293 [==============================] - 12s 42ms/step - loss: 0.0717 - accuracy: 0.9846 - val_loss: 3.1289 - val_accuracy: 0.4462 - lr: 2.5000e-04\n",
            "Epoch 21/100\n",
            "293/293 [==============================] - 12s 42ms/step - loss: 0.0641 - accuracy: 0.9870 - val_loss: 3.1739 - val_accuracy: 0.4330 - lr: 2.5000e-04\n",
            "Epoch 22/100\n",
            "293/293 [==============================] - 12s 42ms/step - loss: 0.0555 - accuracy: 0.9886 - val_loss: 3.2243 - val_accuracy: 0.4396 - lr: 2.5000e-04\n",
            "Epoch 23/100\n",
            "293/293 [==============================] - 12s 42ms/step - loss: 0.0541 - accuracy: 0.9883 - val_loss: 3.2789 - val_accuracy: 0.4400 - lr: 2.5000e-04\n",
            "Epoch 24/100\n",
            "293/293 [==============================] - 12s 41ms/step - loss: 0.0440 - accuracy: 0.9917 - val_loss: 3.2764 - val_accuracy: 0.4451 - lr: 1.2500e-04\n",
            "Epoch 25/100\n",
            "293/293 [==============================] - 13s 43ms/step - loss: 0.0381 - accuracy: 0.9932 - val_loss: 3.3189 - val_accuracy: 0.4386 - lr: 1.2500e-04\n",
            "Epoch 26/100\n",
            "293/293 [==============================] - 13s 44ms/step - loss: 0.0340 - accuracy: 0.9949 - val_loss: 3.3985 - val_accuracy: 0.4362 - lr: 1.2500e-04\n",
            "Epoch 27/100\n",
            "293/293 [==============================] - 13s 45ms/step - loss: 0.0313 - accuracy: 0.9949 - val_loss: 3.4043 - val_accuracy: 0.4396 - lr: 1.2500e-04\n",
            "Epoch 28/100\n",
            "293/293 [==============================] - 14s 46ms/step - loss: 0.0301 - accuracy: 0.9957 - val_loss: 3.3752 - val_accuracy: 0.4430 - lr: 1.2500e-04\n",
            "Epoch 29/100\n",
            "293/293 [==============================] - 13s 46ms/step - loss: 0.0256 - accuracy: 0.9965 - val_loss: 3.3624 - val_accuracy: 0.4428 - lr: 6.2500e-05\n",
            "Epoch 30/100\n",
            "293/293 [==============================] - 14s 47ms/step - loss: 0.0233 - accuracy: 0.9974 - val_loss: 3.3682 - val_accuracy: 0.4419 - lr: 6.2500e-05\n",
            "Epoch 31/100\n",
            "293/293 [==============================] - 14s 47ms/step - loss: 0.0222 - accuracy: 0.9971 - val_loss: 3.3859 - val_accuracy: 0.4429 - lr: 6.2500e-05\n",
            "Epoch 32/100\n",
            "293/293 [==============================] - 13s 44ms/step - loss: 0.0224 - accuracy: 0.9966 - val_loss: 3.3863 - val_accuracy: 0.4437 - lr: 6.2500e-05\n",
            "Epoch 33/100\n",
            "293/293 [==============================] - 13s 43ms/step - loss: 0.0214 - accuracy: 0.9969 - val_loss: 3.4177 - val_accuracy: 0.4470 - lr: 6.2500e-05\n",
            "Epoch 34/100\n",
            "293/293 [==============================] - 13s 45ms/step - loss: 0.0187 - accuracy: 0.9978 - val_loss: 3.4024 - val_accuracy: 0.4468 - lr: 3.1250e-05\n",
            "Epoch 35/100\n",
            "293/293 [==============================] - 13s 43ms/step - loss: 0.0186 - accuracy: 0.9978 - val_loss: 3.4158 - val_accuracy: 0.4438 - lr: 3.1250e-05\n",
            "Epoch 36/100\n",
            "293/293 [==============================] - 13s 43ms/step - loss: 0.0187 - accuracy: 0.9975 - val_loss: 3.4606 - val_accuracy: 0.4418 - lr: 3.1250e-05\n",
            "Epoch 37/100\n",
            "293/293 [==============================] - 13s 45ms/step - loss: 0.0178 - accuracy: 0.9973 - val_loss: 3.4331 - val_accuracy: 0.4421 - lr: 3.1250e-05\n",
            "Epoch 38/100\n",
            "293/293 [==============================] - 13s 45ms/step - loss: 0.0168 - accuracy: 0.9981 - val_loss: 3.4614 - val_accuracy: 0.4423 - lr: 3.1250e-05\n",
            "Epoch 39/100\n",
            "293/293 [==============================] - 14s 47ms/step - loss: 0.0168 - accuracy: 0.9981 - val_loss: 3.4379 - val_accuracy: 0.4428 - lr: 1.5625e-05\n",
            "Epoch 40/100\n",
            "293/293 [==============================] - 13s 45ms/step - loss: 0.0163 - accuracy: 0.9982 - val_loss: 3.4517 - val_accuracy: 0.4434 - lr: 1.5625e-05\n",
            "Epoch 41/100\n",
            "293/293 [==============================] - 14s 49ms/step - loss: 0.0151 - accuracy: 0.9988 - val_loss: 3.4556 - val_accuracy: 0.4440 - lr: 1.5625e-05\n",
            "Epoch 42/100\n",
            "293/293 [==============================] - 15s 50ms/step - loss: 0.0153 - accuracy: 0.9983 - val_loss: 3.4619 - val_accuracy: 0.4427 - lr: 1.5625e-05\n",
            "Epoch 43/100\n",
            "293/293 [==============================] - 16s 54ms/step - loss: 0.0149 - accuracy: 0.9986 - val_loss: 3.4552 - val_accuracy: 0.4435 - lr: 1.5625e-05\n",
            "Epoch 44/100\n",
            "293/293 [==============================] - 15s 50ms/step - loss: 0.0152 - accuracy: 0.9982 - val_loss: 3.4613 - val_accuracy: 0.4437 - lr: 7.8125e-06\n",
            "Epoch 45/100\n",
            "293/293 [==============================] - 15s 53ms/step - loss: 0.0145 - accuracy: 0.9983 - val_loss: 3.4671 - val_accuracy: 0.4438 - lr: 7.8125e-06\n",
            "Epoch 46/100\n",
            "293/293 [==============================] - 14s 48ms/step - loss: 0.0141 - accuracy: 0.9986 - val_loss: 3.4702 - val_accuracy: 0.4434 - lr: 7.8125e-06\n",
            "Epoch 47/100\n",
            "293/293 [==============================] - 13s 46ms/step - loss: 0.0151 - accuracy: 0.9979 - val_loss: 3.4714 - val_accuracy: 0.4440 - lr: 7.8125e-06\n",
            "Epoch 48/100\n",
            "293/293 [==============================] - 13s 45ms/step - loss: 0.0139 - accuracy: 0.9985 - val_loss: 3.4737 - val_accuracy: 0.4443 - lr: 7.8125e-06\n",
            "Epoch 49/100\n",
            "293/293 [==============================] - 13s 44ms/step - loss: 0.0140 - accuracy: 0.9987 - val_loss: 3.4748 - val_accuracy: 0.4434 - lr: 3.9063e-06\n",
            "Epoch 50/100\n",
            "293/293 [==============================] - 12s 42ms/step - loss: 0.0136 - accuracy: 0.9986 - val_loss: 3.4750 - val_accuracy: 0.4426 - lr: 3.9063e-06\n",
            "Epoch 51/100\n",
            "293/293 [==============================] - 12s 42ms/step - loss: 0.0142 - accuracy: 0.9984 - val_loss: 3.4724 - val_accuracy: 0.4430 - lr: 3.9063e-06\n",
            "Epoch 52/100\n",
            "293/293 [==============================] - 12s 42ms/step - loss: 0.0145 - accuracy: 0.9981 - val_loss: 3.4766 - val_accuracy: 0.4438 - lr: 3.9063e-06\n",
            "Epoch 53/100\n",
            "293/293 [==============================] - 12s 42ms/step - loss: 0.0140 - accuracy: 0.9986 - val_loss: 3.4838 - val_accuracy: 0.4442 - lr: 3.9063e-06\n",
            "Epoch 54/100\n",
            "293/293 [==============================] - 12s 42ms/step - loss: 0.0134 - accuracy: 0.9988 - val_loss: 3.4825 - val_accuracy: 0.4442 - lr: 1.9531e-06\n",
            "Epoch 55/100\n",
            "293/293 [==============================] - 13s 43ms/step - loss: 0.0137 - accuracy: 0.9989 - val_loss: 3.4783 - val_accuracy: 0.4444 - lr: 1.9531e-06\n",
            "Epoch 56/100\n",
            "293/293 [==============================] - 13s 45ms/step - loss: 0.0133 - accuracy: 0.9986 - val_loss: 3.4770 - val_accuracy: 0.4440 - lr: 1.9531e-06\n",
            "Epoch 57/100\n",
            "293/293 [==============================] - 13s 45ms/step - loss: 0.0138 - accuracy: 0.9985 - val_loss: 3.4806 - val_accuracy: 0.4437 - lr: 1.9531e-06\n",
            "Epoch 58/100\n",
            "293/293 [==============================] - 13s 45ms/step - loss: 0.0130 - accuracy: 0.9989 - val_loss: 3.4833 - val_accuracy: 0.4442 - lr: 1.9531e-06\n",
            "Epoch 59/100\n",
            "293/293 [==============================] - 13s 45ms/step - loss: 0.0133 - accuracy: 0.9987 - val_loss: 3.4837 - val_accuracy: 0.4435 - lr: 1.0000e-06\n",
            "Epoch 60/100\n",
            "293/293 [==============================] - 13s 44ms/step - loss: 0.0133 - accuracy: 0.9989 - val_loss: 3.4827 - val_accuracy: 0.4442 - lr: 1.0000e-06\n",
            "Epoch 61/100\n",
            "293/293 [==============================] - 13s 43ms/step - loss: 0.0141 - accuracy: 0.9985 - val_loss: 3.4787 - val_accuracy: 0.4444 - lr: 1.0000e-06\n",
            "Epoch 62/100\n",
            "293/293 [==============================] - 13s 44ms/step - loss: 0.0130 - accuracy: 0.9988 - val_loss: 3.4822 - val_accuracy: 0.4440 - lr: 1.0000e-06\n",
            "Epoch 63/100\n",
            "293/293 [==============================] - 13s 43ms/step - loss: 0.0134 - accuracy: 0.9987 - val_loss: 3.4787 - val_accuracy: 0.4440 - lr: 1.0000e-06\n",
            "Epoch 64/100\n",
            "293/293 [==============================] - 13s 44ms/step - loss: 0.0134 - accuracy: 0.9986 - val_loss: 3.4855 - val_accuracy: 0.4436 - lr: 1.0000e-06\n",
            "Epoch 65/100\n",
            "293/293 [==============================] - 13s 43ms/step - loss: 0.0135 - accuracy: 0.9987 - val_loss: 3.4846 - val_accuracy: 0.4435 - lr: 1.0000e-06\n",
            "Epoch 66/100\n",
            "293/293 [==============================] - 13s 43ms/step - loss: 0.0131 - accuracy: 0.9989 - val_loss: 3.4833 - val_accuracy: 0.4438 - lr: 1.0000e-06\n",
            "Epoch 67/100\n",
            "293/293 [==============================] - 13s 44ms/step - loss: 0.0135 - accuracy: 0.9985 - val_loss: 3.4877 - val_accuracy: 0.4441 - lr: 1.0000e-06\n",
            "Epoch 68/100\n",
            "293/293 [==============================] - 13s 43ms/step - loss: 0.0134 - accuracy: 0.9987 - val_loss: 3.4841 - val_accuracy: 0.4438 - lr: 1.0000e-06\n",
            "Epoch 69/100\n",
            "293/293 [==============================] - 13s 43ms/step - loss: 0.0130 - accuracy: 0.9987 - val_loss: 3.4885 - val_accuracy: 0.4438 - lr: 1.0000e-06\n",
            "Epoch 70/100\n",
            "293/293 [==============================] - 13s 44ms/step - loss: 0.0133 - accuracy: 0.9987 - val_loss: 3.4825 - val_accuracy: 0.4446 - lr: 1.0000e-06\n",
            "Epoch 71/100\n",
            "293/293 [==============================] - 13s 43ms/step - loss: 0.0138 - accuracy: 0.9985 - val_loss: 3.4860 - val_accuracy: 0.4440 - lr: 1.0000e-06\n",
            "Epoch 72/100\n",
            "293/293 [==============================] - 13s 44ms/step - loss: 0.0133 - accuracy: 0.9986 - val_loss: 3.4825 - val_accuracy: 0.4436 - lr: 1.0000e-06\n",
            "Epoch 73/100\n",
            "293/293 [==============================] - 13s 44ms/step - loss: 0.0128 - accuracy: 0.9987 - val_loss: 3.4857 - val_accuracy: 0.4439 - lr: 1.0000e-06\n",
            "Epoch 74/100\n",
            "293/293 [==============================] - 13s 45ms/step - loss: 0.0137 - accuracy: 0.9982 - val_loss: 3.4837 - val_accuracy: 0.4440 - lr: 1.0000e-06\n",
            "Epoch 75/100\n",
            "293/293 [==============================] - 13s 45ms/step - loss: 0.0131 - accuracy: 0.9987 - val_loss: 3.4844 - val_accuracy: 0.4442 - lr: 1.0000e-06\n",
            "Epoch 76/100\n",
            "293/293 [==============================] - 13s 45ms/step - loss: 0.0134 - accuracy: 0.9986 - val_loss: 3.4850 - val_accuracy: 0.4438 - lr: 1.0000e-06\n",
            "Epoch 77/100\n",
            "293/293 [==============================] - 13s 45ms/step - loss: 0.0133 - accuracy: 0.9986 - val_loss: 3.4862 - val_accuracy: 0.4436 - lr: 1.0000e-06\n",
            "Epoch 78/100\n",
            "293/293 [==============================] - 13s 45ms/step - loss: 0.0138 - accuracy: 0.9985 - val_loss: 3.4877 - val_accuracy: 0.4440 - lr: 1.0000e-06\n",
            "Epoch 79/100\n",
            "293/293 [==============================] - 13s 45ms/step - loss: 0.0131 - accuracy: 0.9989 - val_loss: 3.4900 - val_accuracy: 0.4438 - lr: 1.0000e-06\n",
            "Epoch 80/100\n",
            "293/293 [==============================] - 13s 44ms/step - loss: 0.0127 - accuracy: 0.9990 - val_loss: 3.4883 - val_accuracy: 0.4440 - lr: 1.0000e-06\n",
            "Epoch 81/100\n",
            "293/293 [==============================] - 13s 44ms/step - loss: 0.0129 - accuracy: 0.9986 - val_loss: 3.4865 - val_accuracy: 0.4446 - lr: 1.0000e-06\n",
            "Epoch 82/100\n",
            "293/293 [==============================] - 13s 44ms/step - loss: 0.0129 - accuracy: 0.9989 - val_loss: 3.4870 - val_accuracy: 0.4445 - lr: 1.0000e-06\n",
            "Epoch 83/100\n",
            "293/293 [==============================] - 13s 43ms/step - loss: 0.0128 - accuracy: 0.9988 - val_loss: 3.4912 - val_accuracy: 0.4441 - lr: 1.0000e-06\n",
            "Epoch 84/100\n",
            "293/293 [==============================] - 13s 44ms/step - loss: 0.0118 - accuracy: 0.9991 - val_loss: 3.4874 - val_accuracy: 0.4437 - lr: 1.0000e-06\n",
            "Epoch 85/100\n",
            "293/293 [==============================] - 13s 44ms/step - loss: 0.0126 - accuracy: 0.9988 - val_loss: 3.4881 - val_accuracy: 0.4435 - lr: 1.0000e-06\n",
            "Epoch 86/100\n",
            "293/293 [==============================] - 13s 45ms/step - loss: 0.0127 - accuracy: 0.9987 - val_loss: 3.4889 - val_accuracy: 0.4432 - lr: 1.0000e-06\n",
            "Epoch 87/100\n",
            "293/293 [==============================] - 13s 45ms/step - loss: 0.0136 - accuracy: 0.9986 - val_loss: 3.4838 - val_accuracy: 0.4442 - lr: 1.0000e-06\n",
            "Epoch 88/100\n",
            "293/293 [==============================] - 13s 45ms/step - loss: 0.0131 - accuracy: 0.9989 - val_loss: 3.4882 - val_accuracy: 0.4437 - lr: 1.0000e-06\n",
            "Epoch 89/100\n",
            "293/293 [==============================] - 13s 45ms/step - loss: 0.0128 - accuracy: 0.9988 - val_loss: 3.4861 - val_accuracy: 0.4437 - lr: 1.0000e-06\n",
            "Epoch 90/100\n",
            "293/293 [==============================] - 13s 45ms/step - loss: 0.0127 - accuracy: 0.9989 - val_loss: 3.4904 - val_accuracy: 0.4438 - lr: 1.0000e-06\n",
            "Epoch 91/100\n",
            "293/293 [==============================] - 13s 45ms/step - loss: 0.0136 - accuracy: 0.9986 - val_loss: 3.4885 - val_accuracy: 0.4433 - lr: 1.0000e-06\n",
            "Epoch 92/100\n",
            "293/293 [==============================] - 13s 45ms/step - loss: 0.0132 - accuracy: 0.9986 - val_loss: 3.4887 - val_accuracy: 0.4436 - lr: 1.0000e-06\n",
            "Epoch 93/100\n",
            "293/293 [==============================] - 13s 45ms/step - loss: 0.0128 - accuracy: 0.9986 - val_loss: 3.4892 - val_accuracy: 0.4435 - lr: 1.0000e-06\n",
            "Epoch 94/100\n",
            "293/293 [==============================] - 13s 44ms/step - loss: 0.0132 - accuracy: 0.9985 - val_loss: 3.4911 - val_accuracy: 0.4444 - lr: 1.0000e-06\n",
            "Epoch 95/100\n",
            "293/293 [==============================] - 13s 43ms/step - loss: 0.0126 - accuracy: 0.9990 - val_loss: 3.4906 - val_accuracy: 0.4435 - lr: 1.0000e-06\n",
            "Epoch 96/100\n",
            "293/293 [==============================] - 14s 46ms/step - loss: 0.0127 - accuracy: 0.9989 - val_loss: 3.4934 - val_accuracy: 0.4433 - lr: 1.0000e-06\n",
            "Epoch 97/100\n",
            "293/293 [==============================] - 13s 44ms/step - loss: 0.0131 - accuracy: 0.9988 - val_loss: 3.4874 - val_accuracy: 0.4442 - lr: 1.0000e-06\n",
            "Epoch 98/100\n",
            "293/293 [==============================] - 39s 134ms/step - loss: 0.0120 - accuracy: 0.9991 - val_loss: 3.4897 - val_accuracy: 0.4436 - lr: 1.0000e-06\n",
            "Epoch 99/100\n",
            "293/293 [==============================] - 12s 41ms/step - loss: 0.0125 - accuracy: 0.9989 - val_loss: 3.4953 - val_accuracy: 0.4439 - lr: 1.0000e-06\n",
            "Epoch 100/100\n",
            "293/293 [==============================] - 11s 38ms/step - loss: 0.0125 - accuracy: 0.9989 - val_loss: 3.4927 - val_accuracy: 0.4441 - lr: 1.0000e-06\n"
          ]
        }
      ],
      "source": [
        "history = model.fit(\n",
        "    X_training, y_training,\n",
        "    validation_data=(X_val, y_val),\n",
        "    epochs=100,\n",
        "    batch_size=128,\n",
        "    callbacks=[checkpoint, reduce_lr]\n",
        ")"
      ]
    },
    {
      "cell_type": "code",
      "execution_count": 9,
      "metadata": {},
      "outputs": [
        {
          "data": {
            "text/plain": [
              "dict_keys(['loss', 'accuracy', 'val_loss', 'val_accuracy', 'lr'])"
            ]
          },
          "execution_count": 9,
          "metadata": {},
          "output_type": "execute_result"
        }
      ],
      "source": [
        "history.history.keys()"
      ]
    },
    {
      "cell_type": "code",
      "execution_count": 10,
      "metadata": {},
      "outputs": [
        {
          "data": {
            "image/png": "[encoded data removed]",
            "text/plain": [
              "<Figure size 1500x500 with 2 Axes>"
            ]
          },
          "metadata": {},
          "output_type": "display_data"
        }
      ],
      "source": [
        "pd.DataFrame({\"epoch\": history.epoch,\n",
        "              \n",
        "              \"loss\": history.history[\"loss\"],\n",
        "              \"val_loss\": history.history[\"val_loss\"],\n",
        "              \"accuracy\": history.history[\"accuracy\"],\n",
        "              \"val_accuracy\": history.history[\"val_accuracy\"]})\n",
        "\n",
        "fig, ax = plt.subplots(1, 2, figsize=(15, 5))\n",
        "plt.subplot(1, 2, 1)\n",
        "plt.plot(history.history[\"loss\"], label=\"loss\")\n",
        "plt.plot(history.history[\"val_loss\"], label=\"val_loss\")\n",
        "plt.title(\"Loss\")\n",
        "plt.xlabel(\"Epochs\")\n",
        "plt.ylabel(\"Loss\")\n",
        "plt.legend()\n",
        "plt.subplot(1, 2, 2)\n",
        "plt.plot(history.history[\"accuracy\"], label=\"accuracy\")\n",
        "plt.plot(history.history[\"val_accuracy\"], label=\"val_accuracy\")\n",
        "plt.title(\"Accuracy\")\n",
        "plt.xlabel(\"Epochs\")\n",
        "plt.ylabel(\"Accuracy\")\n",
        "plt.legend()\n",
        "plt.show()"
      ]
    },
    {
      "cell_type": "code",
      "execution_count": 7,
      "metadata": {},
      "outputs": [
        {
          "name": "stderr",
          "output_type": "stream",
          "text": [
            "2025-04-23 12:26:00.020612: I tensorflow/core/grappler/optimizers/custom_graph_optimizer_registry.cc:114] Plugin optimizer for device_type GPU is enabled.\n"
          ]
        },
        {
          "name": "stdout",
          "output_type": "stream",
          "text": [
            "313/313 - 4s - loss: 2.4456 - accuracy: 0.4167 - 4s/epoch - 12ms/step\n",
            "Test Accuracy: 41.67%\n",
            "Test Loss: 2.4456\n"
          ]
        }
      ],
      "source": [
        "from tensorflow.keras.models import load_model\n",
        "model = load_model(\"cnn_model.h5\")\n",
        "\n",
        "# Evaluate the model\n",
        "test_loss, test_acc = model.evaluate(X_test, y_test, verbose=2)\n",
        "print(f\"Test Accuracy: {test_acc * 100:.2f}%\")\n",
        "print(f\"Test Loss: {test_loss:.4f}\")\n"
      ]
    },
    {
      "cell_type": "code",
      "execution_count": 8,
      "metadata": {},
      "outputs": [
        {
          "name": "stdout",
          "output_type": "stream",
          "text": [
            "  9/313 [..............................] - ETA: 1s  "
          ]
        },
        {
          "name": "stderr",
          "output_type": "stream",
          "text": [
            "2025-04-23 12:26:10.907138: I tensorflow/core/grappler/optimizers/custom_graph_optimizer_registry.cc:114] Plugin optimizer for device_type GPU is enabled.\n"
          ]
        },
        {
          "name": "stdout",
          "output_type": "stream",
          "text": [
            "313/313 [==============================] - 2s 7ms/step\n"
          ]
        },
        {
          "name": "stderr",
          "output_type": "stream",
          "text": [
            "/Users/sumitsontakke/Documents/Dev/PES/DL_Practice/mlos/lib/python3.9/site-packages/sklearn/metrics/_classification.py:1565: UndefinedMetricWarning: Recall is ill-defined and being set to 0.0 in labels with no true samples. Use `zero_division` parameter to control this behavior.\n",
            "  _warn_prf(average, modifier, f\"{metric.capitalize()} is\", len(result))\n",
            "/Users/sumitsontakke/Documents/Dev/PES/DL_Practice/mlos/lib/python3.9/site-packages/sklearn/metrics/_classification.py:1565: UndefinedMetricWarning: Recall is ill-defined and being set to 0.0 in labels with no true samples. Use `zero_division` parameter to control this behavior.\n",
            "  _warn_prf(average, modifier, f\"{metric.capitalize()} is\", len(result))\n",
            "/Users/sumitsontakke/Documents/Dev/PES/DL_Practice/mlos/lib/python3.9/site-packages/sklearn/metrics/_classification.py:1565: UndefinedMetricWarning: Recall is ill-defined and being set to 0.0 in labels with no true samples. Use `zero_division` parameter to control this behavior.\n",
            "  _warn_prf(average, modifier, f\"{metric.capitalize()} is\", len(result))\n"
          ]
        },
        {
          "data": {
            "image/png": "[encoded data removed]",
            "text/plain": [
              "<Figure size 2000x1000 with 1 Axes>"
            ]
          },
          "metadata": {},
          "output_type": "display_data"
        }
      ],
      "source": [
        "# Get predicted class probabilities\n",
        "y_pred_probs = model.predict(X_test)\n",
        "\n",
        "# Convert probabilities to class labels\n",
        "y_pred_classes = np.argmax(y_pred_probs, axis=1)\n",
        "y_true_classes = np.argmax(y_test, axis=1)\n",
        "\n",
        "from sklearn.metrics import classification_report\n",
        "# Print classification report\n",
        "csr = classification_report(y_true_classes, y_pred_classes, output_dict=True)\n",
        "\n",
        "# Confusion Matrix doesn't help here due to large number of classes.\n",
        "csr = pd.DataFrame(csr).T\n",
        "csr = csr.reset_index()\n",
        "csr.plot(x='index', figsize=(20,10))\n",
        "plt.title(\"Classification Report\")\n",
        "plt.xlabel(\"Classes\")\n",
        "plt.ylabel(\"Scores\")\n",
        "plt.legend([\"Precision\", \"Recall\", \"F1-Score\", \"Support\"])\n",
        "plt.show()"
      ]
    },
    {
      "cell_type": "code",
      "execution_count": 9,
      "metadata": {},
      "outputs": [
        {
          "data": {
            "text/html": [
              "<div>\n",
              "<style scoped>\n",
              "    .dataframe tbody tr th:only-of-type {\n",
              "        vertical-align: middle;\n",
              "    }\n",
              "\n",
              "    .dataframe tbody tr th {\n",
              "        vertical-align: top;\n",
              "    }\n",
              "\n",
              "    .dataframe thead th {\n",
              "        text-align: right;\n",
              "    }\n",
              "</style>\n",
              "<table border=\"1\" class=\"dataframe\">\n",
              "  <thead>\n",
              "    <tr style=\"text-align: right;\">\n",
              "      <th></th>\n",
              "      <th>index</th>\n",
              "      <th>precision</th>\n",
              "      <th>recall</th>\n",
              "      <th>f1-score</th>\n",
              "      <th>support</th>\n",
              "    </tr>\n",
              "  </thead>\n",
              "  <tbody>\n",
              "    <tr>\n",
              "      <th>0</th>\n",
              "      <td>0</td>\n",
              "      <td>1.0000</td>\n",
              "      <td>0.010700</td>\n",
              "      <td>0.021173</td>\n",
              "      <td>10000.0000</td>\n",
              "    </tr>\n",
              "    <tr>\n",
              "      <th>102</th>\n",
              "      <td>weighted avg</td>\n",
              "      <td>1.0000</td>\n",
              "      <td>0.010700</td>\n",
              "      <td>0.021173</td>\n",
              "      <td>10000.0000</td>\n",
              "    </tr>\n",
              "    <tr>\n",
              "      <th>100</th>\n",
              "      <td>accuracy</td>\n",
              "      <td>0.0107</td>\n",
              "      <td>0.010700</td>\n",
              "      <td>0.010700</td>\n",
              "      <td>0.0107</td>\n",
              "    </tr>\n",
              "    <tr>\n",
              "      <th>101</th>\n",
              "      <td>macro avg</td>\n",
              "      <td>0.0100</td>\n",
              "      <td>0.000107</td>\n",
              "      <td>0.000212</td>\n",
              "      <td>10000.0000</td>\n",
              "    </tr>\n",
              "    <tr>\n",
              "      <th>2</th>\n",
              "      <td>2</td>\n",
              "      <td>0.0000</td>\n",
              "      <td>0.000000</td>\n",
              "      <td>0.000000</td>\n",
              "      <td>0.0000</td>\n",
              "    </tr>\n",
              "    <tr>\n",
              "      <th>...</th>\n",
              "      <td>...</td>\n",
              "      <td>...</td>\n",
              "      <td>...</td>\n",
              "      <td>...</td>\n",
              "      <td>...</td>\n",
              "    </tr>\n",
              "    <tr>\n",
              "      <th>33</th>\n",
              "      <td>33</td>\n",
              "      <td>0.0000</td>\n",
              "      <td>0.000000</td>\n",
              "      <td>0.000000</td>\n",
              "      <td>0.0000</td>\n",
              "    </tr>\n",
              "    <tr>\n",
              "      <th>32</th>\n",
              "      <td>32</td>\n",
              "      <td>0.0000</td>\n",
              "      <td>0.000000</td>\n",
              "      <td>0.000000</td>\n",
              "      <td>0.0000</td>\n",
              "    </tr>\n",
              "    <tr>\n",
              "      <th>31</th>\n",
              "      <td>31</td>\n",
              "      <td>0.0000</td>\n",
              "      <td>0.000000</td>\n",
              "      <td>0.000000</td>\n",
              "      <td>0.0000</td>\n",
              "    </tr>\n",
              "    <tr>\n",
              "      <th>30</th>\n",
              "      <td>30</td>\n",
              "      <td>0.0000</td>\n",
              "      <td>0.000000</td>\n",
              "      <td>0.000000</td>\n",
              "      <td>0.0000</td>\n",
              "    </tr>\n",
              "    <tr>\n",
              "      <th>51</th>\n",
              "      <td>51</td>\n",
              "      <td>0.0000</td>\n",
              "      <td>0.000000</td>\n",
              "      <td>0.000000</td>\n",
              "      <td>0.0000</td>\n",
              "    </tr>\n",
              "  </tbody>\n",
              "</table>\n",
              "<p>103 rows × 5 columns</p>\n",
              "</div>"
            ],
            "text/plain": [
              "            index  precision    recall  f1-score     support\n",
              "0               0     1.0000  0.010700  0.021173  10000.0000\n",
              "102  weighted avg     1.0000  0.010700  0.021173  10000.0000\n",
              "100      accuracy     0.0107  0.010700  0.010700      0.0107\n",
              "101     macro avg     0.0100  0.000107  0.000212  10000.0000\n",
              "2               2     0.0000  0.000000  0.000000      0.0000\n",
              "..            ...        ...       ...       ...         ...\n",
              "33             33     0.0000  0.000000  0.000000      0.0000\n",
              "32             32     0.0000  0.000000  0.000000      0.0000\n",
              "31             31     0.0000  0.000000  0.000000      0.0000\n",
              "30             30     0.0000  0.000000  0.000000      0.0000\n",
              "51             51     0.0000  0.000000  0.000000      0.0000\n",
              "\n",
              "[103 rows x 5 columns]"
            ]
          },
          "execution_count": 9,
          "metadata": {},
          "output_type": "execute_result"
        }
      ],
      "source": [
        "csr.sort_values(by='f1-score', ascending=False, inplace=True)\n",
        "csr"
      ]
    },
    {
      "cell_type": "code",
      "execution_count": null,
      "metadata": {},
      "outputs": [],
      "source": []
    }
  ],
  "metadata": {
    "accelerator": "GPU",
    "colab": {
      "authorship_tag": "ABX9TyOV9GLwEX7Y+3r+FCKD7+va",
      "gpuType": "T4",
      "include_colab_link": true,
      "provenance": []
    },
    "kernelspec": {
      "display_name": "mlos",
      "language": "python",
      "name": "python3"
    },
    "language_info": {
      "codemirror_mode": {
        "name": "ipython",
        "version": 3
      },
      "file_extension": ".py",
      "mimetype": "text/x-python",
      "name": "python",
      "nbconvert_exporter": "python",
      "pygments_lexer": "ipython3",
      "version": "3.9.6"
    }
  },
  "nbformat": 4,
  "nbformat_minor": 0
}
