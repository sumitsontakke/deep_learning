{
  "nbformat": 4,
  "nbformat_minor": 0,
  "metadata": {
    "colab": {
      "provenance": [],
      "gpuType": "T4",
      "authorship_tag": "ABX9TyMl2sVUi2G9/FvmB1pTjrie",
      "include_colab_link": true
    },
    "kernelspec": {
      "name": "python3",
      "display_name": "Python 3"
    },
    "language_info": {
      "name": "python"
    },
    "accelerator": "GPU"
  },
  "cells": [
    {
      "cell_type": "markdown",
      "metadata": {
        "id": "view-in-github",
        "colab_type": "text"
      },
      "source": [
        "<a href=\"https://colab.research.google.com/github/sumitsontakke/deep_learning/blob/main/CNN/a0_ciphar10.ipynb\" target=\"_parent\"><img src=\"https://colab.research.google.com/assets/colab-badge.svg\" alt=\"Open In Colab\"/></a>"
      ]
    },
    {
      "cell_type": "code",
      "execution_count": 1,
      "metadata": {
        "colab": {
          "base_uri": "https://localhost:8080/"
        },
        "id": "yl7t32A5mkgW",
        "outputId": "52395fb1-1a2b-4a59-841f-ce4304b86b2b"
      },
      "outputs": [
        {
          "output_type": "stream",
          "name": "stdout",
          "text": [
            "Downloading data from https://www.cs.toronto.edu/~kriz/cifar-10-python.tar.gz\n",
            "\u001b[1m170498071/170498071\u001b[0m \u001b[32m━━━━━━━━━━━━━━━━━━━━\u001b[0m\u001b[37m\u001b[0m \u001b[1m4s\u001b[0m 0us/step\n"
          ]
        },
        {
          "output_type": "stream",
          "name": "stderr",
          "text": [
            "/usr/local/lib/python3.11/dist-packages/keras/src/layers/convolutional/base_conv.py:107: UserWarning: Do not pass an `input_shape`/`input_dim` argument to a layer. When using Sequential models, prefer using an `Input(shape)` object as the first layer in the model instead.\n",
            "  super().__init__(activity_regularizer=activity_regularizer, **kwargs)\n"
          ]
        },
        {
          "output_type": "stream",
          "name": "stdout",
          "text": [
            "Epoch 1/30\n"
          ]
        },
        {
          "output_type": "stream",
          "name": "stderr",
          "text": [
            "WARNING:absl:You are saving your model as an HDF5 file via `model.save()` or `keras.saving.save_model(model)`. This file format is considered legacy. We recommend using instead the native Keras format, e.g. `model.save('my_model.keras')` or `keras.saving.save_model(model, 'my_model.keras')`. \n"
          ]
        },
        {
          "output_type": "stream",
          "name": "stdout",
          "text": [
            "625/625 - 14s - 22ms/step - accuracy: 0.3800 - loss: 1.7327 - val_accuracy: 0.3613 - val_loss: 2.0870\n",
            "Epoch 2/30\n"
          ]
        },
        {
          "output_type": "stream",
          "name": "stderr",
          "text": [
            "WARNING:absl:You are saving your model as an HDF5 file via `model.save()` or `keras.saving.save_model(model)`. This file format is considered legacy. We recommend using instead the native Keras format, e.g. `model.save('my_model.keras')` or `keras.saving.save_model(model, 'my_model.keras')`. \n"
          ]
        },
        {
          "output_type": "stream",
          "name": "stdout",
          "text": [
            "625/625 - 13s - 21ms/step - accuracy: 0.5113 - loss: 1.3608 - val_accuracy: 0.5576 - val_loss: 1.2421\n",
            "Epoch 3/30\n"
          ]
        },
        {
          "output_type": "stream",
          "name": "stderr",
          "text": [
            "WARNING:absl:You are saving your model as an HDF5 file via `model.save()` or `keras.saving.save_model(model)`. This file format is considered legacy. We recommend using instead the native Keras format, e.g. `model.save('my_model.keras')` or `keras.saving.save_model(model, 'my_model.keras')`. \n"
          ]
        },
        {
          "output_type": "stream",
          "name": "stdout",
          "text": [
            "625/625 - 3s - 5ms/step - accuracy: 0.5688 - loss: 1.2136 - val_accuracy: 0.6242 - val_loss: 1.0666\n",
            "Epoch 4/30\n",
            "625/625 - 3s - 5ms/step - accuracy: 0.6054 - loss: 1.1148 - val_accuracy: 0.4943 - val_loss: 1.6663\n",
            "Epoch 5/30\n"
          ]
        },
        {
          "output_type": "stream",
          "name": "stderr",
          "text": [
            "WARNING:absl:You are saving your model as an HDF5 file via `model.save()` or `keras.saving.save_model(model)`. This file format is considered legacy. We recommend using instead the native Keras format, e.g. `model.save('my_model.keras')` or `keras.saving.save_model(model, 'my_model.keras')`. \n"
          ]
        },
        {
          "output_type": "stream",
          "name": "stdout",
          "text": [
            "625/625 - 3s - 5ms/step - accuracy: 0.6351 - loss: 1.0362 - val_accuracy: 0.6742 - val_loss: 0.9253\n",
            "Epoch 6/30\n",
            "625/625 - 3s - 5ms/step - accuracy: 0.6517 - loss: 0.9916 - val_accuracy: 0.6285 - val_loss: 1.0469\n",
            "Epoch 7/30\n",
            "625/625 - 5s - 8ms/step - accuracy: 0.6713 - loss: 0.9392 - val_accuracy: 0.6553 - val_loss: 1.0375\n",
            "Epoch 8/30\n",
            "625/625 - 3s - 5ms/step - accuracy: 0.6857 - loss: 0.8973 - val_accuracy: 0.6530 - val_loss: 1.0519\n",
            "Epoch 9/30\n"
          ]
        },
        {
          "output_type": "stream",
          "name": "stderr",
          "text": [
            "WARNING:absl:You are saving your model as an HDF5 file via `model.save()` or `keras.saving.save_model(model)`. This file format is considered legacy. We recommend using instead the native Keras format, e.g. `model.save('my_model.keras')` or `keras.saving.save_model(model, 'my_model.keras')`. \n"
          ]
        },
        {
          "output_type": "stream",
          "name": "stdout",
          "text": [
            "625/625 - 5s - 8ms/step - accuracy: 0.6972 - loss: 0.8688 - val_accuracy: 0.6917 - val_loss: 0.9035\n",
            "Epoch 10/30\n"
          ]
        },
        {
          "output_type": "stream",
          "name": "stderr",
          "text": [
            "WARNING:absl:You are saving your model as an HDF5 file via `model.save()` or `keras.saving.save_model(model)`. This file format is considered legacy. We recommend using instead the native Keras format, e.g. `model.save('my_model.keras')` or `keras.saving.save_model(model, 'my_model.keras')`. \n"
          ]
        },
        {
          "output_type": "stream",
          "name": "stdout",
          "text": [
            "625/625 - 3s - 5ms/step - accuracy: 0.7078 - loss: 0.8349 - val_accuracy: 0.7396 - val_loss: 0.7473\n",
            "Epoch 11/30\n",
            "625/625 - 3s - 5ms/step - accuracy: 0.7150 - loss: 0.8132 - val_accuracy: 0.7176 - val_loss: 0.8544\n",
            "Epoch 12/30\n",
            "625/625 - 5s - 8ms/step - accuracy: 0.7227 - loss: 0.7916 - val_accuracy: 0.7239 - val_loss: 0.8430\n",
            "Epoch 13/30\n",
            "625/625 - 3s - 5ms/step - accuracy: 0.7284 - loss: 0.7758 - val_accuracy: 0.7342 - val_loss: 0.7876\n",
            "Epoch 14/30\n",
            "625/625 - 5s - 9ms/step - accuracy: 0.7385 - loss: 0.7523 - val_accuracy: 0.6444 - val_loss: 1.0455\n",
            "Epoch 15/30\n",
            "625/625 - 5s - 7ms/step - accuracy: 0.7391 - loss: 0.7497 - val_accuracy: 0.7234 - val_loss: 0.7957\n",
            "313/313 - 1s - 4ms/step - accuracy: 0.7387 - loss: 0.7615\n",
            "\n",
            "✅ Test Accuracy: 0.7387, Test Loss: 0.7615\n"
          ]
        }
      ],
      "source": [
        "import tensorflow as tf\n",
        "from tensorflow.keras.models import Sequential\n",
        "from tensorflow.keras.layers import Conv2D, MaxPooling2D, Dropout, Flatten, Dense, BatchNormalization\n",
        "from tensorflow.keras.callbacks import EarlyStopping, ModelCheckpoint\n",
        "from tensorflow.keras.datasets import cifar10\n",
        "from tensorflow.keras.utils import to_categorical\n",
        "\n",
        "# Load and preprocess CIFAR-10\n",
        "(X_train, y_train), (X_test, y_test) = cifar10.load_data()\n",
        "\n",
        "# Normalize pixel values to [0, 1]\n",
        "X_train = X_train.astype(\"float32\") / 255.0\n",
        "X_test = X_test.astype(\"float32\") / 255.0\n",
        "\n",
        "# Convert labels to categorical if needed (optional)\n",
        "# y_train = to_categorical(y_train, 10)\n",
        "# y_test = to_categorical(y_test, 10)\n",
        "\n",
        "# Define CNN model\n",
        "def build_cnn():\n",
        "    model = Sequential([\n",
        "        Conv2D(32, (3,3), activation='relu', padding='same', input_shape=(32, 32, 3)),\n",
        "        BatchNormalization(),\n",
        "        MaxPooling2D((2,2)),\n",
        "        Dropout(0.25),\n",
        "\n",
        "        Conv2D(64, (3,3), activation='relu', padding='same'),\n",
        "        BatchNormalization(),\n",
        "        MaxPooling2D((2,2)),\n",
        "        Dropout(0.25),\n",
        "\n",
        "        Conv2D(128, (3,3), activation='relu', padding='same'),\n",
        "        BatchNormalization(),\n",
        "        MaxPooling2D((2,2)),\n",
        "        Dropout(0.4),\n",
        "\n",
        "        Flatten(),\n",
        "        Dense(128, activation='relu'),\n",
        "        Dropout(0.3),\n",
        "        Dense(10, activation='softmax')\n",
        "    ])\n",
        "\n",
        "    model.compile(\n",
        "        optimizer=tf.keras.optimizers.Adam(learning_rate=0.001),\n",
        "        loss='sparse_categorical_crossentropy',\n",
        "        metrics=['accuracy']\n",
        "    )\n",
        "    return model\n",
        "\n",
        "# Build model\n",
        "model = build_cnn()\n",
        "\n",
        "# Callbacks\n",
        "early_stop = EarlyStopping(monitor='val_loss', patience=5, restore_best_weights=True)\n",
        "checkpoint = ModelCheckpoint(\"best_cifar10_cnn.h5\", save_best_only=True)\n",
        "\n",
        "# Train the model\n",
        "history = model.fit(\n",
        "    X_train, y_train,\n",
        "    validation_split=0.2,\n",
        "    epochs=30,\n",
        "    batch_size=64,\n",
        "    callbacks=[early_stop, checkpoint],\n",
        "    verbose=2\n",
        ")\n",
        "\n",
        "# Evaluate on test set\n",
        "test_loss, test_acc = model.evaluate(X_test, y_test, verbose=2)\n",
        "print(f\"\\n✅ Test Accuracy: {test_acc:.4f}, Test Loss: {test_loss:.4f}\")\n"
      ]
    },
    {
      "cell_type": "code",
      "source": [],
      "metadata": {
        "id": "Z2uWDhhXnXEj"
      },
      "execution_count": null,
      "outputs": []
    }
  ]
}