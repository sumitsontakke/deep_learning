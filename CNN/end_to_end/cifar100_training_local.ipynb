{
  "cells": [
    {
      "cell_type": "markdown",
      "metadata": {
        "colab_type": "text",
        "id": "view-in-github"
      },
      "source": [
        "<a href=\"https://colab.research.google.com/github/sumitsontakke/deep_learning/blob/main/CNN/end_to_end/cifar100_training_v0.ipynb\" target=\"_parent\"><img src=\"https://colab.research.google.com/assets/colab-badge.svg\" alt=\"Open In Colab\"/></a>"
      ]
    },
    {
      "cell_type": "code",
      "execution_count": 22,
      "metadata": {
        "id": "iAcIi_H8PbIV"
      },
      "outputs": [],
      "source": [
        "\n",
        "import pandas as pd\n",
        "import numpy as np\n",
        "import tensorflow as tf\n",
        "import matplotlib.pyplot as plt\n",
        "\n",
        "from tensorflow.keras import Input\n",
        "from tensorflow.keras.models import Sequential\n",
        "from tensorflow.keras.layers import Conv2D, MaxPooling2D, Dropout, Flatten, Dense, BatchNormalization\n",
        "from tensorflow.keras.callbacks import EarlyStopping, ModelCheckpoint\n",
        "from tensorflow.keras.datasets import cifar100\n",
        "from tensorflow.keras.utils import to_categorical\n",
        "from tensorflow.keras.metrics import TopKCategoricalAccuracy\n",
        "\n",
        "from sklearn.model_selection import train_test_split"
      ]
    },
    {
      "cell_type": "code",
      "execution_count": 23,
      "metadata": {
        "colab": {
          "base_uri": "https://localhost:8080/"
        },
        "id": "Il1oCkfbPok3",
        "outputId": "6607b654-3615-44de-8220-ef83028ceeb3"
      },
      "outputs": [
        {
          "name": "stdout",
          "output_type": "stream",
          "text": [
            "(50000, 32, 32, 3) (50000, 1)\n",
            "(10000, 32, 32, 3) (10000, 1)\n"
          ]
        }
      ],
      "source": [
        "from tensorflow.keras.datasets import cifar100\n",
        "\n",
        "(X_train, y_train), (X_test, y_test) = cifar100.load_data()\n",
        "\n",
        "# Normalize X data\n",
        "X_train = X_train.astype('float32') / 255.0\n",
        "X_test = X_test.astype('float32') / 255.0\n",
        "\n",
        "print(X_train.shape, y_train.shape)\n",
        "print(X_test.shape, y_test.shape)"
      ]
    },
    {
      "cell_type": "markdown",
      "metadata": {
        "id": "4PBeD59WYHGC"
      },
      "source": [
        "Parameter | Guideline\n",
        "--- | ---\n",
        "filters | Start small: 32 → 64 → 128 → (256)*\n",
        "kernel_size | (3,3) is standard; rarely need bigger\n",
        "activation | Always use 'relu'\n",
        "padding | Use 'same' to maintain image size\n",
        "input_shape | Only for the first Conv layer\n",
        "\n",
        "```python\n",
        "Conv2D(filters=32, kernel_size=(3,3), ...)\n",
        "```\n",
        "\n",
        "Term | Meaning\n",
        "--- | ---\n",
        "filters=32 | 32 different 3×3×input_channels filters are learned\n",
        "Each filter | Extracts one specific kind of feature (edges, blobs, etc.)\n",
        "stride | How far the filter slides per move\n",
        "Output | One 2D feature map per filter, stacked into 3D output"
      ]
    },
    {
      "cell_type": "code",
      "execution_count": 9,
      "metadata": {
        "colab": {
          "base_uri": "https://localhost:8080/",
          "height": 689
        },
        "id": "ZQPFF5_bQ2bf",
        "outputId": "d0412837-6cb9-467c-9885-e39186c8704c"
      },
      "outputs": [
        {
          "name": "stderr",
          "output_type": "stream",
          "text": [
            "2025-04-22 15:48:28.326478: I tensorflow/core/common_runtime/pluggable_device/pluggable_device_factory.cc:306] Could not identify NUMA node of platform GPU ID 0, defaulting to 0. Your kernel may not have been built with NUMA support.\n",
            "2025-04-22 15:48:28.326875: I tensorflow/core/common_runtime/pluggable_device/pluggable_device_factory.cc:272] Created TensorFlow device (/job:localhost/replica:0/task:0/device:GPU:0 with 0 MB memory) -> physical PluggableDevice (device: 0, name: METAL, pci bus id: <undefined>)\n"
          ]
        },
        {
          "name": "stdout",
          "output_type": "stream",
          "text": [
            "Model: \"sequential\"\n",
            "_________________________________________________________________\n",
            " Layer (type)                Output Shape              Param #   \n",
            "=================================================================\n",
            " conv2d (Conv2D)             (None, 32, 32, 32)        896       \n",
            "                                                                 \n",
            " batch_normalization (BatchN  (None, 32, 32, 32)       128       \n",
            " ormalization)                                                   \n",
            "                                                                 \n",
            " max_pooling2d (MaxPooling2D  (None, 16, 16, 32)       0         \n",
            " )                                                               \n",
            "                                                                 \n",
            " dropout (Dropout)           (None, 16, 16, 32)        0         \n",
            "                                                                 \n",
            " conv2d_1 (Conv2D)           (None, 16, 16, 64)        18496     \n",
            "                                                                 \n",
            " batch_normalization_1 (Batc  (None, 16, 16, 64)       256       \n",
            " hNormalization)                                                 \n",
            "                                                                 \n",
            " max_pooling2d_1 (MaxPooling  (None, 8, 8, 64)         0         \n",
            " 2D)                                                             \n",
            "                                                                 \n",
            " dropout_1 (Dropout)         (None, 8, 8, 64)          0         \n",
            "                                                                 \n",
            " conv2d_2 (Conv2D)           (None, 8, 8, 128)         73856     \n",
            "                                                                 \n",
            " batch_normalization_2 (Batc  (None, 8, 8, 128)        512       \n",
            " hNormalization)                                                 \n",
            "                                                                 \n",
            " max_pooling2d_2 (MaxPooling  (None, 4, 4, 128)        0         \n",
            " 2D)                                                             \n",
            "                                                                 \n",
            " dropout_2 (Dropout)         (None, 4, 4, 128)         0         \n",
            "                                                                 \n",
            " flatten (Flatten)           (None, 2048)              0         \n",
            "                                                                 \n",
            " dense (Dense)               (None, 256)               524544    \n",
            "                                                                 \n",
            " dropout_3 (Dropout)         (None, 256)               0         \n",
            "                                                                 \n",
            " dense_1 (Dense)             (None, 100)               25700     \n",
            "                                                                 \n",
            "=================================================================\n",
            "Total params: 644,388\n",
            "Trainable params: 643,940\n",
            "Non-trainable params: 448\n",
            "_________________________________________________________________\n"
          ]
        }
      ],
      "source": [
        "model = Sequential([\n",
        "    Input(shape=(32,32,3)),\n",
        "    Conv2D(32, (3,3), activation='relu', padding='same'),\n",
        "    BatchNormalization(),\n",
        "    MaxPooling2D(),\n",
        "    Dropout(0.3),\n",
        "\n",
        "    Conv2D(64, (3,3), activation='relu', padding='same'),\n",
        "    BatchNormalization(),\n",
        "    MaxPooling2D(),\n",
        "    Dropout(0.3),\n",
        "\n",
        "    Conv2D(128, (3,3), activation='relu', padding='same'),\n",
        "    BatchNormalization(),\n",
        "    MaxPooling2D(),\n",
        "    Dropout(0.4),\n",
        "\n",
        "    Flatten(),\n",
        "    Dense(256, activation='relu'),\n",
        "    Dropout(0.5),\n",
        "    Dense(100, activation='softmax')\n",
        "])\n",
        "\n",
        "model.summary()"
      ]
    },
    {
      "cell_type": "code",
      "execution_count": 10,
      "metadata": {
        "colab": {
          "base_uri": "https://localhost:8080/"
        },
        "id": "GhpA2BR3Yc4C",
        "outputId": "b2f487bc-86ad-4b0c-a05b-966bd1b70c86"
      },
      "outputs": [
        {
          "name": "stdout",
          "output_type": "stream",
          "text": [
            "Epoch 1/30\n"
          ]
        },
        {
          "name": "stderr",
          "output_type": "stream",
          "text": [
            "2025-04-22 15:48:40.205760: I tensorflow/core/grappler/optimizers/custom_graph_optimizer_registry.cc:114] Plugin optimizer for device_type GPU is enabled.\n",
            "2025-04-22 15:48:40.347139: E tensorflow/core/grappler/optimizers/meta_optimizer.cc:954] model_pruner failed: INVALID_ARGUMENT: Graph does not contain terminal node AssignAddVariableOp_10.\n"
          ]
        },
        {
          "name": "stdout",
          "output_type": "stream",
          "text": [
            "586/586 [==============================] - ETA: 0s - loss: 12.0044 - accuracy: 0.0250"
          ]
        },
        {
          "name": "stderr",
          "output_type": "stream",
          "text": [
            "2025-04-22 15:49:04.441764: I tensorflow/core/grappler/optimizers/custom_graph_optimizer_registry.cc:114] Plugin optimizer for device_type GPU is enabled.\n"
          ]
        },
        {
          "name": "stdout",
          "output_type": "stream",
          "text": [
            "586/586 [==============================] - 27s 35ms/step - loss: 12.0044 - accuracy: 0.0250 - val_loss: 4.5504 - val_accuracy: 0.0500\n",
            "Epoch 2/30\n",
            "586/586 [==============================] - 16s 27ms/step - loss: 7.9148 - accuracy: 0.0411 - val_loss: 4.6675 - val_accuracy: 0.0820\n",
            "Epoch 3/30\n",
            "586/586 [==============================] - 16s 27ms/step - loss: 7.1392 - accuracy: 0.0475 - val_loss: 5.4164 - val_accuracy: 0.0570\n",
            "Epoch 4/30\n",
            "586/586 [==============================] - 16s 28ms/step - loss: 6.8109 - accuracy: 0.0566 - val_loss: 4.6434 - val_accuracy: 0.0866\n",
            "Epoch 5/30\n",
            "586/586 [==============================] - 15s 26ms/step - loss: 6.8837 - accuracy: 0.0570 - val_loss: 5.4331 - val_accuracy: 0.0482\n",
            "Epoch 6/30\n",
            "586/586 [==============================] - 15s 26ms/step - loss: 6.6350 - accuracy: 0.0636 - val_loss: 4.5248 - val_accuracy: 0.0960\n",
            "Epoch 7/30\n",
            "586/586 [==============================] - 16s 27ms/step - loss: 6.6313 - accuracy: 0.0656 - val_loss: 4.8540 - val_accuracy: 0.0911\n",
            "Epoch 8/30\n",
            "586/586 [==============================] - 16s 27ms/step - loss: 6.7641 - accuracy: 0.0685 - val_loss: 4.7859 - val_accuracy: 0.0983\n",
            "Epoch 9/30\n",
            "586/586 [==============================] - 15s 25ms/step - loss: 6.6038 - accuracy: 0.0726 - val_loss: 5.6328 - val_accuracy: 0.0603\n",
            "Epoch 10/30\n",
            "586/586 [==============================] - 15s 26ms/step - loss: 6.7175 - accuracy: 0.0750 - val_loss: 5.0894 - val_accuracy: 0.0821\n",
            "Epoch 11/30\n",
            "586/586 [==============================] - 15s 26ms/step - loss: 6.7847 - accuracy: 0.0788 - val_loss: 4.8192 - val_accuracy: 0.1061\n",
            "Epoch 12/30\n",
            "586/586 [==============================] - 15s 26ms/step - loss: 6.8873 - accuracy: 0.0776 - val_loss: 5.2134 - val_accuracy: 0.0935\n",
            "Epoch 13/30\n",
            "586/586 [==============================] - 15s 26ms/step - loss: 7.0925 - accuracy: 0.0805 - val_loss: 5.4979 - val_accuracy: 0.0894\n",
            "Epoch 14/30\n",
            "586/586 [==============================] - 16s 26ms/step - loss: 7.1873 - accuracy: 0.0822 - val_loss: 5.1134 - val_accuracy: 0.1170\n",
            "Epoch 15/30\n",
            "586/586 [==============================] - 16s 27ms/step - loss: 7.3388 - accuracy: 0.0850 - val_loss: 5.3115 - val_accuracy: 0.1054\n",
            "Epoch 16/30\n",
            "586/586 [==============================] - 16s 28ms/step - loss: 7.1864 - accuracy: 0.0882 - val_loss: 5.6261 - val_accuracy: 0.0954\n",
            "Epoch 17/30\n",
            "586/586 [==============================] - 16s 27ms/step - loss: 7.2916 - accuracy: 0.0910 - val_loss: 4.8433 - val_accuracy: 0.1406\n",
            "Epoch 18/30\n",
            "586/586 [==============================] - 18s 31ms/step - loss: 7.3613 - accuracy: 0.0963 - val_loss: 5.1631 - val_accuracy: 0.1510\n",
            "Epoch 19/30\n",
            "586/586 [==============================] - 21s 35ms/step - loss: 7.3276 - accuracy: 0.0986 - val_loss: 4.8893 - val_accuracy: 0.1569\n",
            "Epoch 20/30\n",
            "586/586 [==============================] - 21s 36ms/step - loss: 7.4552 - accuracy: 0.1033 - val_loss: 5.4879 - val_accuracy: 0.1446\n",
            "Epoch 21/30\n",
            "586/586 [==============================] - 21s 35ms/step - loss: 7.6971 - accuracy: 0.1051 - val_loss: 5.6505 - val_accuracy: 0.1278\n",
            "Epoch 22/30\n",
            "586/586 [==============================] - 21s 35ms/step - loss: 8.0281 - accuracy: 0.1066 - val_loss: 5.6157 - val_accuracy: 0.1486\n",
            "Epoch 23/30\n",
            "586/586 [==============================] - 20s 34ms/step - loss: 8.1910 - accuracy: 0.1128 - val_loss: 6.2000 - val_accuracy: 0.1546\n",
            "Epoch 24/30\n",
            "586/586 [==============================] - 20s 34ms/step - loss: 8.4014 - accuracy: 0.1145 - val_loss: 6.2693 - val_accuracy: 0.1380\n",
            "Epoch 25/30\n",
            "586/586 [==============================] - 22s 37ms/step - loss: 8.6001 - accuracy: 0.1210 - val_loss: 5.3148 - val_accuracy: 0.1654\n",
            "Epoch 26/30\n",
            "586/586 [==============================] - 22s 37ms/step - loss: 8.8877 - accuracy: 0.1214 - val_loss: 5.7072 - val_accuracy: 0.1707\n",
            "Epoch 27/30\n",
            "586/586 [==============================] - 21s 36ms/step - loss: 9.0145 - accuracy: 0.1243 - val_loss: 6.6367 - val_accuracy: 0.1522\n",
            "Epoch 28/30\n",
            "586/586 [==============================] - 21s 36ms/step - loss: 9.0111 - accuracy: 0.1299 - val_loss: 5.3263 - val_accuracy: 0.2056\n",
            "Epoch 29/30\n",
            "586/586 [==============================] - 21s 36ms/step - loss: 9.2538 - accuracy: 0.1307 - val_loss: 6.2070 - val_accuracy: 0.1824\n",
            "Epoch 30/30\n",
            "586/586 [==============================] - 22s 37ms/step - loss: 9.6165 - accuracy: 0.1346 - val_loss: 5.9656 - val_accuracy: 0.1717\n"
          ]
        }
      ],
      "source": [
        "model.compile(\n",
        "    optimizer='adam',\n",
        "    loss='sparse_categorical_crossentropy',\n",
        "    metrics=['accuracy']\n",
        ")\n",
        "\n",
        "history = model.fit(\n",
        "    X_train, y_train,\n",
        "    validation_split=0.25,\n",
        "    epochs=30,\n",
        "    batch_size=64,\n",
        "    verbose=1\n",
        ")\n"
      ]
    },
    {
      "cell_type": "code",
      "execution_count": null,
      "metadata": {},
      "outputs": [],
      "source": []
    },
    {
      "cell_type": "code",
      "execution_count": 11,
      "metadata": {
        "colab": {
          "base_uri": "https://localhost:8080/"
        },
        "id": "Sq8old1HZqES",
        "outputId": "02c0ec46-0f67-42ce-8900-8d377d827e79"
      },
      "outputs": [
        {
          "name": "stdout",
          "output_type": "stream",
          "text": [
            "Test Accuracy: 0.1736, Test Loss: 5.9640\n"
          ]
        }
      ],
      "source": [
        "test_loss, test_accuracy = model.evaluate(X_test, y_test, verbose=0)\n",
        "print(f\"Test Accuracy: {test_accuracy:.4f}, Test Loss: {test_loss:.4f}\")\n"
      ]
    },
    {
      "cell_type": "code",
      "execution_count": 12,
      "metadata": {
        "colab": {
          "base_uri": "https://localhost:8080/",
          "height": 507
        },
        "id": "1Q6TcVk6ahhN",
        "outputId": "1af52dde-fce0-4724-fa41-dc830d101457"
      },
      "outputs": [
        {
          "data": {
            "image/png": "[encoded data removed]",
            "text/plain": [
              "<Figure size 1200x500 with 2 Axes>"
            ]
          },
          "metadata": {},
          "output_type": "display_data"
        }
      ],
      "source": [
        "import matplotlib.pyplot as plt\n",
        "\n",
        "def plot_history(history):\n",
        "    plt.figure(figsize=(12,5))\n",
        "\n",
        "    # Accuracy\n",
        "    plt.subplot(1,2,1)\n",
        "    plt.plot(history.history['accuracy'], label='Train Acc')\n",
        "    plt.plot(history.history['val_accuracy'], label='Val Acc')\n",
        "    plt.title('Accuracy')\n",
        "    plt.xlabel('Epoch')\n",
        "    plt.ylabel('Accuracy')\n",
        "    plt.legend()\n",
        "\n",
        "    # Loss\n",
        "    plt.subplot(1,2,2)\n",
        "    plt.plot(history.history['loss'], label='Train Loss')\n",
        "    plt.plot(history.history['val_loss'], label='Val Loss')\n",
        "    plt.title('Loss')\n",
        "    plt.xlabel('Epoch')\n",
        "    plt.ylabel('Loss')\n",
        "    plt.legend()\n",
        "\n",
        "    plt.tight_layout()\n",
        "    plt.show()\n",
        "\n",
        "plot_history(history)\n"
      ]
    },
    {
      "cell_type": "code",
      "execution_count": 16,
      "metadata": {
        "colab": {
          "base_uri": "https://localhost:8080/",
          "height": 1000
        },
        "id": "g6R_I3zjalRd",
        "outputId": "e222488b-30e9-4d3e-f6b9-a4e09d5c7069"
      },
      "outputs": [
        {
          "name": "stdout",
          "output_type": "stream",
          "text": [
            "313/313 [==============================] - 2s 5ms/step\n"
          ]
        },
        {
          "name": "stderr",
          "output_type": "stream",
          "text": [
            "/Users/sumitsontakke/Documents/Dev/PES/DL_Practice/mlos/lib/python3.9/site-packages/sklearn/metrics/_classification.py:1565: UndefinedMetricWarning: Precision is ill-defined and being set to 0.0 in labels with no predicted samples. Use `zero_division` parameter to control this behavior.\n",
            "  _warn_prf(average, modifier, f\"{metric.capitalize()} is\", len(result))\n",
            "/Users/sumitsontakke/Documents/Dev/PES/DL_Practice/mlos/lib/python3.9/site-packages/sklearn/metrics/_classification.py:1565: UndefinedMetricWarning: Precision is ill-defined and being set to 0.0 in labels with no predicted samples. Use `zero_division` parameter to control this behavior.\n",
            "  _warn_prf(average, modifier, f\"{metric.capitalize()} is\", len(result))\n",
            "/Users/sumitsontakke/Documents/Dev/PES/DL_Practice/mlos/lib/python3.9/site-packages/sklearn/metrics/_classification.py:1565: UndefinedMetricWarning: Precision is ill-defined and being set to 0.0 in labels with no predicted samples. Use `zero_division` parameter to control this behavior.\n",
            "  _warn_prf(average, modifier, f\"{metric.capitalize()} is\", len(result))\n"
          ]
        },
        {
          "data": {
            "application/vnd.microsoft.datawrangler.viewer.v0+json": {
              "columns": [
                {
                  "name": "index",
                  "rawType": "object",
                  "type": "string"
                },
                {
                  "name": "precision",
                  "rawType": "float64",
                  "type": "float"
                },
                {
                  "name": "recall",
                  "rawType": "float64",
                  "type": "float"
                },
                {
                  "name": "f1-score",
                  "rawType": "float64",
                  "type": "float"
                },
                {
                  "name": "support",
                  "rawType": "float64",
                  "type": "float"
                }
              ],
              "conversionMethod": "pd.DataFrame",
              "ref": "62c9a2a2-4de0-4c70-a33a-f031e55f1a3f",
              "rows": [
                [
                  "0",
                  "0.0",
                  "0.0",
                  "0.0",
                  "100.0"
                ],
                [
                  "1",
                  "0.35714285714285715",
                  "0.05",
                  "0.08771929824561403",
                  "100.0"
                ],
                [
                  "2",
                  "0.0",
                  "0.0",
                  "0.0",
                  "100.0"
                ],
                [
                  "3",
                  "0.0",
                  "0.0",
                  "0.0",
                  "100.0"
                ],
                [
                  "4",
                  "0.2",
                  "0.06",
                  "0.09230769230769231",
                  "100.0"
                ],
                [
                  "5",
                  "0.1375",
                  "0.11",
                  "0.12222222222222222",
                  "100.0"
                ],
                [
                  "6",
                  "0.6666666666666666",
                  "0.04",
                  "0.07547169811320754",
                  "100.0"
                ],
                [
                  "7",
                  "0.0",
                  "0.0",
                  "0.0",
                  "100.0"
                ],
                [
                  "8",
                  "0.47619047619047616",
                  "0.2",
                  "0.28169014084507044",
                  "100.0"
                ],
                [
                  "9",
                  "0.23163841807909605",
                  "0.41",
                  "0.296028880866426",
                  "100.0"
                ],
                [
                  "10",
                  "0.0",
                  "0.0",
                  "0.0",
                  "100.0"
                ],
                [
                  "11",
                  "0.16216216216216217",
                  "0.06",
                  "0.08759124087591241",
                  "100.0"
                ],
                [
                  "12",
                  "0.0",
                  "0.0",
                  "0.0",
                  "100.0"
                ],
                [
                  "13",
                  "0.0",
                  "0.0",
                  "0.0",
                  "100.0"
                ],
                [
                  "14",
                  "0.0",
                  "0.0",
                  "0.0",
                  "100.0"
                ],
                [
                  "15",
                  "0.12658227848101267",
                  "0.1",
                  "0.11173184357541899",
                  "100.0"
                ],
                [
                  "16",
                  "0.0",
                  "0.0",
                  "0.0",
                  "100.0"
                ],
                [
                  "17",
                  "0.3310810810810811",
                  "0.49",
                  "0.3951612903225806",
                  "100.0"
                ],
                [
                  "18",
                  "0.0",
                  "0.0",
                  "0.0",
                  "100.0"
                ],
                [
                  "19",
                  "0.18691588785046728",
                  "0.2",
                  "0.1932367149758454",
                  "100.0"
                ],
                [
                  "20",
                  "0.7241379310344828",
                  "0.42",
                  "0.5316455696202531",
                  "100.0"
                ],
                [
                  "21",
                  "0.0",
                  "0.0",
                  "0.0",
                  "100.0"
                ],
                [
                  "22",
                  "0.06972789115646258",
                  "0.41",
                  "0.11918604651162791",
                  "100.0"
                ],
                [
                  "23",
                  "0.0",
                  "0.0",
                  "0.0",
                  "100.0"
                ],
                [
                  "24",
                  "0.0",
                  "0.0",
                  "0.0",
                  "100.0"
                ],
                [
                  "25",
                  "0.2608695652173913",
                  "0.06",
                  "0.0975609756097561",
                  "100.0"
                ],
                [
                  "26",
                  "0.0",
                  "0.0",
                  "0.0",
                  "100.0"
                ],
                [
                  "27",
                  "0.0",
                  "0.0",
                  "0.0",
                  "100.0"
                ],
                [
                  "28",
                  "0.42857142857142855",
                  "0.12",
                  "0.1875",
                  "100.0"
                ],
                [
                  "29",
                  "0.35714285714285715",
                  "0.05",
                  "0.08771929824561403",
                  "100.0"
                ],
                [
                  "30",
                  "0.0",
                  "0.0",
                  "0.0",
                  "100.0"
                ],
                [
                  "31",
                  "1.0",
                  "0.02",
                  "0.0392156862745098",
                  "100.0"
                ],
                [
                  "32",
                  "0.0",
                  "0.0",
                  "0.0",
                  "100.0"
                ],
                [
                  "33",
                  "0.15121951219512195",
                  "0.62",
                  "0.24313725490196078",
                  "100.0"
                ],
                [
                  "34",
                  "0.06947890818858561",
                  "0.28",
                  "0.11133200795228629",
                  "100.0"
                ],
                [
                  "35",
                  "0.04612850082372323",
                  "0.56",
                  "0.0852359208523592",
                  "100.0"
                ],
                [
                  "36",
                  "0.28",
                  "0.07",
                  "0.112",
                  "100.0"
                ],
                [
                  "37",
                  "0.6666666666666666",
                  "0.02",
                  "0.038834951456310676",
                  "100.0"
                ],
                [
                  "38",
                  "0.07058823529411765",
                  "0.12",
                  "0.08888888888888889",
                  "100.0"
                ],
                [
                  "39",
                  "0.6",
                  "0.03",
                  "0.05714285714285714",
                  "100.0"
                ],
                [
                  "40",
                  "0.04745470232959448",
                  "0.55",
                  "0.08737092930897537",
                  "100.0"
                ],
                [
                  "41",
                  "1.0",
                  "0.3",
                  "0.46153846153846156",
                  "100.0"
                ],
                [
                  "42",
                  "0.5",
                  "0.04",
                  "0.07407407407407407",
                  "100.0"
                ],
                [
                  "43",
                  "0.0",
                  "0.0",
                  "0.0",
                  "100.0"
                ],
                [
                  "44",
                  "0.0",
                  "0.0",
                  "0.0",
                  "100.0"
                ],
                [
                  "45",
                  "0.14545454545454545",
                  "0.08",
                  "0.1032258064516129",
                  "100.0"
                ],
                [
                  "46",
                  "0.0",
                  "0.0",
                  "0.0",
                  "100.0"
                ],
                [
                  "47",
                  "0.875",
                  "0.28",
                  "0.42424242424242425",
                  "100.0"
                ],
                [
                  "48",
                  "0.92",
                  "0.23",
                  "0.368",
                  "100.0"
                ],
                [
                  "49",
                  "0.0",
                  "0.0",
                  "0.0",
                  "100.0"
                ]
              ],
              "shape": {
                "columns": 4,
                "rows": 103
              }
            },
            "text/html": [
              "<div>\n",
              "<style scoped>\n",
              "    .dataframe tbody tr th:only-of-type {\n",
              "        vertical-align: middle;\n",
              "    }\n",
              "\n",
              "    .dataframe tbody tr th {\n",
              "        vertical-align: top;\n",
              "    }\n",
              "\n",
              "    .dataframe thead th {\n",
              "        text-align: right;\n",
              "    }\n",
              "</style>\n",
              "<table border=\"1\" class=\"dataframe\">\n",
              "  <thead>\n",
              "    <tr style=\"text-align: right;\">\n",
              "      <th></th>\n",
              "      <th>precision</th>\n",
              "      <th>recall</th>\n",
              "      <th>f1-score</th>\n",
              "      <th>support</th>\n",
              "    </tr>\n",
              "  </thead>\n",
              "  <tbody>\n",
              "    <tr>\n",
              "      <th>0</th>\n",
              "      <td>0.000000</td>\n",
              "      <td>0.0000</td>\n",
              "      <td>0.000000</td>\n",
              "      <td>100.0000</td>\n",
              "    </tr>\n",
              "    <tr>\n",
              "      <th>1</th>\n",
              "      <td>0.357143</td>\n",
              "      <td>0.0500</td>\n",
              "      <td>0.087719</td>\n",
              "      <td>100.0000</td>\n",
              "    </tr>\n",
              "    <tr>\n",
              "      <th>2</th>\n",
              "      <td>0.000000</td>\n",
              "      <td>0.0000</td>\n",
              "      <td>0.000000</td>\n",
              "      <td>100.0000</td>\n",
              "    </tr>\n",
              "    <tr>\n",
              "      <th>3</th>\n",
              "      <td>0.000000</td>\n",
              "      <td>0.0000</td>\n",
              "      <td>0.000000</td>\n",
              "      <td>100.0000</td>\n",
              "    </tr>\n",
              "    <tr>\n",
              "      <th>4</th>\n",
              "      <td>0.200000</td>\n",
              "      <td>0.0600</td>\n",
              "      <td>0.092308</td>\n",
              "      <td>100.0000</td>\n",
              "    </tr>\n",
              "    <tr>\n",
              "      <th>...</th>\n",
              "      <td>...</td>\n",
              "      <td>...</td>\n",
              "      <td>...</td>\n",
              "      <td>...</td>\n",
              "    </tr>\n",
              "    <tr>\n",
              "      <th>98</th>\n",
              "      <td>0.000000</td>\n",
              "      <td>0.0000</td>\n",
              "      <td>0.000000</td>\n",
              "      <td>100.0000</td>\n",
              "    </tr>\n",
              "    <tr>\n",
              "      <th>99</th>\n",
              "      <td>0.000000</td>\n",
              "      <td>0.0000</td>\n",
              "      <td>0.000000</td>\n",
              "      <td>100.0000</td>\n",
              "    </tr>\n",
              "    <tr>\n",
              "      <th>accuracy</th>\n",
              "      <td>0.173600</td>\n",
              "      <td>0.1736</td>\n",
              "      <td>0.173600</td>\n",
              "      <td>0.1736</td>\n",
              "    </tr>\n",
              "    <tr>\n",
              "      <th>macro avg</th>\n",
              "      <td>0.256447</td>\n",
              "      <td>0.1736</td>\n",
              "      <td>0.145653</td>\n",
              "      <td>10000.0000</td>\n",
              "    </tr>\n",
              "    <tr>\n",
              "      <th>weighted avg</th>\n",
              "      <td>0.256447</td>\n",
              "      <td>0.1736</td>\n",
              "      <td>0.145653</td>\n",
              "      <td>10000.0000</td>\n",
              "    </tr>\n",
              "  </tbody>\n",
              "</table>\n",
              "<p>103 rows × 4 columns</p>\n",
              "</div>"
            ],
            "text/plain": [
              "              precision  recall  f1-score     support\n",
              "0              0.000000  0.0000  0.000000    100.0000\n",
              "1              0.357143  0.0500  0.087719    100.0000\n",
              "2              0.000000  0.0000  0.000000    100.0000\n",
              "3              0.000000  0.0000  0.000000    100.0000\n",
              "4              0.200000  0.0600  0.092308    100.0000\n",
              "...                 ...     ...       ...         ...\n",
              "98             0.000000  0.0000  0.000000    100.0000\n",
              "99             0.000000  0.0000  0.000000    100.0000\n",
              "accuracy       0.173600  0.1736  0.173600      0.1736\n",
              "macro avg      0.256447  0.1736  0.145653  10000.0000\n",
              "weighted avg   0.256447  0.1736  0.145653  10000.0000\n",
              "\n",
              "[103 rows x 4 columns]"
            ]
          },
          "execution_count": 16,
          "metadata": {},
          "output_type": "execute_result"
        }
      ],
      "source": [
        "from sklearn.metrics import classification_report, confusion_matrix\n",
        "\n",
        "\n",
        "# Get predictions\n",
        "y_pred_probs = model.predict(X_test)\n",
        "y_pred = np.argmax(y_pred_probs, axis=1)\n",
        "\n",
        "# Classification Report\n",
        "csr = classification_report(y_test, y_pred, output_dict=True)\n",
        "pd.DataFrame(csr).transpose()\n"
      ]
    },
    {
      "cell_type": "code",
      "execution_count": 24,
      "metadata": {},
      "outputs": [],
      "source": [
        "from tensorflow.keras.preprocessing.image import ImageDataGenerator\n",
        "\n",
        "datagen = ImageDataGenerator(\n",
        "    rotation_range=15,\n",
        "    width_shift_range=0.1,\n",
        "    height_shift_range=0.1,\n",
        "    horizontal_flip=True,\n",
        "    zoom_range=0.1\n",
        ")\n",
        "\n",
        "datagen.fit(X_train)"
      ]
    },
    {
      "cell_type": "code",
      "execution_count": 25,
      "metadata": {
        "id": "CdPNYP79bNi5"
      },
      "outputs": [
        {
          "name": "stdout",
          "output_type": "stream",
          "text": [
            "(37500, 32, 32, 3) (37500, 1) (12500, 32, 32, 3) (12500, 1)\n"
          ]
        }
      ],
      "source": [
        "def get_model_cnn():\n",
        "    this_model = Sequential([\n",
        "        Conv2D(64, (3,3), activation='relu', padding='same', input_shape=(32,32,3)),\n",
        "        BatchNormalization(),\n",
        "        Conv2D(64, (3,3), activation='relu', padding='same'),\n",
        "        MaxPooling2D(),\n",
        "        Dropout(0.25),\n",
        "\n",
        "        Conv2D(128, (3,3), activation='relu', padding='same'),\n",
        "        BatchNormalization(),\n",
        "        Conv2D(128, (3,3), activation='relu', padding='same'),\n",
        "        MaxPooling2D(),\n",
        "        Dropout(0.25),\n",
        "\n",
        "        Flatten(),\n",
        "        Dense(512, activation='relu'),\n",
        "        Dropout(0.5),\n",
        "        Dense(100, activation='softmax')\n",
        "    ])\n",
        "    return this_model\n",
        "\n",
        "early_stopping = EarlyStopping(\n",
        "    monitor=\"val_loss\",\n",
        "    patience=15,\n",
        "    restore_best_weights=True\n",
        ")\n",
        "\n",
        "# ModelCheckpoint\n",
        "checkpoint = ModelCheckpoint(\n",
        "    \"cnn_model.h5\",\n",
        "    monitor=\"val_loss\",\n",
        "    save_best_only=True\n",
        ")\n",
        "\n",
        "reduce_lr = tf.keras.callbacks.ReduceLROnPlateau(\n",
        "    monitor='val_loss',\n",
        "    factor=0.5,\n",
        "    patience=5,\n",
        "    min_lr=1e-6\n",
        ")\n",
        "\n",
        "X_training, X_val, y_training, y_val = train_test_split(X_train, y_train, test_size=0.25, random_state=42)\n",
        "\n",
        "print(X_training.shape, y_training.shape, X_val.shape, y_val.shape )\n",
        "\n",
        "# cnn_history.save_best_only=True Automatic save by checkpoint"
      ]
    },
    {
      "cell_type": "code",
      "execution_count": 30,
      "metadata": {},
      "outputs": [
        {
          "name": "stdout",
          "output_type": "stream",
          "text": [
            "Model: \"sequential_4\"\n",
            "_________________________________________________________________\n",
            " Layer (type)                Output Shape              Param #   \n",
            "=================================================================\n",
            " conv2d_15 (Conv2D)          (None, 32, 32, 64)        1792      \n",
            "                                                                 \n",
            " batch_normalization_9 (Batc  (None, 32, 32, 64)       256       \n",
            " hNormalization)                                                 \n",
            "                                                                 \n",
            " conv2d_16 (Conv2D)          (None, 32, 32, 64)        36928     \n",
            "                                                                 \n",
            " max_pooling2d_9 (MaxPooling  (None, 16, 16, 64)       0         \n",
            " 2D)                                                             \n",
            "                                                                 \n",
            " dropout_13 (Dropout)        (None, 16, 16, 64)        0         \n",
            "                                                                 \n",
            " conv2d_17 (Conv2D)          (None, 16, 16, 128)       73856     \n",
            "                                                                 \n",
            " batch_normalization_10 (Bat  (None, 16, 16, 128)      512       \n",
            " chNormalization)                                                \n",
            "                                                                 \n",
            " conv2d_18 (Conv2D)          (None, 16, 16, 128)       147584    \n",
            "                                                                 \n",
            " max_pooling2d_10 (MaxPoolin  (None, 8, 8, 128)        0         \n",
            " g2D)                                                            \n",
            "                                                                 \n",
            " dropout_14 (Dropout)        (None, 8, 8, 128)         0         \n",
            "                                                                 \n",
            " flatten_4 (Flatten)         (None, 8192)              0         \n",
            "                                                                 \n",
            " dense_8 (Dense)             (None, 512)               4194816   \n",
            "                                                                 \n",
            " dropout_15 (Dropout)        (None, 512)               0         \n",
            "                                                                 \n",
            " dense_9 (Dense)             (None, 100)               51300     \n",
            "                                                                 \n",
            "=================================================================\n",
            "Total params: 4,507,044\n",
            "Trainable params: 4,506,660\n",
            "Non-trainable params: 384\n",
            "_________________________________________________________________\n",
            "None\n",
            "Epoch 1/100\n"
          ]
        },
        {
          "name": "stderr",
          "output_type": "stream",
          "text": [
            "2025-04-22 20:46:10.490707: I tensorflow/core/common_runtime/executor.cc:1197] [/device:CPU:0] (DEBUG INFO) Executor start aborting (this does not indicate an error and you can ignore this message): INVALID_ARGUMENT: You must feed a value for placeholder tensor 'Placeholder/_0' with dtype int32\n",
            "\t [[{{node Placeholder/_0}}]]\n",
            "2025-04-22 20:46:11.785055: I tensorflow/core/grappler/optimizers/custom_graph_optimizer_registry.cc:114] Plugin optimizer for device_type GPU is enabled.\n",
            "2025-04-22 20:46:11.901346: E tensorflow/core/grappler/optimizers/meta_optimizer.cc:954] model_pruner failed: INVALID_ARGUMENT: Graph does not contain terminal node AssignAddVariableOp_10.\n"
          ]
        },
        {
          "name": "stdout",
          "output_type": "stream",
          "text": [
            "293/293 [==============================] - ETA: 0s - loss: 10.2497 - accuracy: 0.0097"
          ]
        },
        {
          "name": "stderr",
          "output_type": "stream",
          "text": [
            "2025-04-22 20:46:40.287080: I tensorflow/core/grappler/optimizers/custom_graph_optimizer_registry.cc:114] Plugin optimizer for device_type GPU is enabled.\n"
          ]
        },
        {
          "name": "stdout",
          "output_type": "stream",
          "text": [
            "293/293 [==============================] - 36s 114ms/step - loss: 10.2497 - accuracy: 0.0097 - val_loss: 4.6838 - val_accuracy: 0.0000e+00 - lr: 1.0000e-04\n",
            "Epoch 2/100\n",
            "293/293 [==============================] - 29s 99ms/step - loss: 9.1884 - accuracy: 0.0094 - val_loss: 4.0147 - val_accuracy: 0.0022 - lr: 1.0000e-04\n",
            "Epoch 3/100\n",
            "293/293 [==============================] - 35s 119ms/step - loss: 8.5272 - accuracy: 0.0094 - val_loss: 3.9958 - val_accuracy: 0.0010 - lr: 1.0000e-04\n",
            "Epoch 4/100\n",
            "293/293 [==============================] - 37s 127ms/step - loss: 8.0848 - accuracy: 0.0092 - val_loss: 3.9737 - val_accuracy: 0.0027 - lr: 1.0000e-04\n",
            "Epoch 5/100\n",
            "293/293 [==============================] - 36s 122ms/step - loss: 7.6081 - accuracy: 0.0099 - val_loss: 3.9753 - val_accuracy: 0.0018 - lr: 1.0000e-04\n",
            "Epoch 6/100\n",
            "293/293 [==============================] - 39s 131ms/step - loss: 7.4035 - accuracy: 0.0102 - val_loss: 4.0648 - val_accuracy: 0.0014 - lr: 1.0000e-04\n",
            "Epoch 7/100\n",
            "293/293 [==============================] - 38s 131ms/step - loss: 6.9779 - accuracy: 0.0099 - val_loss: 3.8743 - val_accuracy: 0.0037 - lr: 1.0000e-04\n",
            "Epoch 8/100\n",
            "293/293 [==============================] - 42s 142ms/step - loss: 6.8260 - accuracy: 0.0094 - val_loss: 4.0111 - val_accuracy: 0.0050 - lr: 1.0000e-04\n",
            "Epoch 9/100\n",
            "293/293 [==============================] - 43s 145ms/step - loss: 6.5122 - accuracy: 0.0099 - val_loss: 3.8198 - val_accuracy: 0.0016 - lr: 1.0000e-04\n",
            "Epoch 10/100\n",
            "293/293 [==============================] - 44s 151ms/step - loss: 6.4225 - accuracy: 0.0101 - val_loss: 3.9292 - val_accuracy: 0.0016 - lr: 1.0000e-04\n",
            "Epoch 11/100\n",
            "293/293 [==============================] - 46s 155ms/step - loss: 6.3515 - accuracy: 0.0095 - val_loss: 4.0690 - val_accuracy: 0.0013 - lr: 1.0000e-04\n",
            "Epoch 12/100\n",
            "293/293 [==============================] - 32s 110ms/step - loss: 6.2800 - accuracy: 0.0100 - val_loss: 4.1619 - val_accuracy: 0.0034 - lr: 1.0000e-04\n",
            "Epoch 13/100\n",
            "293/293 [==============================] - 49s 166ms/step - loss: 6.0995 - accuracy: 0.0094 - val_loss: 3.8724 - val_accuracy: 0.0014 - lr: 1.0000e-04\n",
            "Epoch 14/100\n",
            "293/293 [==============================] - 53s 182ms/step - loss: 5.8408 - accuracy: 0.0097 - val_loss: 4.0505 - val_accuracy: 0.0056 - lr: 1.0000e-04\n",
            "Epoch 15/100\n",
            "293/293 [==============================] - 54s 183ms/step - loss: 5.3938 - accuracy: 0.0101 - val_loss: 3.7188 - val_accuracy: 0.0041 - lr: 5.0000e-05\n",
            "Epoch 16/100\n",
            "293/293 [==============================] - 53s 182ms/step - loss: 5.3042 - accuracy: 0.0098 - val_loss: 3.7208 - val_accuracy: 0.0042 - lr: 5.0000e-05\n",
            "Epoch 17/100\n",
            "293/293 [==============================] - 53s 182ms/step - loss: 5.1456 - accuracy: 0.0093 - val_loss: 3.6375 - val_accuracy: 0.0046 - lr: 5.0000e-05\n",
            "Epoch 18/100\n",
            "293/293 [==============================] - 56s 193ms/step - loss: 5.0848 - accuracy: 0.0098 - val_loss: 3.7090 - val_accuracy: 0.0038 - lr: 5.0000e-05\n",
            "Epoch 19/100\n",
            "293/293 [==============================] - 60s 204ms/step - loss: 5.0942 - accuracy: 0.0103 - val_loss: 3.5361 - val_accuracy: 0.0045 - lr: 5.0000e-05\n",
            "Epoch 20/100\n",
            "293/293 [==============================] - 54s 183ms/step - loss: 5.0175 - accuracy: 0.0099 - val_loss: 3.5318 - val_accuracy: 0.0042 - lr: 5.0000e-05\n",
            "Epoch 21/100\n",
            "293/293 [==============================] - 57s 196ms/step - loss: 5.0496 - accuracy: 0.0103 - val_loss: 3.5963 - val_accuracy: 0.0025 - lr: 5.0000e-05\n",
            "Epoch 22/100\n",
            "293/293 [==============================] - 68s 231ms/step - loss: 5.0228 - accuracy: 0.0096 - val_loss: 3.6941 - val_accuracy: 0.0041 - lr: 5.0000e-05\n",
            "Epoch 23/100\n",
            "293/293 [==============================] - 57s 193ms/step - loss: 5.0198 - accuracy: 0.0099 - val_loss: 3.6486 - val_accuracy: 0.0038 - lr: 5.0000e-05\n",
            "Epoch 24/100\n",
            "293/293 [==============================] - 60s 203ms/step - loss: 4.9747 - accuracy: 0.0103 - val_loss: 3.6892 - val_accuracy: 0.0028 - lr: 5.0000e-05\n",
            "Epoch 25/100\n",
            "293/293 [==============================] - 64s 218ms/step - loss: 4.9845 - accuracy: 0.0094 - val_loss: 3.6468 - val_accuracy: 0.0043 - lr: 5.0000e-05\n",
            "Epoch 26/100\n",
            "293/293 [==============================] - 57s 195ms/step - loss: 4.7885 - accuracy: 0.0099 - val_loss: 3.6883 - val_accuracy: 0.0046 - lr: 2.5000e-05\n",
            "Epoch 27/100\n",
            "293/293 [==============================] - 59s 199ms/step - loss: 4.7272 - accuracy: 0.0100 - val_loss: 3.6544 - val_accuracy: 0.0032 - lr: 2.5000e-05\n",
            "Epoch 28/100\n",
            "293/293 [==============================] - 61s 208ms/step - loss: 4.6691 - accuracy: 0.0105 - val_loss: 3.5771 - val_accuracy: 0.0042 - lr: 2.5000e-05\n",
            "Epoch 29/100\n",
            "293/293 [==============================] - 61s 208ms/step - loss: 4.6632 - accuracy: 0.0105 - val_loss: 3.6321 - val_accuracy: 0.0027 - lr: 2.5000e-05\n",
            "Epoch 30/100\n",
            "293/293 [==============================] - 61s 209ms/step - loss: 4.6550 - accuracy: 0.0095 - val_loss: 3.5945 - val_accuracy: 0.0034 - lr: 2.5000e-05\n",
            "Epoch 31/100\n",
            "293/293 [==============================] - 60s 204ms/step - loss: 4.5589 - accuracy: 0.0104 - val_loss: 3.6139 - val_accuracy: 0.0041 - lr: 1.2500e-05\n",
            "Epoch 32/100\n",
            "293/293 [==============================] - 61s 208ms/step - loss: 4.5438 - accuracy: 0.0099 - val_loss: 3.5702 - val_accuracy: 0.0039 - lr: 1.2500e-05\n",
            "Epoch 33/100\n",
            "293/293 [==============================] - 61s 208ms/step - loss: 4.5411 - accuracy: 0.0095 - val_loss: 3.6000 - val_accuracy: 0.0038 - lr: 1.2500e-05\n",
            "Epoch 34/100\n",
            "293/293 [==============================] - 63s 216ms/step - loss: 4.5080 - accuracy: 0.0102 - val_loss: 3.5605 - val_accuracy: 0.0044 - lr: 1.2500e-05\n",
            "Epoch 35/100\n",
            "293/293 [==============================] - 83s 282ms/step - loss: 4.5211 - accuracy: 0.0101 - val_loss: 3.5842 - val_accuracy: 0.0030 - lr: 1.2500e-05\n"
          ]
        }
      ],
      "source": [
        "modelA = get_model_cnn()\n",
        "print(modelA.summary())\n",
        "modelA.compile(\n",
        "    optimizer=tf.keras.optimizers.Adam(learning_rate=0.0001),\n",
        "    loss=\"sparse_categorical_crossentropy\",\n",
        "    metrics=[\"accuracy\"]\n",
        ")\n",
        "\n",
        "# fit model\n",
        "cnnA_history = modelA.fit(\n",
        "    datagen.flow(X_training, y_training, batch_size=128),\n",
        "    validation_data=(X_val, y_val),\n",
        "    epochs=100,\n",
        "    callbacks=[early_stopping, checkpoint, reduce_lr])\n"
      ]
    },
    {
      "cell_type": "code",
      "execution_count": null,
      "metadata": {},
      "outputs": [
        {
          "name": "stdout",
          "output_type": "stream",
          "text": [
            "Model: \"sequential_3\"\n",
            "_________________________________________________________________\n",
            " Layer (type)                Output Shape              Param #   \n",
            "=================================================================\n",
            " conv2d_11 (Conv2D)          (None, 32, 32, 64)        1792      \n",
            "                                                                 \n",
            " batch_normalization_7 (Batc  (None, 32, 32, 64)       256       \n",
            " hNormalization)                                                 \n",
            "                                                                 \n",
            " conv2d_12 (Conv2D)          (None, 32, 32, 64)        36928     \n",
            "                                                                 \n",
            " max_pooling2d_7 (MaxPooling  (None, 16, 16, 64)       0         \n",
            " 2D)                                                             \n",
            "                                                                 \n",
            " dropout_10 (Dropout)        (None, 16, 16, 64)        0         \n",
            "                                                                 \n",
            " conv2d_13 (Conv2D)          (None, 16, 16, 128)       73856     \n",
            "                                                                 \n",
            " batch_normalization_8 (Batc  (None, 16, 16, 128)      512       \n",
            " hNormalization)                                                 \n",
            "                                                                 \n",
            " conv2d_14 (Conv2D)          (None, 16, 16, 128)       147584    \n",
            "                                                                 \n",
            " max_pooling2d_8 (MaxPooling  (None, 8, 8, 128)        0         \n",
            " 2D)                                                             \n",
            "                                                                 \n",
            " dropout_11 (Dropout)        (None, 8, 8, 128)         0         \n",
            "                                                                 \n",
            " flatten_3 (Flatten)         (None, 8192)              0         \n",
            "                                                                 \n",
            " dense_6 (Dense)             (None, 512)               4194816   \n",
            "                                                                 \n",
            " dropout_12 (Dropout)        (None, 512)               0         \n",
            "                                                                 \n",
            " dense_7 (Dense)             (None, 100)               51300     \n",
            "                                                                 \n",
            "=================================================================\n",
            "Total params: 4,507,044\n",
            "Trainable params: 4,506,660\n",
            "Non-trainable params: 384\n",
            "_________________________________________________________________\n",
            "None\n",
            "Epoch 1/100\n"
          ]
        },
        {
          "name": "stderr",
          "output_type": "stream",
          "text": [
            "2025-04-22 18:37:06.265262: I tensorflow/core/grappler/optimizers/custom_graph_optimizer_registry.cc:114] Plugin optimizer for device_type GPU is enabled.\n",
            "2025-04-22 18:37:06.384434: E tensorflow/core/grappler/optimizers/meta_optimizer.cc:954] model_pruner failed: INVALID_ARGUMENT: Graph does not contain terminal node AssignAddVariableOp_10.\n"
          ]
        },
        {
          "name": "stdout",
          "output_type": "stream",
          "text": [
            "586/586 [==============================] - ETA: 0s - loss: 9.1961 - accuracy: 0.0274"
          ]
        },
        {
          "name": "stderr",
          "output_type": "stream",
          "text": [
            "2025-04-22 18:37:28.318052: I tensorflow/core/grappler/optimizers/custom_graph_optimizer_registry.cc:114] Plugin optimizer for device_type GPU is enabled.\n"
          ]
        },
        {
          "name": "stdout",
          "output_type": "stream",
          "text": [
            "586/586 [==============================] - 27s 43ms/step - loss: 9.1961 - accuracy: 0.0274 - val_loss: 4.3656 - val_accuracy: 0.0654 - lr: 1.0000e-04\n",
            "Epoch 2/100\n",
            "586/586 [==============================] - 23s 39ms/step - loss: 7.6533 - accuracy: 0.0519 - val_loss: 4.1484 - val_accuracy: 0.1088 - lr: 1.0000e-04\n",
            "Epoch 3/100\n",
            "586/586 [==============================] - 23s 40ms/step - loss: 6.9525 - accuracy: 0.0730 - val_loss: 3.9740 - val_accuracy: 0.1309 - lr: 1.0000e-04\n",
            "Epoch 4/100\n",
            "586/586 [==============================] - 23s 39ms/step - loss: 6.3975 - accuracy: 0.0872 - val_loss: 3.9167 - val_accuracy: 0.1618 - lr: 1.0000e-04\n",
            "Epoch 5/100\n",
            "586/586 [==============================] - 23s 39ms/step - loss: 6.1186 - accuracy: 0.1031 - val_loss: 3.8103 - val_accuracy: 0.1752 - lr: 1.0000e-04\n",
            "Epoch 6/100\n",
            "586/586 [==============================] - 25s 43ms/step - loss: 5.7301 - accuracy: 0.1191 - val_loss: 3.8218 - val_accuracy: 0.1923 - lr: 1.0000e-04\n",
            "Epoch 7/100\n",
            "586/586 [==============================] - 28s 48ms/step - loss: 5.6367 - accuracy: 0.1322 - val_loss: 3.7647 - val_accuracy: 0.2054 - lr: 1.0000e-04\n",
            "Epoch 8/100\n",
            "586/586 [==============================] - 29s 50ms/step - loss: 5.5544 - accuracy: 0.1430 - val_loss: 3.6589 - val_accuracy: 0.2230 - lr: 1.0000e-04\n",
            "Epoch 9/100\n",
            "586/586 [==============================] - 29s 50ms/step - loss: 5.5466 - accuracy: 0.1539 - val_loss: 3.9477 - val_accuracy: 0.2118 - lr: 1.0000e-04\n",
            "Epoch 10/100\n",
            "586/586 [==============================] - 29s 50ms/step - loss: 5.5995 - accuracy: 0.1585 - val_loss: 3.7769 - val_accuracy: 0.2275 - lr: 1.0000e-04\n",
            "Epoch 11/100\n",
            "586/586 [==============================] - 29s 50ms/step - loss: 5.4441 - accuracy: 0.1703 - val_loss: 3.6921 - val_accuracy: 0.2420 - lr: 1.0000e-04\n",
            "Epoch 12/100\n",
            "586/586 [==============================] - 30s 51ms/step - loss: 5.3118 - accuracy: 0.1819 - val_loss: 3.8108 - val_accuracy: 0.2491 - lr: 1.0000e-04\n",
            "Epoch 13/100\n",
            "586/586 [==============================] - 30s 52ms/step - loss: 5.1621 - accuracy: 0.1929 - val_loss: 3.6247 - val_accuracy: 0.2628 - lr: 1.0000e-04\n",
            "Epoch 14/100\n",
            "586/586 [==============================] - 30s 51ms/step - loss: 5.0466 - accuracy: 0.2030 - val_loss: 3.6485 - val_accuracy: 0.2582 - lr: 1.0000e-04\n",
            "Epoch 15/100\n",
            "586/586 [==============================] - 32s 54ms/step - loss: 5.0183 - accuracy: 0.2098 - val_loss: 3.6090 - val_accuracy: 0.2687 - lr: 1.0000e-04\n",
            "Epoch 16/100\n",
            "586/586 [==============================] - 32s 54ms/step - loss: 4.9925 - accuracy: 0.2173 - val_loss: 3.6169 - val_accuracy: 0.2802 - lr: 1.0000e-04\n",
            "Epoch 17/100\n",
            "586/586 [==============================] - 33s 56ms/step - loss: 4.8516 - accuracy: 0.2232 - val_loss: 3.7301 - val_accuracy: 0.2780 - lr: 1.0000e-04\n",
            "Epoch 18/100\n",
            "586/586 [==============================] - 33s 56ms/step - loss: 4.6958 - accuracy: 0.2344 - val_loss: 3.6921 - val_accuracy: 0.2846 - lr: 1.0000e-04\n",
            "Epoch 19/100\n",
            "586/586 [==============================] - 33s 56ms/step - loss: 4.8167 - accuracy: 0.2375 - val_loss: 3.7332 - val_accuracy: 0.2806 - lr: 1.0000e-04\n",
            "Epoch 20/100\n",
            "586/586 [==============================] - 33s 56ms/step - loss: 4.8370 - accuracy: 0.2437 - val_loss: 3.7650 - val_accuracy: 0.2946 - lr: 1.0000e-04\n",
            "Epoch 21/100\n",
            "586/586 [==============================] - 35s 60ms/step - loss: 4.4508 - accuracy: 0.2630 - val_loss: 3.5540 - val_accuracy: 0.3073 - lr: 5.0000e-05\n",
            "Epoch 22/100\n",
            "586/586 [==============================] - 35s 59ms/step - loss: 4.2288 - accuracy: 0.2766 - val_loss: 3.4785 - val_accuracy: 0.3198 - lr: 5.0000e-05\n",
            "Epoch 23/100\n",
            "586/586 [==============================] - 35s 59ms/step - loss: 4.1910 - accuracy: 0.2771 - val_loss: 3.4839 - val_accuracy: 0.3142 - lr: 5.0000e-05\n",
            "Epoch 24/100\n",
            "586/586 [==============================] - 35s 60ms/step - loss: 4.1343 - accuracy: 0.2854 - val_loss: 3.5040 - val_accuracy: 0.3143 - lr: 5.0000e-05\n",
            "Epoch 25/100\n",
            "586/586 [==============================] - 36s 62ms/step - loss: 4.0905 - accuracy: 0.2892 - val_loss: 3.5219 - val_accuracy: 0.3130 - lr: 5.0000e-05\n",
            "Epoch 26/100\n",
            "586/586 [==============================] - 37s 62ms/step - loss: 4.0898 - accuracy: 0.2875 - val_loss: 3.4559 - val_accuracy: 0.3184 - lr: 5.0000e-05\n",
            "Epoch 27/100\n",
            "586/586 [==============================] - 36s 62ms/step - loss: 4.0874 - accuracy: 0.2887 - val_loss: 3.6266 - val_accuracy: 0.3100 - lr: 5.0000e-05\n",
            "Epoch 28/100\n",
            "586/586 [==============================] - 46s 78ms/step - loss: 4.0612 - accuracy: 0.2911 - val_loss: 3.4853 - val_accuracy: 0.3150 - lr: 5.0000e-05\n",
            "Epoch 29/100\n",
            "586/586 [==============================] - 26s 45ms/step - loss: 4.0417 - accuracy: 0.2947 - val_loss: 3.5674 - val_accuracy: 0.3184 - lr: 5.0000e-05\n",
            "Epoch 30/100\n",
            "586/586 [==============================] - 27s 45ms/step - loss: 4.0325 - accuracy: 0.2995 - val_loss: 3.5149 - val_accuracy: 0.3248 - lr: 5.0000e-05\n",
            "Epoch 31/100\n",
            "586/586 [==============================] - 26s 44ms/step - loss: 4.0678 - accuracy: 0.3019 - val_loss: 3.6247 - val_accuracy: 0.3196 - lr: 5.0000e-05\n",
            "Epoch 32/100\n",
            "586/586 [==============================] - 32s 54ms/step - loss: 3.8729 - accuracy: 0.3173 - val_loss: 3.5290 - val_accuracy: 0.3287 - lr: 2.5000e-05\n",
            "Epoch 33/100\n",
            "586/586 [==============================] - 25s 42ms/step - loss: 3.8103 - accuracy: 0.3198 - val_loss: 3.4100 - val_accuracy: 0.3351 - lr: 2.5000e-05\n",
            "Epoch 34/100\n",
            "586/586 [==============================] - 28s 48ms/step - loss: 3.7721 - accuracy: 0.3219 - val_loss: 3.4192 - val_accuracy: 0.3356 - lr: 2.5000e-05\n",
            "Epoch 35/100\n",
            "586/586 [==============================] - 28s 47ms/step - loss: 3.7762 - accuracy: 0.3239 - val_loss: 3.4816 - val_accuracy: 0.3334 - lr: 2.5000e-05\n",
            "Epoch 36/100\n",
            "586/586 [==============================] - 29s 49ms/step - loss: 3.7746 - accuracy: 0.3249 - val_loss: 3.5240 - val_accuracy: 0.3319 - lr: 2.5000e-05\n",
            "Epoch 37/100\n",
            "586/586 [==============================] - 75s 128ms/step - loss: 4.5759 - accuracy: 0.2879 - val_loss: 5.4551 - val_accuracy: 0.0674 - lr: 2.5000e-05\n",
            "Epoch 38/100\n",
            "586/586 [==============================] - 153s 261ms/step - loss: 7.0578 - accuracy: 0.0429 - val_loss: 4.5555 - val_accuracy: 0.0509 - lr: 2.5000e-05\n",
            "Epoch 39/100\n",
            "586/586 [==============================] - 23s 39ms/step - loss: 6.0997 - accuracy: 0.0428 - val_loss: 4.4434 - val_accuracy: 0.0566 - lr: 1.2500e-05\n",
            "Epoch 40/100\n",
            "586/586 [==============================] - 25s 42ms/step - loss: 5.7719 - accuracy: 0.0464 - val_loss: 4.3604 - val_accuracy: 0.0636 - lr: 1.2500e-05\n",
            "Epoch 41/100\n",
            "586/586 [==============================] - 28s 47ms/step - loss: 5.5047 - accuracy: 0.0545 - val_loss: 4.3146 - val_accuracy: 0.0693 - lr: 1.2500e-05\n",
            "Epoch 42/100\n",
            "586/586 [==============================] - 30s 52ms/step - loss: 5.2822 - accuracy: 0.0559 - val_loss: 4.2766 - val_accuracy: 0.0743 - lr: 1.2500e-05\n",
            "Epoch 43/100\n",
            "586/586 [==============================] - 25s 42ms/step - loss: 5.0842 - accuracy: 0.0628 - val_loss: 4.2196 - val_accuracy: 0.0825 - lr: 1.2500e-05\n",
            "Epoch 44/100\n",
            "586/586 [==============================] - 31s 53ms/step - loss: 4.9622 - accuracy: 0.0657 - val_loss: 4.2002 - val_accuracy: 0.0810 - lr: 6.2500e-06\n",
            "Epoch 45/100\n",
            "586/586 [==============================] - 31s 52ms/step - loss: 4.8665 - accuracy: 0.0669 - val_loss: 4.1667 - val_accuracy: 0.0862 - lr: 6.2500e-06\n",
            "Epoch 46/100\n",
            "586/586 [==============================] - 30s 52ms/step - loss: 4.8233 - accuracy: 0.0697 - val_loss: 4.1501 - val_accuracy: 0.0909 - lr: 6.2500e-06\n",
            "Epoch 47/100\n",
            "586/586 [==============================] - 31s 52ms/step - loss: 4.7458 - accuracy: 0.0732 - val_loss: 4.1235 - val_accuracy: 0.0953 - lr: 6.2500e-06\n",
            "Epoch 48/100\n",
            "586/586 [==============================] - 28s 48ms/step - loss: 4.6767 - accuracy: 0.0759 - val_loss: 4.0971 - val_accuracy: 0.0988 - lr: 6.2500e-06\n"
          ]
        }
      ],
      "source": [
        "modelB = get_model_cnn()\n",
        "print(modelB.summary())\n",
        "modelB.compile(\n",
        "    optimizer=tf.keras.optimizers.Adam(learning_rate=0.0001),\n",
        "    loss=\"sparse_categorical_crossentropy\",\n",
        "    metrics=[\"accuracy\"]\n",
        ")\n",
        "\n",
        "cnnB_history = modelB.fit(\n",
        "    # datagen.flow(X_training, y_training, batch_size=128),\n",
        "    X_training, y_training,\n",
        "    batch_size=64,\n",
        "    validation_data=(X_val, y_val),\n",
        "    epochs=100,\n",
        "    callbacks=[early_stopping, checkpoint, reduce_lr])"
      ]
    },
    {
      "cell_type": "code",
      "execution_count": 29,
      "metadata": {},
      "outputs": [
        {
          "ename": "AttributeError",
          "evalue": "'DataFrame' object has no attribute 'history'",
          "output_type": "error",
          "traceback": [
            "\u001b[0;31m---------------------------------------------------------------------------\u001b[0m",
            "\u001b[0;31mAttributeError\u001b[0m                            Traceback (most recent call last)",
            "\u001b[0;32m/var/folders/wd/_vtbthvs7szg1hl8nj3sx92w0000gn/T/ipykernel_6630/2748044011.py\u001b[0m in \u001b[0;36m?\u001b[0;34m()\u001b[0m\n\u001b[0;32m----> 1\u001b[0;31m \u001b[0mcnn_history\u001b[0m \u001b[0;34m=\u001b[0m \u001b[0mpd\u001b[0m\u001b[0;34m.\u001b[0m\u001b[0mDataFrame\u001b[0m\u001b[0;34m(\u001b[0m\u001b[0mcnn_history\u001b[0m\u001b[0;34m.\u001b[0m\u001b[0mhistory\u001b[0m\u001b[0;34m)\u001b[0m\u001b[0;34m\u001b[0m\u001b[0;34m\u001b[0m\u001b[0m\n\u001b[0m\u001b[1;32m      2\u001b[0m \u001b[0mcnn_history\u001b[0m\u001b[0;34m.\u001b[0m\u001b[0msort_values\u001b[0m\u001b[0;34m(\u001b[0m\u001b[0mby\u001b[0m\u001b[0;34m=\u001b[0m\u001b[0;34m'val_loss'\u001b[0m\u001b[0;34m,\u001b[0m \u001b[0mascending\u001b[0m\u001b[0;34m=\u001b[0m\u001b[0;32mFalse\u001b[0m\u001b[0;34m)\u001b[0m\u001b[0;34m\u001b[0m\u001b[0;34m\u001b[0m\u001b[0m\n",
            "\u001b[0;32m~/Documents/Dev/PES/DL_Practice/mlos/lib/python3.9/site-packages/pandas/core/generic.py\u001b[0m in \u001b[0;36m?\u001b[0;34m(self, name)\u001b[0m\n\u001b[1;32m   6295\u001b[0m             \u001b[0;32mand\u001b[0m \u001b[0mname\u001b[0m \u001b[0;32mnot\u001b[0m \u001b[0;32min\u001b[0m \u001b[0mself\u001b[0m\u001b[0;34m.\u001b[0m\u001b[0m_accessors\u001b[0m\u001b[0;34m\u001b[0m\u001b[0;34m\u001b[0m\u001b[0m\n\u001b[1;32m   6296\u001b[0m             \u001b[0;32mand\u001b[0m \u001b[0mself\u001b[0m\u001b[0;34m.\u001b[0m\u001b[0m_info_axis\u001b[0m\u001b[0;34m.\u001b[0m\u001b[0m_can_hold_identifiers_and_holds_name\u001b[0m\u001b[0;34m(\u001b[0m\u001b[0mname\u001b[0m\u001b[0;34m)\u001b[0m\u001b[0;34m\u001b[0m\u001b[0;34m\u001b[0m\u001b[0m\n\u001b[1;32m   6297\u001b[0m         ):\n\u001b[1;32m   6298\u001b[0m             \u001b[0;32mreturn\u001b[0m \u001b[0mself\u001b[0m\u001b[0;34m[\u001b[0m\u001b[0mname\u001b[0m\u001b[0;34m]\u001b[0m\u001b[0;34m\u001b[0m\u001b[0;34m\u001b[0m\u001b[0m\n\u001b[0;32m-> 6299\u001b[0;31m         \u001b[0;32mreturn\u001b[0m \u001b[0mobject\u001b[0m\u001b[0;34m.\u001b[0m\u001b[0m__getattribute__\u001b[0m\u001b[0;34m(\u001b[0m\u001b[0mself\u001b[0m\u001b[0;34m,\u001b[0m \u001b[0mname\u001b[0m\u001b[0;34m)\u001b[0m\u001b[0;34m\u001b[0m\u001b[0;34m\u001b[0m\u001b[0m\n\u001b[0m",
            "\u001b[0;31mAttributeError\u001b[0m: 'DataFrame' object has no attribute 'history'"
          ]
        }
      ],
      "source": [
        "cnn_history = pd.DataFrame(cnn_history.history)\n",
        "cnn_history.sort_values(by='val_loss', ascending=False)\n"
      ]
    },
    {
      "cell_type": "code",
      "execution_count": null,
      "metadata": {},
      "outputs": [],
      "source": []
    }
  ],
  "metadata": {
    "accelerator": "GPU",
    "colab": {
      "authorship_tag": "ABX9TyOV9GLwEX7Y+3r+FCKD7+va",
      "gpuType": "T4",
      "include_colab_link": true,
      "provenance": []
    },
    "kernelspec": {
      "display_name": "mlos",
      "language": "python",
      "name": "python3"
    },
    "language_info": {
      "codemirror_mode": {
        "name": "ipython",
        "version": 3
      },
      "file_extension": ".py",
      "mimetype": "text/x-python",
      "name": "python",
      "nbconvert_exporter": "python",
      "pygments_lexer": "ipython3",
      "version": "3.9.6"
    }
  },
  "nbformat": 4,
  "nbformat_minor": 0
}
