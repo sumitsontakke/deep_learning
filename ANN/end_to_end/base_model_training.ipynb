{
  "nbformat": 4,
  "nbformat_minor": 0,
  "metadata": {
    "colab": {
      "provenance": [],
      "gpuType": "T4",
      "authorship_tag": "ABX9TyP7thwst6UMwRRxSsKBax31",
      "include_colab_link": true
    },
    "kernelspec": {
      "name": "python3",
      "display_name": "Python 3"
    },
    "language_info": {
      "name": "python"
    },
    "accelerator": "GPU"
  },
  "cells": [
    {
      "cell_type": "markdown",
      "metadata": {
        "id": "view-in-github",
        "colab_type": "text"
      },
      "source": [
        "<a href=\"https://colab.research.google.com/github/sumitsontakke/deep_learning/blob/main/ANN/end_to_end/base_model_training.ipynb\" target=\"_parent\"><img src=\"https://colab.research.google.com/assets/colab-badge.svg\" alt=\"Open In Colab\"/></a>"
      ]
    },
    {
      "cell_type": "code",
      "execution_count": 1,
      "metadata": {
        "id": "cTILz_RoSTMH"
      },
      "outputs": [],
      "source": [
        "import pandas as pd\n",
        "import numpy as np\n",
        "import tensorflow as tf\n",
        "import matplotlib.pyplot as plt\n",
        "\n",
        "\n",
        "from tensorflow.keras.models import Sequential\n",
        "from tensorflow.keras.layers import Conv2D, MaxPooling2D, Dropout, Flatten, Dense, BatchNormalization\n",
        "from tensorflow.keras.callbacks import EarlyStopping, ModelCheckpoint\n",
        "from tensorflow.keras.datasets import cifar100\n",
        "from tensorflow.keras.utils import to_categorical\n",
        "from tensorflow.keras.metrics import TopKCategoricalAccuracy\n",
        "\n",
        "from sklearn.model_selection import train_test_split"
      ]
    },
    {
      "cell_type": "code",
      "source": [
        "(X_train, y_train), (X_test, y_test) = cifar100.load_data()\n",
        "\n",
        "X_train = X_train.astype(\"float32\") / 255\n",
        "X_test = X_test.astype(\"float32\") / 255\n",
        "\n",
        "print(\"X_train shape:\", X_train.shape, \"y_train shape:\", y_train.shape, X_train.dtype, y_train.dtype)\n",
        "print(\"X_test shape:\", X_test.shape, \"y_test shape:\", y_test.shape)"
      ],
      "metadata": {
        "colab": {
          "base_uri": "https://localhost:8080/"
        },
        "id": "GOt_pChDSULX",
        "outputId": "400cc6fe-742f-484a-b1b7-a89f77954e47"
      },
      "execution_count": 2,
      "outputs": [
        {
          "output_type": "stream",
          "name": "stdout",
          "text": [
            "Downloading data from https://www.cs.toronto.edu/~kriz/cifar-100-python.tar.gz\n",
            "\u001b[1m169001437/169001437\u001b[0m \u001b[32m━━━━━━━━━━━━━━━━━━━━\u001b[0m\u001b[37m\u001b[0m \u001b[1m13s\u001b[0m 0us/step\n",
            "X_train shape: (50000, 32, 32, 3) y_train shape: (50000, 1) float32 int64\n",
            "X_test shape: (10000, 32, 32, 3) y_test shape: (10000, 1)\n"
          ]
        }
      ]
    },
    {
      "cell_type": "code",
      "source": [
        "print(X_train[0][0][0], y_train[0:10].flatten(), np.unique(y_train))"
      ],
      "metadata": {
        "colab": {
          "base_uri": "https://localhost:8080/"
        },
        "id": "9f6PTC07SbYX",
        "outputId": "cfe1bd61-25f3-45b6-cf99-560dcaa097e7"
      },
      "execution_count": 3,
      "outputs": [
        {
          "output_type": "stream",
          "name": "stdout",
          "text": [
            "[1. 1. 1.] [19 29  0 11  1 86 90 28 23 31] [ 0  1  2  3  4  5  6  7  8  9 10 11 12 13 14 15 16 17 18 19 20 21 22 23\n",
            " 24 25 26 27 28 29 30 31 32 33 34 35 36 37 38 39 40 41 42 43 44 45 46 47\n",
            " 48 49 50 51 52 53 54 55 56 57 58 59 60 61 62 63 64 65 66 67 68 69 70 71\n",
            " 72 73 74 75 76 77 78 79 80 81 82 83 84 85 86 87 88 89 90 91 92 93 94 95\n",
            " 96 97 98 99]\n"
          ]
        }
      ]
    },
    {
      "cell_type": "code",
      "source": [
        "# Visualize first 10 images\n",
        "# plt.figure(figsize=(3,15))\n",
        "for i in range(10):\n",
        "  plt.subplot(2, 10, i+1)\n",
        "  plt.imshow(X_train[i])\n",
        "  plt.title(f\"Label: {y_train[i][-1]}\", fontsize=8)\n",
        "  plt.axis(\"off\")\n",
        "plt.tight_layout()\n",
        "plt.show"
      ],
      "metadata": {
        "colab": {
          "base_uri": "https://localhost:8080/",
          "height": 270
        },
        "id": "_mlxUYtcSm8R",
        "outputId": "3cd674bb-3c3e-4a9e-83c1-f8231951fafc"
      },
      "execution_count": 4,
      "outputs": [
        {
          "output_type": "execute_result",
          "data": {
            "text/plain": [
              "<function matplotlib.pyplot.show(close=None, block=None)>"
            ],
            "text/html": [
              "<div style=\"max-width:800px; border: 1px solid var(--colab-border-color);\"><style>\n",
              "      pre.function-repr-contents {\n",
              "        overflow-x: auto;\n",
              "        padding: 8px 12px;\n",
              "        max-height: 500px;\n",
              "      }\n",
              "\n",
              "      pre.function-repr-contents.function-repr-contents-collapsed {\n",
              "        cursor: pointer;\n",
              "        max-height: 100px;\n",
              "      }\n",
              "    </style>\n",
              "    <pre style=\"white-space: initial; background:\n",
              "         var(--colab-secondary-surface-color); padding: 8px 12px;\n",
              "         border-bottom: 1px solid var(--colab-border-color);\"><b>matplotlib.pyplot.show</b><br/>def show(*args, **kwargs) -&gt; None</pre><pre class=\"function-repr-contents function-repr-contents-collapsed\" style=\"\"><a class=\"filepath\" style=\"display:none\" href=\"#\">/usr/local/lib/python3.11/dist-packages/matplotlib/pyplot.py</a>Display all open figures.\n",
              "\n",
              "Parameters\n",
              "----------\n",
              "block : bool, optional\n",
              "    Whether to wait for all figures to be closed before returning.\n",
              "\n",
              "    If `True` block and run the GUI main loop until all figure windows\n",
              "    are closed.\n",
              "\n",
              "    If `False` ensure that all figure windows are displayed and return\n",
              "    immediately.  In this case, you are responsible for ensuring\n",
              "    that the event loop is running to have responsive figures.\n",
              "\n",
              "    Defaults to True in non-interactive mode and to False in interactive\n",
              "    mode (see `.pyplot.isinteractive`).\n",
              "\n",
              "See Also\n",
              "--------\n",
              "ion : Enable interactive mode, which shows / updates the figure after\n",
              "      every plotting command, so that calling ``show()`` is not necessary.\n",
              "ioff : Disable interactive mode.\n",
              "savefig : Save the figure to an image file instead of showing it on screen.\n",
              "\n",
              "Notes\n",
              "-----\n",
              "**Saving figures to file and showing a window at the same time**\n",
              "\n",
              "If you want an image file as well as a user interface window, use\n",
              "`.pyplot.savefig` before `.pyplot.show`. At the end of (a blocking)\n",
              "``show()`` the figure is closed and thus unregistered from pyplot. Calling\n",
              "`.pyplot.savefig` afterwards would save a new and thus empty figure. This\n",
              "limitation of command order does not apply if the show is non-blocking or\n",
              "if you keep a reference to the figure and use `.Figure.savefig`.\n",
              "\n",
              "**Auto-show in jupyter notebooks**\n",
              "\n",
              "The jupyter backends (activated via ``%matplotlib inline``,\n",
              "``%matplotlib notebook``, or ``%matplotlib widget``), call ``show()`` at\n",
              "the end of every cell by default. Thus, you usually don&#x27;t have to call it\n",
              "explicitly there.</pre>\n",
              "      <script>\n",
              "      if (google.colab.kernel.accessAllowed && google.colab.files && google.colab.files.view) {\n",
              "        for (const element of document.querySelectorAll('.filepath')) {\n",
              "          element.style.display = 'block'\n",
              "          element.onclick = (event) => {\n",
              "            event.preventDefault();\n",
              "            event.stopPropagation();\n",
              "            google.colab.files.view(element.textContent, 569);\n",
              "          };\n",
              "        }\n",
              "      }\n",
              "      for (const element of document.querySelectorAll('.function-repr-contents')) {\n",
              "        element.onclick = (event) => {\n",
              "          event.preventDefault();\n",
              "          event.stopPropagation();\n",
              "          element.classList.toggle('function-repr-contents-collapsed');\n",
              "        };\n",
              "      }\n",
              "      </script>\n",
              "      </div>"
            ]
          },
          "metadata": {},
          "execution_count": 4
        },
        {
          "output_type": "display_data",
          "data": {
            "text/plain": [
              "<Figure size 640x480 with 10 Axes>"
            ],
            "image/png": "[encoded data removed]"
          },
          "metadata": {}
        }
      ]
    },
    {
      "cell_type": "markdown",
      "source": [
        "Label Format | Loss Function\n",
        "--- | ---\n",
        "One-hot encoded | categorical_crossentropy\n",
        "Integer encoded (0–99) | sparse_categorical_crossentropy\n",
        "\n",
        "For large number of classes (100 in this case), it will be memory efficient to keep labels and integers and use\n",
        "```python\n",
        "loss='sparse_categorical_crossentropy'\n",
        "```\n"
      ],
      "metadata": {
        "id": "8xaf0NSFVfXN"
      }
    },
    {
      "cell_type": "code",
      "source": [
        "splitds = train_test_split(X_train, y_train, test_size=0.3,random_state=42)"
      ],
      "metadata": {
        "id": "IFz02sQmT1r1"
      },
      "execution_count": 5,
      "outputs": []
    },
    {
      "cell_type": "markdown",
      "source": [],
      "metadata": {
        "id": "D8S2Gt4TX8sG"
      }
    },
    {
      "cell_type": "code",
      "source": [
        "splitds[0].shape, splitds[1].shape, splitds[2].shape, splitds[3].shape"
      ],
      "metadata": {
        "colab": {
          "base_uri": "https://localhost:8080/"
        },
        "id": "KAi1UZ3nWa7J",
        "outputId": "6ca5fad6-68a1-4a9d-931a-07d24aae8b9a"
      },
      "execution_count": 6,
      "outputs": [
        {
          "output_type": "execute_result",
          "data": {
            "text/plain": [
              "((35000, 32, 32, 3), (15000, 32, 32, 3), (35000, 1), (15000, 1))"
            ]
          },
          "metadata": {},
          "execution_count": 6
        }
      ]
    },
    {
      "cell_type": "code",
      "source": [
        "y_training_counts = np.bincount(splitds[2].flatten())\n",
        "ytrain_pct = y_training_counts / y_training_counts.sum() * 100\n",
        "y_val_counts = np.bincount(splitds[3].flatten())\n",
        "yval_pct = y_val_counts / y_val_counts.sum() * 100\n",
        "y_labels = list(range(100))\n",
        "\n",
        "plt.figure(figsize=(18,3))\n",
        "plt.bar(x=y_labels, height=ytrain_pct, width=0.8)\n",
        "plt.bar(x=y_labels, height=yval_pct, width=0.4)\n",
        "plt.xlabel('Class Label')\n",
        "plt.ylabel('Count')\n",
        "plt.title('Class Distribution')\n",
        "plt.xticks(y_labels, rotation=90)\n",
        "plt.tight_layout()\n",
        "plt.show()"
      ],
      "metadata": {
        "colab": {
          "base_uri": "https://localhost:8080/",
          "height": 271
        },
        "id": "8rXAlKA4XEGh",
        "outputId": "f685698e-4d91-48ef-c849-b0b11392742e"
      },
      "execution_count": 7,
      "outputs": [
        {
          "output_type": "display_data",
          "data": {
            "text/plain": [
              "<Figure size 1800x300 with 1 Axes>"
            ],
            "image/png": "[encoded data removed]"
          },
          "metadata": {}
        }
      ]
    },
    {
      "cell_type": "code",
      "source": [
        "splitdss = train_test_split(X_train, y_train, test_size=0.3,random_state=42, stratify=y_train)\n",
        "splitdss[0].shape, splitdss[1].shape, splitdss[2].shape, splitdss[3].shape"
      ],
      "metadata": {
        "colab": {
          "base_uri": "https://localhost:8080/"
        },
        "id": "gND7a1RIXapE",
        "outputId": "30c74187-c100-456e-e779-3a7984fbdb26"
      },
      "execution_count": 8,
      "outputs": [
        {
          "output_type": "execute_result",
          "data": {
            "text/plain": [
              "((35000, 32, 32, 3), (15000, 32, 32, 3), (35000, 1), (15000, 1))"
            ]
          },
          "metadata": {},
          "execution_count": 8
        }
      ]
    },
    {
      "cell_type": "code",
      "source": [
        "x_labels = list(range(100))\n",
        "ytrain_count = np.bincount(splitdss[2].ravel())\n",
        "ytrain_count"
      ],
      "metadata": {
        "colab": {
          "base_uri": "https://localhost:8080/"
        },
        "id": "IQn7kjL7YuKa",
        "outputId": "aeddfd90-4b7f-4682-86fa-86f2c82f9712"
      },
      "execution_count": 9,
      "outputs": [
        {
          "output_type": "execute_result",
          "data": {
            "text/plain": [
              "array([350, 350, 350, 350, 350, 350, 350, 350, 350, 350, 350, 350, 350,\n",
              "       350, 350, 350, 350, 350, 350, 350, 350, 350, 350, 350, 350, 350,\n",
              "       350, 350, 350, 350, 350, 350, 350, 350, 350, 350, 350, 350, 350,\n",
              "       350, 350, 350, 350, 350, 350, 350, 350, 350, 350, 350, 350, 350,\n",
              "       350, 350, 350, 350, 350, 350, 350, 350, 350, 350, 350, 350, 350,\n",
              "       350, 350, 350, 350, 350, 350, 350, 350, 350, 350, 350, 350, 350,\n",
              "       350, 350, 350, 350, 350, 350, 350, 350, 350, 350, 350, 350, 350,\n",
              "       350, 350, 350, 350, 350, 350, 350, 350, 350])"
            ]
          },
          "metadata": {},
          "execution_count": 9
        }
      ]
    },
    {
      "cell_type": "code",
      "source": [
        "np.bincount(y_train.flatten())"
      ],
      "metadata": {
        "colab": {
          "base_uri": "https://localhost:8080/"
        },
        "id": "IH9kGQa1bbFW",
        "outputId": "b0a945ac-e950-429f-9bfc-c673dc32cf1c"
      },
      "execution_count": 10,
      "outputs": [
        {
          "output_type": "execute_result",
          "data": {
            "text/plain": [
              "array([500, 500, 500, 500, 500, 500, 500, 500, 500, 500, 500, 500, 500,\n",
              "       500, 500, 500, 500, 500, 500, 500, 500, 500, 500, 500, 500, 500,\n",
              "       500, 500, 500, 500, 500, 500, 500, 500, 500, 500, 500, 500, 500,\n",
              "       500, 500, 500, 500, 500, 500, 500, 500, 500, 500, 500, 500, 500,\n",
              "       500, 500, 500, 500, 500, 500, 500, 500, 500, 500, 500, 500, 500,\n",
              "       500, 500, 500, 500, 500, 500, 500, 500, 500, 500, 500, 500, 500,\n",
              "       500, 500, 500, 500, 500, 500, 500, 500, 500, 500, 500, 500, 500,\n",
              "       500, 500, 500, 500, 500, 500, 500, 500, 500])"
            ]
          },
          "metadata": {},
          "execution_count": 10
        }
      ]
    },
    {
      "cell_type": "markdown",
      "source": [
        "---\n",
        "\n",
        "## Model"
      ],
      "metadata": {
        "id": "TqzQ8gh3b0Tl"
      }
    },
    {
      "cell_type": "markdown",
      "source": [
        "Decision Point | Guideline\n",
        "--- | ---\n",
        "🔢 Number of hidden layers | 2–4 layers for starting ANN model\n",
        "💡 Neurons per layer | Start with 512 → 256 → 128 pattern (powers of 2)\n",
        "🧂 Add BatchNorm? | Yes, especially after Dense+ReLU\n",
        "💧 Dropout? | Yes, e.g., Dropout(0.3–0.5) to avoid overfitting\n",
        "🧠 Activation functions | ReLU works well; softmax for final\n",
        "🏁 Final layer | Dense(100, activation='softmax')"
      ],
      "metadata": {
        "id": "ZS2iyJxKdKWV"
      }
    },
    {
      "cell_type": "code",
      "source": [
        "def build_model(learning_rate=0.01):\n",
        "  model = Sequential()\n",
        "  model.add(Flatten(input_shape=(32,32,3)))\n",
        "  for neurons, dr in [(512, 0.3), (256, 0.3), (128, 0.3)]:\n",
        "    model.add(Dense(neurons, activation='relu'))\n",
        "    model.add(BatchNormalization())\n",
        "    model.add(Dropout(dr))\n",
        "  model.add(Dense(100, activation=\"softmax\"))\n",
        "\n",
        "  model.compile(optimizer=tf.keras.optimizers.Adam(learning_rate=learning_rate), loss=\"sparse_categorical_crossentropy\", metrics=['accuracy', TopKCategoricalAccuracy(k=5)])\n",
        "\n",
        "  return model\n",
        "\n",
        "base_model = build_model()\n",
        "base_model.summary()\n"
      ],
      "metadata": {
        "colab": {
          "base_uri": "https://localhost:8080/",
          "height": 601
        },
        "id": "5BWewExfbkVX",
        "outputId": "917dffea-53a9-4c3d-e26d-91a9bde12dcf"
      },
      "execution_count": 11,
      "outputs": [
        {
          "output_type": "stream",
          "name": "stderr",
          "text": [
            "/usr/local/lib/python3.11/dist-packages/keras/src/layers/reshaping/flatten.py:37: UserWarning: Do not pass an `input_shape`/`input_dim` argument to a layer. When using Sequential models, prefer using an `Input(shape)` object as the first layer in the model instead.\n",
            "  super().__init__(**kwargs)\n"
          ]
        },
        {
          "output_type": "display_data",
          "data": {
            "text/plain": [
              "\u001b[1mModel: \"sequential\"\u001b[0m\n"
            ],
            "text/html": [
              "<pre style=\"white-space:pre;overflow-x:auto;line-height:normal;font-family:Menlo,'DejaVu Sans Mono',consolas,'Courier New',monospace\"><span style=\"font-weight: bold\">Model: \"sequential\"</span>\n",
              "</pre>\n"
            ]
          },
          "metadata": {}
        },
        {
          "output_type": "display_data",
          "data": {
            "text/plain": [
              "┏━━━━━━━━━━━━━━━━━━━━━━━━━━━━━━━━━┳━━━━━━━━━━━━━━━━━━━━━━━━┳━━━━━━━━━━━━━━━┓\n",
              "┃\u001b[1m \u001b[0m\u001b[1mLayer (type)                   \u001b[0m\u001b[1m \u001b[0m┃\u001b[1m \u001b[0m\u001b[1mOutput Shape          \u001b[0m\u001b[1m \u001b[0m┃\u001b[1m \u001b[0m\u001b[1m      Param #\u001b[0m\u001b[1m \u001b[0m┃\n",
              "┡━━━━━━━━━━━━━━━━━━━━━━━━━━━━━━━━━╇━━━━━━━━━━━━━━━━━━━━━━━━╇━━━━━━━━━━━━━━━┩\n",
              "│ flatten (\u001b[38;5;33mFlatten\u001b[0m)               │ (\u001b[38;5;45mNone\u001b[0m, \u001b[38;5;34m3072\u001b[0m)           │             \u001b[38;5;34m0\u001b[0m │\n",
              "├─────────────────────────────────┼────────────────────────┼───────────────┤\n",
              "│ dense (\u001b[38;5;33mDense\u001b[0m)                   │ (\u001b[38;5;45mNone\u001b[0m, \u001b[38;5;34m512\u001b[0m)            │     \u001b[38;5;34m1,573,376\u001b[0m │\n",
              "├─────────────────────────────────┼────────────────────────┼───────────────┤\n",
              "│ batch_normalization             │ (\u001b[38;5;45mNone\u001b[0m, \u001b[38;5;34m512\u001b[0m)            │         \u001b[38;5;34m2,048\u001b[0m │\n",
              "│ (\u001b[38;5;33mBatchNormalization\u001b[0m)            │                        │               │\n",
              "├─────────────────────────────────┼────────────────────────┼───────────────┤\n",
              "│ dropout (\u001b[38;5;33mDropout\u001b[0m)               │ (\u001b[38;5;45mNone\u001b[0m, \u001b[38;5;34m512\u001b[0m)            │             \u001b[38;5;34m0\u001b[0m │\n",
              "├─────────────────────────────────┼────────────────────────┼───────────────┤\n",
              "│ dense_1 (\u001b[38;5;33mDense\u001b[0m)                 │ (\u001b[38;5;45mNone\u001b[0m, \u001b[38;5;34m256\u001b[0m)            │       \u001b[38;5;34m131,328\u001b[0m │\n",
              "├─────────────────────────────────┼────────────────────────┼───────────────┤\n",
              "│ batch_normalization_1           │ (\u001b[38;5;45mNone\u001b[0m, \u001b[38;5;34m256\u001b[0m)            │         \u001b[38;5;34m1,024\u001b[0m │\n",
              "│ (\u001b[38;5;33mBatchNormalization\u001b[0m)            │                        │               │\n",
              "├─────────────────────────────────┼────────────────────────┼───────────────┤\n",
              "│ dropout_1 (\u001b[38;5;33mDropout\u001b[0m)             │ (\u001b[38;5;45mNone\u001b[0m, \u001b[38;5;34m256\u001b[0m)            │             \u001b[38;5;34m0\u001b[0m │\n",
              "├─────────────────────────────────┼────────────────────────┼───────────────┤\n",
              "│ dense_2 (\u001b[38;5;33mDense\u001b[0m)                 │ (\u001b[38;5;45mNone\u001b[0m, \u001b[38;5;34m128\u001b[0m)            │        \u001b[38;5;34m32,896\u001b[0m │\n",
              "├─────────────────────────────────┼────────────────────────┼───────────────┤\n",
              "│ batch_normalization_2           │ (\u001b[38;5;45mNone\u001b[0m, \u001b[38;5;34m128\u001b[0m)            │           \u001b[38;5;34m512\u001b[0m │\n",
              "│ (\u001b[38;5;33mBatchNormalization\u001b[0m)            │                        │               │\n",
              "├─────────────────────────────────┼────────────────────────┼───────────────┤\n",
              "│ dropout_2 (\u001b[38;5;33mDropout\u001b[0m)             │ (\u001b[38;5;45mNone\u001b[0m, \u001b[38;5;34m128\u001b[0m)            │             \u001b[38;5;34m0\u001b[0m │\n",
              "├─────────────────────────────────┼────────────────────────┼───────────────┤\n",
              "│ dense_3 (\u001b[38;5;33mDense\u001b[0m)                 │ (\u001b[38;5;45mNone\u001b[0m, \u001b[38;5;34m100\u001b[0m)            │        \u001b[38;5;34m12,900\u001b[0m │\n",
              "└─────────────────────────────────┴────────────────────────┴───────────────┘\n"
            ],
            "text/html": [
              "<pre style=\"white-space:pre;overflow-x:auto;line-height:normal;font-family:Menlo,'DejaVu Sans Mono',consolas,'Courier New',monospace\">┏━━━━━━━━━━━━━━━━━━━━━━━━━━━━━━━━━┳━━━━━━━━━━━━━━━━━━━━━━━━┳━━━━━━━━━━━━━━━┓\n",
              "┃<span style=\"font-weight: bold\"> Layer (type)                    </span>┃<span style=\"font-weight: bold\"> Output Shape           </span>┃<span style=\"font-weight: bold\">       Param # </span>┃\n",
              "┡━━━━━━━━━━━━━━━━━━━━━━━━━━━━━━━━━╇━━━━━━━━━━━━━━━━━━━━━━━━╇━━━━━━━━━━━━━━━┩\n",
              "│ flatten (<span style=\"color: #0087ff; text-decoration-color: #0087ff\">Flatten</span>)               │ (<span style=\"color: #00d7ff; text-decoration-color: #00d7ff\">None</span>, <span style=\"color: #00af00; text-decoration-color: #00af00\">3072</span>)           │             <span style=\"color: #00af00; text-decoration-color: #00af00\">0</span> │\n",
              "├─────────────────────────────────┼────────────────────────┼───────────────┤\n",
              "│ dense (<span style=\"color: #0087ff; text-decoration-color: #0087ff\">Dense</span>)                   │ (<span style=\"color: #00d7ff; text-decoration-color: #00d7ff\">None</span>, <span style=\"color: #00af00; text-decoration-color: #00af00\">512</span>)            │     <span style=\"color: #00af00; text-decoration-color: #00af00\">1,573,376</span> │\n",
              "├─────────────────────────────────┼────────────────────────┼───────────────┤\n",
              "│ batch_normalization             │ (<span style=\"color: #00d7ff; text-decoration-color: #00d7ff\">None</span>, <span style=\"color: #00af00; text-decoration-color: #00af00\">512</span>)            │         <span style=\"color: #00af00; text-decoration-color: #00af00\">2,048</span> │\n",
              "│ (<span style=\"color: #0087ff; text-decoration-color: #0087ff\">BatchNormalization</span>)            │                        │               │\n",
              "├─────────────────────────────────┼────────────────────────┼───────────────┤\n",
              "│ dropout (<span style=\"color: #0087ff; text-decoration-color: #0087ff\">Dropout</span>)               │ (<span style=\"color: #00d7ff; text-decoration-color: #00d7ff\">None</span>, <span style=\"color: #00af00; text-decoration-color: #00af00\">512</span>)            │             <span style=\"color: #00af00; text-decoration-color: #00af00\">0</span> │\n",
              "├─────────────────────────────────┼────────────────────────┼───────────────┤\n",
              "│ dense_1 (<span style=\"color: #0087ff; text-decoration-color: #0087ff\">Dense</span>)                 │ (<span style=\"color: #00d7ff; text-decoration-color: #00d7ff\">None</span>, <span style=\"color: #00af00; text-decoration-color: #00af00\">256</span>)            │       <span style=\"color: #00af00; text-decoration-color: #00af00\">131,328</span> │\n",
              "├─────────────────────────────────┼────────────────────────┼───────────────┤\n",
              "│ batch_normalization_1           │ (<span style=\"color: #00d7ff; text-decoration-color: #00d7ff\">None</span>, <span style=\"color: #00af00; text-decoration-color: #00af00\">256</span>)            │         <span style=\"color: #00af00; text-decoration-color: #00af00\">1,024</span> │\n",
              "│ (<span style=\"color: #0087ff; text-decoration-color: #0087ff\">BatchNormalization</span>)            │                        │               │\n",
              "├─────────────────────────────────┼────────────────────────┼───────────────┤\n",
              "│ dropout_1 (<span style=\"color: #0087ff; text-decoration-color: #0087ff\">Dropout</span>)             │ (<span style=\"color: #00d7ff; text-decoration-color: #00d7ff\">None</span>, <span style=\"color: #00af00; text-decoration-color: #00af00\">256</span>)            │             <span style=\"color: #00af00; text-decoration-color: #00af00\">0</span> │\n",
              "├─────────────────────────────────┼────────────────────────┼───────────────┤\n",
              "│ dense_2 (<span style=\"color: #0087ff; text-decoration-color: #0087ff\">Dense</span>)                 │ (<span style=\"color: #00d7ff; text-decoration-color: #00d7ff\">None</span>, <span style=\"color: #00af00; text-decoration-color: #00af00\">128</span>)            │        <span style=\"color: #00af00; text-decoration-color: #00af00\">32,896</span> │\n",
              "├─────────────────────────────────┼────────────────────────┼───────────────┤\n",
              "│ batch_normalization_2           │ (<span style=\"color: #00d7ff; text-decoration-color: #00d7ff\">None</span>, <span style=\"color: #00af00; text-decoration-color: #00af00\">128</span>)            │           <span style=\"color: #00af00; text-decoration-color: #00af00\">512</span> │\n",
              "│ (<span style=\"color: #0087ff; text-decoration-color: #0087ff\">BatchNormalization</span>)            │                        │               │\n",
              "├─────────────────────────────────┼────────────────────────┼───────────────┤\n",
              "│ dropout_2 (<span style=\"color: #0087ff; text-decoration-color: #0087ff\">Dropout</span>)             │ (<span style=\"color: #00d7ff; text-decoration-color: #00d7ff\">None</span>, <span style=\"color: #00af00; text-decoration-color: #00af00\">128</span>)            │             <span style=\"color: #00af00; text-decoration-color: #00af00\">0</span> │\n",
              "├─────────────────────────────────┼────────────────────────┼───────────────┤\n",
              "│ dense_3 (<span style=\"color: #0087ff; text-decoration-color: #0087ff\">Dense</span>)                 │ (<span style=\"color: #00d7ff; text-decoration-color: #00d7ff\">None</span>, <span style=\"color: #00af00; text-decoration-color: #00af00\">100</span>)            │        <span style=\"color: #00af00; text-decoration-color: #00af00\">12,900</span> │\n",
              "└─────────────────────────────────┴────────────────────────┴───────────────┘\n",
              "</pre>\n"
            ]
          },
          "metadata": {}
        },
        {
          "output_type": "display_data",
          "data": {
            "text/plain": [
              "\u001b[1m Total params: \u001b[0m\u001b[38;5;34m1,754,084\u001b[0m (6.69 MB)\n"
            ],
            "text/html": [
              "<pre style=\"white-space:pre;overflow-x:auto;line-height:normal;font-family:Menlo,'DejaVu Sans Mono',consolas,'Courier New',monospace\"><span style=\"font-weight: bold\"> Total params: </span><span style=\"color: #00af00; text-decoration-color: #00af00\">1,754,084</span> (6.69 MB)\n",
              "</pre>\n"
            ]
          },
          "metadata": {}
        },
        {
          "output_type": "display_data",
          "data": {
            "text/plain": [
              "\u001b[1m Trainable params: \u001b[0m\u001b[38;5;34m1,752,292\u001b[0m (6.68 MB)\n"
            ],
            "text/html": [
              "<pre style=\"white-space:pre;overflow-x:auto;line-height:normal;font-family:Menlo,'DejaVu Sans Mono',consolas,'Courier New',monospace\"><span style=\"font-weight: bold\"> Trainable params: </span><span style=\"color: #00af00; text-decoration-color: #00af00\">1,752,292</span> (6.68 MB)\n",
              "</pre>\n"
            ]
          },
          "metadata": {}
        },
        {
          "output_type": "display_data",
          "data": {
            "text/plain": [
              "\u001b[1m Non-trainable params: \u001b[0m\u001b[38;5;34m1,792\u001b[0m (7.00 KB)\n"
            ],
            "text/html": [
              "<pre style=\"white-space:pre;overflow-x:auto;line-height:normal;font-family:Menlo,'DejaVu Sans Mono',consolas,'Courier New',monospace\"><span style=\"font-weight: bold\"> Non-trainable params: </span><span style=\"color: #00af00; text-decoration-color: #00af00\">1,792</span> (7.00 KB)\n",
              "</pre>\n"
            ]
          },
          "metadata": {}
        }
      ]
    },
    {
      "cell_type": "code",
      "source": [
        "ann_trained = base_model.fit(X_train, y_train, epochs=40, batch_size=200, validation_split=0.3, verbose=1)"
      ],
      "metadata": {
        "colab": {
          "base_uri": "https://localhost:8080/"
        },
        "id": "_1J9zv8Xd3QX",
        "outputId": "061ebf1b-740b-47f9-d68c-8c4f7ad35cc1"
      },
      "execution_count": 12,
      "outputs": [
        {
          "output_type": "stream",
          "name": "stdout",
          "text": [
            "Epoch 1/40\n",
            "\u001b[1m175/175\u001b[0m \u001b[32m━━━━━━━━━━━━━━━━━━━━\u001b[0m\u001b[37m\u001b[0m \u001b[1m8s\u001b[0m 11ms/step - accuracy: 0.0548 - loss: 4.4259 - top_k_categorical_accuracy: 0.0534 - val_accuracy: 0.0913 - val_loss: 4.2035 - val_top_k_categorical_accuracy: 0.2367\n",
            "Epoch 2/40\n",
            "\u001b[1m175/175\u001b[0m \u001b[32m━━━━━━━━━━━━━━━━━━━━\u001b[0m\u001b[37m\u001b[0m \u001b[1m1s\u001b[0m 6ms/step - accuracy: 0.1108 - loss: 3.7943 - top_k_categorical_accuracy: 0.0447 - val_accuracy: 0.1192 - val_loss: 3.8045 - val_top_k_categorical_accuracy: 0.0889\n",
            "Epoch 3/40\n",
            "\u001b[1m175/175\u001b[0m \u001b[32m━━━━━━━━━━━━━━━━━━━━\u001b[0m\u001b[37m\u001b[0m \u001b[1m1s\u001b[0m 6ms/step - accuracy: 0.1368 - loss: 3.6498 - top_k_categorical_accuracy: 0.0518 - val_accuracy: 0.1395 - val_loss: 3.6851 - val_top_k_categorical_accuracy: 0.1192\n",
            "Epoch 4/40\n",
            "\u001b[1m175/175\u001b[0m \u001b[32m━━━━━━━━━━━━━━━━━━━━\u001b[0m\u001b[37m\u001b[0m \u001b[1m1s\u001b[0m 6ms/step - accuracy: 0.1490 - loss: 3.5849 - top_k_categorical_accuracy: 0.0549 - val_accuracy: 0.1309 - val_loss: 3.7475 - val_top_k_categorical_accuracy: 0.0883\n",
            "Epoch 5/40\n",
            "\u001b[1m175/175\u001b[0m \u001b[32m━━━━━━━━━━━━━━━━━━━━\u001b[0m\u001b[37m\u001b[0m \u001b[1m1s\u001b[0m 6ms/step - accuracy: 0.1577 - loss: 3.5378 - top_k_categorical_accuracy: 0.0489 - val_accuracy: 0.1328 - val_loss: 3.7042 - val_top_k_categorical_accuracy: 0.0213\n",
            "Epoch 6/40\n",
            "\u001b[1m175/175\u001b[0m \u001b[32m━━━━━━━━━━━━━━━━━━━━\u001b[0m\u001b[37m\u001b[0m \u001b[1m1s\u001b[0m 6ms/step - accuracy: 0.1611 - loss: 3.5162 - top_k_categorical_accuracy: 0.0482 - val_accuracy: 0.1555 - val_loss: 3.5444 - val_top_k_categorical_accuracy: 0.0543\n",
            "Epoch 7/40\n",
            "\u001b[1m175/175\u001b[0m \u001b[32m━━━━━━━━━━━━━━━━━━━━\u001b[0m\u001b[37m\u001b[0m \u001b[1m1s\u001b[0m 6ms/step - accuracy: 0.1692 - loss: 3.4610 - top_k_categorical_accuracy: 0.0484 - val_accuracy: 0.1771 - val_loss: 3.4247 - val_top_k_categorical_accuracy: 0.0701\n",
            "Epoch 8/40\n",
            "\u001b[1m175/175\u001b[0m \u001b[32m━━━━━━━━━━━━━━━━━━━━\u001b[0m\u001b[37m\u001b[0m \u001b[1m1s\u001b[0m 6ms/step - accuracy: 0.1760 - loss: 3.4353 - top_k_categorical_accuracy: 0.0521 - val_accuracy: 0.1884 - val_loss: 3.3677 - val_top_k_categorical_accuracy: 0.0599\n",
            "Epoch 9/40\n",
            "\u001b[1m175/175\u001b[0m \u001b[32m━━━━━━━━━━━━━━━━━━━━\u001b[0m\u001b[37m\u001b[0m \u001b[1m1s\u001b[0m 7ms/step - accuracy: 0.1775 - loss: 3.4122 - top_k_categorical_accuracy: 0.0448 - val_accuracy: 0.1933 - val_loss: 3.3608 - val_top_k_categorical_accuracy: 0.0555\n",
            "Epoch 10/40\n",
            "\u001b[1m175/175\u001b[0m \u001b[32m━━━━━━━━━━━━━━━━━━━━\u001b[0m\u001b[37m\u001b[0m \u001b[1m1s\u001b[0m 7ms/step - accuracy: 0.1832 - loss: 3.3989 - top_k_categorical_accuracy: 0.0447 - val_accuracy: 0.1802 - val_loss: 3.4131 - val_top_k_categorical_accuracy: 0.0453\n",
            "Epoch 11/40\n",
            "\u001b[1m175/175\u001b[0m \u001b[32m━━━━━━━━━━━━━━━━━━━━\u001b[0m\u001b[37m\u001b[0m \u001b[1m1s\u001b[0m 6ms/step - accuracy: 0.1848 - loss: 3.3642 - top_k_categorical_accuracy: 0.0509 - val_accuracy: 0.1912 - val_loss: 3.3545 - val_top_k_categorical_accuracy: 0.0437\n",
            "Epoch 12/40\n",
            "\u001b[1m175/175\u001b[0m \u001b[32m━━━━━━━━━━━━━━━━━━━━\u001b[0m\u001b[37m\u001b[0m \u001b[1m1s\u001b[0m 6ms/step - accuracy: 0.1893 - loss: 3.3599 - top_k_categorical_accuracy: 0.0462 - val_accuracy: 0.1855 - val_loss: 3.3831 - val_top_k_categorical_accuracy: 0.0858\n",
            "Epoch 13/40\n",
            "\u001b[1m175/175\u001b[0m \u001b[32m━━━━━━━━━━━━━━━━━━━━\u001b[0m\u001b[37m\u001b[0m \u001b[1m1s\u001b[0m 6ms/step - accuracy: 0.1916 - loss: 3.3374 - top_k_categorical_accuracy: 0.0529 - val_accuracy: 0.1757 - val_loss: 3.4762 - val_top_k_categorical_accuracy: 0.0546\n",
            "Epoch 14/40\n",
            "\u001b[1m175/175\u001b[0m \u001b[32m━━━━━━━━━━━━━━━━━━━━\u001b[0m\u001b[37m\u001b[0m \u001b[1m1s\u001b[0m 6ms/step - accuracy: 0.1947 - loss: 3.3263 - top_k_categorical_accuracy: 0.0453 - val_accuracy: 0.1833 - val_loss: 3.3998 - val_top_k_categorical_accuracy: 0.0826\n",
            "Epoch 15/40\n",
            "\u001b[1m175/175\u001b[0m \u001b[32m━━━━━━━━━━━━━━━━━━━━\u001b[0m\u001b[37m\u001b[0m \u001b[1m1s\u001b[0m 6ms/step - accuracy: 0.1963 - loss: 3.3248 - top_k_categorical_accuracy: 0.0514 - val_accuracy: 0.2006 - val_loss: 3.3031 - val_top_k_categorical_accuracy: 0.0387\n",
            "Epoch 16/40\n",
            "\u001b[1m175/175\u001b[0m \u001b[32m━━━━━━━━━━━━━━━━━━━━\u001b[0m\u001b[37m\u001b[0m \u001b[1m1s\u001b[0m 6ms/step - accuracy: 0.2035 - loss: 3.2891 - top_k_categorical_accuracy: 0.0441 - val_accuracy: 0.2060 - val_loss: 3.2933 - val_top_k_categorical_accuracy: 0.0733\n",
            "Epoch 17/40\n",
            "\u001b[1m175/175\u001b[0m \u001b[32m━━━━━━━━━━━━━━━━━━━━\u001b[0m\u001b[37m\u001b[0m \u001b[1m1s\u001b[0m 6ms/step - accuracy: 0.2001 - loss: 3.3089 - top_k_categorical_accuracy: 0.0505 - val_accuracy: 0.2083 - val_loss: 3.2603 - val_top_k_categorical_accuracy: 0.0447\n",
            "Epoch 18/40\n",
            "\u001b[1m175/175\u001b[0m \u001b[32m━━━━━━━━━━━━━━━━━━━━\u001b[0m\u001b[37m\u001b[0m \u001b[1m1s\u001b[0m 6ms/step - accuracy: 0.1974 - loss: 3.2944 - top_k_categorical_accuracy: 0.0445 - val_accuracy: 0.2175 - val_loss: 3.2497 - val_top_k_categorical_accuracy: 0.0767\n",
            "Epoch 19/40\n",
            "\u001b[1m175/175\u001b[0m \u001b[32m━━━━━━━━━━━━━━━━━━━━\u001b[0m\u001b[37m\u001b[0m \u001b[1m2s\u001b[0m 9ms/step - accuracy: 0.1982 - loss: 3.2794 - top_k_categorical_accuracy: 0.0500 - val_accuracy: 0.2168 - val_loss: 3.2475 - val_top_k_categorical_accuracy: 0.0509\n",
            "Epoch 20/40\n",
            "\u001b[1m175/175\u001b[0m \u001b[32m━━━━━━━━━━━━━━━━━━━━\u001b[0m\u001b[37m\u001b[0m \u001b[1m2s\u001b[0m 8ms/step - accuracy: 0.2034 - loss: 3.2751 - top_k_categorical_accuracy: 0.0474 - val_accuracy: 0.2048 - val_loss: 3.2970 - val_top_k_categorical_accuracy: 0.0452\n",
            "Epoch 21/40\n",
            "\u001b[1m175/175\u001b[0m \u001b[32m━━━━━━━━━━━━━━━━━━━━\u001b[0m\u001b[37m\u001b[0m \u001b[1m4s\u001b[0m 15ms/step - accuracy: 0.2010 - loss: 3.2702 - top_k_categorical_accuracy: 0.0469 - val_accuracy: 0.2000 - val_loss: 3.3040 - val_top_k_categorical_accuracy: 0.0437\n",
            "Epoch 22/40\n",
            "\u001b[1m175/175\u001b[0m \u001b[32m━━━━━━━━━━━━━━━━━━━━\u001b[0m\u001b[37m\u001b[0m \u001b[1m2s\u001b[0m 10ms/step - accuracy: 0.2062 - loss: 3.2492 - top_k_categorical_accuracy: 0.0537 - val_accuracy: 0.2208 - val_loss: 3.2549 - val_top_k_categorical_accuracy: 0.0539\n",
            "Epoch 23/40\n",
            "\u001b[1m175/175\u001b[0m \u001b[32m━━━━━━━━━━━━━━━━━━━━\u001b[0m\u001b[37m\u001b[0m \u001b[1m2s\u001b[0m 6ms/step - accuracy: 0.2095 - loss: 3.2273 - top_k_categorical_accuracy: 0.0497 - val_accuracy: 0.2098 - val_loss: 3.2594 - val_top_k_categorical_accuracy: 0.0581\n",
            "Epoch 24/40\n",
            "\u001b[1m175/175\u001b[0m \u001b[32m━━━━━━━━━━━━━━━━━━━━\u001b[0m\u001b[37m\u001b[0m \u001b[1m1s\u001b[0m 7ms/step - accuracy: 0.2076 - loss: 3.2425 - top_k_categorical_accuracy: 0.0453 - val_accuracy: 0.2121 - val_loss: 3.2807 - val_top_k_categorical_accuracy: 0.0478\n",
            "Epoch 25/40\n",
            "\u001b[1m175/175\u001b[0m \u001b[32m━━━━━━━━━━━━━━━━━━━━\u001b[0m\u001b[37m\u001b[0m \u001b[1m2s\u001b[0m 6ms/step - accuracy: 0.2104 - loss: 3.2307 - top_k_categorical_accuracy: 0.0499 - val_accuracy: 0.2240 - val_loss: 3.2219 - val_top_k_categorical_accuracy: 0.0616\n",
            "Epoch 26/40\n",
            "\u001b[1m175/175\u001b[0m \u001b[32m━━━━━━━━━━━━━━━━━━━━\u001b[0m\u001b[37m\u001b[0m \u001b[1m1s\u001b[0m 6ms/step - accuracy: 0.2158 - loss: 3.2046 - top_k_categorical_accuracy: 0.0458 - val_accuracy: 0.2053 - val_loss: 3.2914 - val_top_k_categorical_accuracy: 0.0646\n",
            "Epoch 27/40\n",
            "\u001b[1m175/175\u001b[0m \u001b[32m━━━━━━━━━━━━━━━━━━━━\u001b[0m\u001b[37m\u001b[0m \u001b[1m1s\u001b[0m 6ms/step - accuracy: 0.2151 - loss: 3.2110 - top_k_categorical_accuracy: 0.0488 - val_accuracy: 0.2226 - val_loss: 3.2139 - val_top_k_categorical_accuracy: 0.0441\n",
            "Epoch 28/40\n",
            "\u001b[1m175/175\u001b[0m \u001b[32m━━━━━━━━━━━━━━━━━━━━\u001b[0m\u001b[37m\u001b[0m \u001b[1m1s\u001b[0m 6ms/step - accuracy: 0.2140 - loss: 3.1897 - top_k_categorical_accuracy: 0.0481 - val_accuracy: 0.2247 - val_loss: 3.2139 - val_top_k_categorical_accuracy: 0.0435\n",
            "Epoch 29/40\n",
            "\u001b[1m175/175\u001b[0m \u001b[32m━━━━━━━━━━━━━━━━━━━━\u001b[0m\u001b[37m\u001b[0m \u001b[1m1s\u001b[0m 6ms/step - accuracy: 0.2184 - loss: 3.2027 - top_k_categorical_accuracy: 0.0488 - val_accuracy: 0.2175 - val_loss: 3.2366 - val_top_k_categorical_accuracy: 0.0326\n",
            "Epoch 30/40\n",
            "\u001b[1m175/175\u001b[0m \u001b[32m━━━━━━━━━━━━━━━━━━━━\u001b[0m\u001b[37m\u001b[0m \u001b[1m1s\u001b[0m 6ms/step - accuracy: 0.2139 - loss: 3.2030 - top_k_categorical_accuracy: 0.0438 - val_accuracy: 0.2238 - val_loss: 3.2352 - val_top_k_categorical_accuracy: 0.0412\n",
            "Epoch 31/40\n",
            "\u001b[1m175/175\u001b[0m \u001b[32m━━━━━━━━━━━━━━━━━━━━\u001b[0m\u001b[37m\u001b[0m \u001b[1m1s\u001b[0m 6ms/step - accuracy: 0.2215 - loss: 3.1669 - top_k_categorical_accuracy: 0.0464 - val_accuracy: 0.2285 - val_loss: 3.1943 - val_top_k_categorical_accuracy: 0.0440\n",
            "Epoch 32/40\n",
            "\u001b[1m175/175\u001b[0m \u001b[32m━━━━━━━━━━━━━━━━━━━━\u001b[0m\u001b[37m\u001b[0m \u001b[1m1s\u001b[0m 6ms/step - accuracy: 0.2209 - loss: 3.1665 - top_k_categorical_accuracy: 0.0452 - val_accuracy: 0.2193 - val_loss: 3.2411 - val_top_k_categorical_accuracy: 0.0509\n",
            "Epoch 33/40\n",
            "\u001b[1m175/175\u001b[0m \u001b[32m━━━━━━━━━━━━━━━━━━━━\u001b[0m\u001b[37m\u001b[0m \u001b[1m1s\u001b[0m 6ms/step - accuracy: 0.2232 - loss: 3.1485 - top_k_categorical_accuracy: 0.0485 - val_accuracy: 0.2191 - val_loss: 3.2511 - val_top_k_categorical_accuracy: 0.0404\n",
            "Epoch 34/40\n",
            "\u001b[1m175/175\u001b[0m \u001b[32m━━━━━━━━━━━━━━━━━━━━\u001b[0m\u001b[37m\u001b[0m \u001b[1m1s\u001b[0m 8ms/step - accuracy: 0.2266 - loss: 3.1464 - top_k_categorical_accuracy: 0.0430 - val_accuracy: 0.2193 - val_loss: 3.2326 - val_top_k_categorical_accuracy: 0.0429\n",
            "Epoch 35/40\n",
            "\u001b[1m175/175\u001b[0m \u001b[32m━━━━━━━━━━━━━━━━━━━━\u001b[0m\u001b[37m\u001b[0m \u001b[1m2s\u001b[0m 6ms/step - accuracy: 0.2257 - loss: 3.1562 - top_k_categorical_accuracy: 0.0435 - val_accuracy: 0.2207 - val_loss: 3.2460 - val_top_k_categorical_accuracy: 0.0576\n",
            "Epoch 36/40\n",
            "\u001b[1m175/175\u001b[0m \u001b[32m━━━━━━━━━━━━━━━━━━━━\u001b[0m\u001b[37m\u001b[0m \u001b[1m1s\u001b[0m 6ms/step - accuracy: 0.2218 - loss: 3.1593 - top_k_categorical_accuracy: 0.0436 - val_accuracy: 0.2163 - val_loss: 3.2615 - val_top_k_categorical_accuracy: 0.0447\n",
            "Epoch 37/40\n",
            "\u001b[1m175/175\u001b[0m \u001b[32m━━━━━━━━━━━━━━━━━━━━\u001b[0m\u001b[37m\u001b[0m \u001b[1m1s\u001b[0m 6ms/step - accuracy: 0.2232 - loss: 3.1622 - top_k_categorical_accuracy: 0.0458 - val_accuracy: 0.2234 - val_loss: 3.2108 - val_top_k_categorical_accuracy: 0.0537\n",
            "Epoch 38/40\n",
            "\u001b[1m175/175\u001b[0m \u001b[32m━━━━━━━━━━━━━━━━━━━━\u001b[0m\u001b[37m\u001b[0m \u001b[1m1s\u001b[0m 6ms/step - accuracy: 0.2318 - loss: 3.1289 - top_k_categorical_accuracy: 0.0413 - val_accuracy: 0.2289 - val_loss: 3.2005 - val_top_k_categorical_accuracy: 0.0476\n",
            "Epoch 39/40\n",
            "\u001b[1m175/175\u001b[0m \u001b[32m━━━━━━━━━━━━━━━━━━━━\u001b[0m\u001b[37m\u001b[0m \u001b[1m1s\u001b[0m 6ms/step - accuracy: 0.2306 - loss: 3.1323 - top_k_categorical_accuracy: 0.0467 - val_accuracy: 0.2315 - val_loss: 3.1598 - val_top_k_categorical_accuracy: 0.0542\n",
            "Epoch 40/40\n",
            "\u001b[1m175/175\u001b[0m \u001b[32m━━━━━━━━━━━━━━━━━━━━\u001b[0m\u001b[37m\u001b[0m \u001b[1m1s\u001b[0m 6ms/step - accuracy: 0.2322 - loss: 3.1274 - top_k_categorical_accuracy: 0.0455 - val_accuracy: 0.2234 - val_loss: 3.2032 - val_top_k_categorical_accuracy: 0.0683\n"
          ]
        }
      ]
    },
    {
      "cell_type": "code",
      "source": [
        "# Evalaute base_model\n",
        "base_model.evaluate(X_test, y_test)"
      ],
      "metadata": {
        "colab": {
          "base_uri": "https://localhost:8080/"
        },
        "id": "VTDJ6Av7epY9",
        "outputId": "2d9a58aa-372c-4639-ffed-0a1e8b2c03d9"
      },
      "execution_count": 13,
      "outputs": [
        {
          "output_type": "stream",
          "name": "stdout",
          "text": [
            "\u001b[1m313/313\u001b[0m \u001b[32m━━━━━━━━━━━━━━━━━━━━\u001b[0m\u001b[37m\u001b[0m \u001b[1m2s\u001b[0m 4ms/step - accuracy: 0.2261 - loss: 3.1999 - top_k_categorical_accuracy: 0.0697\n"
          ]
        },
        {
          "output_type": "execute_result",
          "data": {
            "text/plain": [
              "[3.2073798179626465, 0.22759999334812164, 0.0697999969124794]"
            ]
          },
          "metadata": {},
          "execution_count": 13
        }
      ]
    },
    {
      "cell_type": "code",
      "source": [
        "base_model.save(\"cifar10_base_ann.keras\", overwrite=True)"
      ],
      "metadata": {
        "id": "9rMvxnklergf"
      },
      "execution_count": 14,
      "outputs": []
    },
    {
      "cell_type": "code",
      "source": [
        "ann_trained.history.keys()"
      ],
      "metadata": {
        "colab": {
          "base_uri": "https://localhost:8080/"
        },
        "id": "2rAd9QidH0nk",
        "outputId": "f45de886-20fb-41bc-f201-18184551bd0a"
      },
      "execution_count": 15,
      "outputs": [
        {
          "output_type": "execute_result",
          "data": {
            "text/plain": [
              "dict_keys(['accuracy', 'loss', 'top_k_categorical_accuracy', 'val_accuracy', 'val_loss', 'val_top_k_categorical_accuracy'])"
            ]
          },
          "metadata": {},
          "execution_count": 15
        }
      ]
    },
    {
      "cell_type": "code",
      "source": [
        "str(ann_trained.epoch)"
      ],
      "metadata": {
        "colab": {
          "base_uri": "https://localhost:8080/",
          "height": 35
        },
        "id": "erv_J4rXH7Y9",
        "outputId": "33a34f02-ae9e-405c-8ce2-e44982fca1c2"
      },
      "execution_count": 16,
      "outputs": [
        {
          "output_type": "execute_result",
          "data": {
            "text/plain": [
              "'[0, 1, 2, 3, 4, 5, 6, 7, 8, 9, 10, 11, 12, 13, 14, 15, 16, 17, 18, 19, 20, 21, 22, 23, 24, 25, 26, 27, 28, 29, 30, 31, 32, 33, 34, 35, 36, 37, 38, 39]'"
            ],
            "application/vnd.google.colaboratory.intrinsic+json": {
              "type": "string"
            }
          },
          "metadata": {},
          "execution_count": 16
        }
      ]
    },
    {
      "cell_type": "code",
      "source": [
        "ann_metric_df = pd.DataFrame({\n",
        "    \"epochs\": ann_trained.epoch,\n",
        "    \"accuracy\": ann_trained.history[\"accuracy\"],\n",
        "    \"loss\": ann_trained.history[\"loss\"],\n",
        "    \"val_accuracy\": ann_trained.history[\"val_accuracy\"],\n",
        "    \"val_loss\": ann_trained.history[\"val_loss\"],\n",
        "    \"top_k_categorical_accuracy\": ann_trained.history[\"top_k_categorical_accuracy\"],\n",
        "    })\n",
        "\n",
        "ann_metric_df"
      ],
      "metadata": {
        "colab": {
          "base_uri": "https://localhost:8080/",
          "height": 1000
        },
        "id": "0-knEbdAIJby",
        "outputId": "38f2f28b-9ae1-462b-ace7-293290f9d09f"
      },
      "execution_count": 17,
      "outputs": [
        {
          "output_type": "execute_result",
          "data": {
            "text/plain": [
              "    epochs  accuracy      loss  val_accuracy  val_loss  \\\n",
              "0        0  0.074171  4.146464      0.091333  4.203474   \n",
              "1        1  0.115886  3.757971      0.119200  3.804495   \n",
              "2        2  0.138314  3.650554      0.139533  3.685053   \n",
              "3        3  0.148114  3.586744      0.130933  3.747504   \n",
              "4        4  0.158314  3.543694      0.132800  3.704167   \n",
              "5        5  0.160143  3.507300      0.155533  3.544366   \n",
              "6        6  0.169086  3.469265      0.177133  3.424696   \n",
              "7        7  0.174486  3.448897      0.188400  3.367702   \n",
              "8        8  0.177571  3.424874      0.193267  3.360775   \n",
              "9        9  0.180057  3.410000      0.180200  3.413091   \n",
              "10      10  0.183686  3.377722      0.191200  3.354497   \n",
              "11      11  0.187171  3.368433      0.185467  3.383070   \n",
              "12      12  0.189086  3.350445      0.175733  3.476220   \n",
              "13      13  0.191371  3.344873      0.183333  3.399788   \n",
              "14      14  0.196800  3.333133      0.200600  3.303144   \n",
              "15      15  0.199171  3.315714      0.206000  3.293279   \n",
              "16      16  0.198657  3.310672      0.208333  3.260340   \n",
              "17      17  0.194743  3.312916      0.217467  3.249710   \n",
              "18      18  0.201143  3.291124      0.216800  3.247469   \n",
              "19      19  0.200743  3.285683      0.204800  3.297014   \n",
              "20      20  0.200914  3.283526      0.200000  3.303957   \n",
              "21      21  0.204657  3.269830      0.220800  3.254908   \n",
              "22      22  0.204971  3.255560      0.209800  3.259382   \n",
              "23      23  0.206914  3.253265      0.212133  3.280664   \n",
              "24      24  0.208543  3.242501      0.224000  3.221874   \n",
              "25      25  0.213143  3.229785      0.205267  3.291371   \n",
              "26      26  0.211914  3.228293      0.222600  3.213882   \n",
              "27      27  0.210514  3.216455      0.224667  3.213930   \n",
              "28      28  0.217171  3.200301      0.217467  3.236569   \n",
              "29      29  0.214343  3.202475      0.223800  3.235207   \n",
              "30      30  0.217086  3.193024      0.228533  3.194313   \n",
              "31      31  0.217514  3.190834      0.219333  3.241137   \n",
              "32      32  0.221571  3.180148      0.219067  3.251099   \n",
              "33      33  0.221486  3.173010      0.219333  3.232585   \n",
              "34      34  0.223314  3.173395      0.220667  3.246037   \n",
              "35      35  0.221629  3.172160      0.216333  3.261519   \n",
              "36      36  0.221229  3.163741      0.223400  3.210759   \n",
              "37      37  0.228143  3.157164      0.228933  3.200451   \n",
              "38      38  0.226257  3.155115      0.231533  3.159786   \n",
              "39      39  0.226800  3.146998      0.223400  3.203192   \n",
              "\n",
              "    top_k_categorical_accuracy  \n",
              "0                     0.053029  \n",
              "1                     0.047743  \n",
              "2                     0.049171  \n",
              "3                     0.049829  \n",
              "4                     0.050057  \n",
              "5                     0.047714  \n",
              "6                     0.047686  \n",
              "7                     0.049629  \n",
              "8                     0.046657  \n",
              "9                     0.046714  \n",
              "10                    0.048486  \n",
              "11                    0.044686  \n",
              "12                    0.048400  \n",
              "13                    0.048971  \n",
              "14                    0.049429  \n",
              "15                    0.046629  \n",
              "16                    0.050314  \n",
              "17                    0.047371  \n",
              "18                    0.047629  \n",
              "19                    0.048829  \n",
              "20                    0.045771  \n",
              "21                    0.050314  \n",
              "22                    0.048429  \n",
              "23                    0.046000  \n",
              "24                    0.049914  \n",
              "25                    0.047400  \n",
              "26                    0.048171  \n",
              "27                    0.047714  \n",
              "28                    0.047200  \n",
              "29                    0.046657  \n",
              "30                    0.046571  \n",
              "31                    0.047457  \n",
              "32                    0.049286  \n",
              "33                    0.047029  \n",
              "34                    0.046457  \n",
              "35                    0.045629  \n",
              "36                    0.047914  \n",
              "37                    0.045429  \n",
              "38                    0.046914  \n",
              "39                    0.046629  "
            ],
            "text/html": [
              "\n",
              "  <div id=\"df-68c6a9d5-ee37-4c24-acaa-98d9ee160d07\" class=\"colab-df-container\">\n",
              "    <div>\n",
              "<style scoped>\n",
              "    .dataframe tbody tr th:only-of-type {\n",
              "        vertical-align: middle;\n",
              "    }\n",
              "\n",
              "    .dataframe tbody tr th {\n",
              "        vertical-align: top;\n",
              "    }\n",
              "\n",
              "    .dataframe thead th {\n",
              "        text-align: right;\n",
              "    }\n",
              "</style>\n",
              "<table border=\"1\" class=\"dataframe\">\n",
              "  <thead>\n",
              "    <tr style=\"text-align: right;\">\n",
              "      <th></th>\n",
              "      <th>epochs</th>\n",
              "      <th>accuracy</th>\n",
              "      <th>loss</th>\n",
              "      <th>val_accuracy</th>\n",
              "      <th>val_loss</th>\n",
              "      <th>top_k_categorical_accuracy</th>\n",
              "    </tr>\n",
              "  </thead>\n",
              "  <tbody>\n",
              "    <tr>\n",
              "      <th>0</th>\n",
              "      <td>0</td>\n",
              "      <td>0.074171</td>\n",
              "      <td>4.146464</td>\n",
              "      <td>0.091333</td>\n",
              "      <td>4.203474</td>\n",
              "      <td>0.053029</td>\n",
              "    </tr>\n",
              "    <tr>\n",
              "      <th>1</th>\n",
              "      <td>1</td>\n",
              "      <td>0.115886</td>\n",
              "      <td>3.757971</td>\n",
              "      <td>0.119200</td>\n",
              "      <td>3.804495</td>\n",
              "      <td>0.047743</td>\n",
              "    </tr>\n",
              "    <tr>\n",
              "      <th>2</th>\n",
              "      <td>2</td>\n",
              "      <td>0.138314</td>\n",
              "      <td>3.650554</td>\n",
              "      <td>0.139533</td>\n",
              "      <td>3.685053</td>\n",
              "      <td>0.049171</td>\n",
              "    </tr>\n",
              "    <tr>\n",
              "      <th>3</th>\n",
              "      <td>3</td>\n",
              "      <td>0.148114</td>\n",
              "      <td>3.586744</td>\n",
              "      <td>0.130933</td>\n",
              "      <td>3.747504</td>\n",
              "      <td>0.049829</td>\n",
              "    </tr>\n",
              "    <tr>\n",
              "      <th>4</th>\n",
              "      <td>4</td>\n",
              "      <td>0.158314</td>\n",
              "      <td>3.543694</td>\n",
              "      <td>0.132800</td>\n",
              "      <td>3.704167</td>\n",
              "      <td>0.050057</td>\n",
              "    </tr>\n",
              "    <tr>\n",
              "      <th>5</th>\n",
              "      <td>5</td>\n",
              "      <td>0.160143</td>\n",
              "      <td>3.507300</td>\n",
              "      <td>0.155533</td>\n",
              "      <td>3.544366</td>\n",
              "      <td>0.047714</td>\n",
              "    </tr>\n",
              "    <tr>\n",
              "      <th>6</th>\n",
              "      <td>6</td>\n",
              "      <td>0.169086</td>\n",
              "      <td>3.469265</td>\n",
              "      <td>0.177133</td>\n",
              "      <td>3.424696</td>\n",
              "      <td>0.047686</td>\n",
              "    </tr>\n",
              "    <tr>\n",
              "      <th>7</th>\n",
              "      <td>7</td>\n",
              "      <td>0.174486</td>\n",
              "      <td>3.448897</td>\n",
              "      <td>0.188400</td>\n",
              "      <td>3.367702</td>\n",
              "      <td>0.049629</td>\n",
              "    </tr>\n",
              "    <tr>\n",
              "      <th>8</th>\n",
              "      <td>8</td>\n",
              "      <td>0.177571</td>\n",
              "      <td>3.424874</td>\n",
              "      <td>0.193267</td>\n",
              "      <td>3.360775</td>\n",
              "      <td>0.046657</td>\n",
              "    </tr>\n",
              "    <tr>\n",
              "      <th>9</th>\n",
              "      <td>9</td>\n",
              "      <td>0.180057</td>\n",
              "      <td>3.410000</td>\n",
              "      <td>0.180200</td>\n",
              "      <td>3.413091</td>\n",
              "      <td>0.046714</td>\n",
              "    </tr>\n",
              "    <tr>\n",
              "      <th>10</th>\n",
              "      <td>10</td>\n",
              "      <td>0.183686</td>\n",
              "      <td>3.377722</td>\n",
              "      <td>0.191200</td>\n",
              "      <td>3.354497</td>\n",
              "      <td>0.048486</td>\n",
              "    </tr>\n",
              "    <tr>\n",
              "      <th>11</th>\n",
              "      <td>11</td>\n",
              "      <td>0.187171</td>\n",
              "      <td>3.368433</td>\n",
              "      <td>0.185467</td>\n",
              "      <td>3.383070</td>\n",
              "      <td>0.044686</td>\n",
              "    </tr>\n",
              "    <tr>\n",
              "      <th>12</th>\n",
              "      <td>12</td>\n",
              "      <td>0.189086</td>\n",
              "      <td>3.350445</td>\n",
              "      <td>0.175733</td>\n",
              "      <td>3.476220</td>\n",
              "      <td>0.048400</td>\n",
              "    </tr>\n",
              "    <tr>\n",
              "      <th>13</th>\n",
              "      <td>13</td>\n",
              "      <td>0.191371</td>\n",
              "      <td>3.344873</td>\n",
              "      <td>0.183333</td>\n",
              "      <td>3.399788</td>\n",
              "      <td>0.048971</td>\n",
              "    </tr>\n",
              "    <tr>\n",
              "      <th>14</th>\n",
              "      <td>14</td>\n",
              "      <td>0.196800</td>\n",
              "      <td>3.333133</td>\n",
              "      <td>0.200600</td>\n",
              "      <td>3.303144</td>\n",
              "      <td>0.049429</td>\n",
              "    </tr>\n",
              "    <tr>\n",
              "      <th>15</th>\n",
              "      <td>15</td>\n",
              "      <td>0.199171</td>\n",
              "      <td>3.315714</td>\n",
              "      <td>0.206000</td>\n",
              "      <td>3.293279</td>\n",
              "      <td>0.046629</td>\n",
              "    </tr>\n",
              "    <tr>\n",
              "      <th>16</th>\n",
              "      <td>16</td>\n",
              "      <td>0.198657</td>\n",
              "      <td>3.310672</td>\n",
              "      <td>0.208333</td>\n",
              "      <td>3.260340</td>\n",
              "      <td>0.050314</td>\n",
              "    </tr>\n",
              "    <tr>\n",
              "      <th>17</th>\n",
              "      <td>17</td>\n",
              "      <td>0.194743</td>\n",
              "      <td>3.312916</td>\n",
              "      <td>0.217467</td>\n",
              "      <td>3.249710</td>\n",
              "      <td>0.047371</td>\n",
              "    </tr>\n",
              "    <tr>\n",
              "      <th>18</th>\n",
              "      <td>18</td>\n",
              "      <td>0.201143</td>\n",
              "      <td>3.291124</td>\n",
              "      <td>0.216800</td>\n",
              "      <td>3.247469</td>\n",
              "      <td>0.047629</td>\n",
              "    </tr>\n",
              "    <tr>\n",
              "      <th>19</th>\n",
              "      <td>19</td>\n",
              "      <td>0.200743</td>\n",
              "      <td>3.285683</td>\n",
              "      <td>0.204800</td>\n",
              "      <td>3.297014</td>\n",
              "      <td>0.048829</td>\n",
              "    </tr>\n",
              "    <tr>\n",
              "      <th>20</th>\n",
              "      <td>20</td>\n",
              "      <td>0.200914</td>\n",
              "      <td>3.283526</td>\n",
              "      <td>0.200000</td>\n",
              "      <td>3.303957</td>\n",
              "      <td>0.045771</td>\n",
              "    </tr>\n",
              "    <tr>\n",
              "      <th>21</th>\n",
              "      <td>21</td>\n",
              "      <td>0.204657</td>\n",
              "      <td>3.269830</td>\n",
              "      <td>0.220800</td>\n",
              "      <td>3.254908</td>\n",
              "      <td>0.050314</td>\n",
              "    </tr>\n",
              "    <tr>\n",
              "      <th>22</th>\n",
              "      <td>22</td>\n",
              "      <td>0.204971</td>\n",
              "      <td>3.255560</td>\n",
              "      <td>0.209800</td>\n",
              "      <td>3.259382</td>\n",
              "      <td>0.048429</td>\n",
              "    </tr>\n",
              "    <tr>\n",
              "      <th>23</th>\n",
              "      <td>23</td>\n",
              "      <td>0.206914</td>\n",
              "      <td>3.253265</td>\n",
              "      <td>0.212133</td>\n",
              "      <td>3.280664</td>\n",
              "      <td>0.046000</td>\n",
              "    </tr>\n",
              "    <tr>\n",
              "      <th>24</th>\n",
              "      <td>24</td>\n",
              "      <td>0.208543</td>\n",
              "      <td>3.242501</td>\n",
              "      <td>0.224000</td>\n",
              "      <td>3.221874</td>\n",
              "      <td>0.049914</td>\n",
              "    </tr>\n",
              "    <tr>\n",
              "      <th>25</th>\n",
              "      <td>25</td>\n",
              "      <td>0.213143</td>\n",
              "      <td>3.229785</td>\n",
              "      <td>0.205267</td>\n",
              "      <td>3.291371</td>\n",
              "      <td>0.047400</td>\n",
              "    </tr>\n",
              "    <tr>\n",
              "      <th>26</th>\n",
              "      <td>26</td>\n",
              "      <td>0.211914</td>\n",
              "      <td>3.228293</td>\n",
              "      <td>0.222600</td>\n",
              "      <td>3.213882</td>\n",
              "      <td>0.048171</td>\n",
              "    </tr>\n",
              "    <tr>\n",
              "      <th>27</th>\n",
              "      <td>27</td>\n",
              "      <td>0.210514</td>\n",
              "      <td>3.216455</td>\n",
              "      <td>0.224667</td>\n",
              "      <td>3.213930</td>\n",
              "      <td>0.047714</td>\n",
              "    </tr>\n",
              "    <tr>\n",
              "      <th>28</th>\n",
              "      <td>28</td>\n",
              "      <td>0.217171</td>\n",
              "      <td>3.200301</td>\n",
              "      <td>0.217467</td>\n",
              "      <td>3.236569</td>\n",
              "      <td>0.047200</td>\n",
              "    </tr>\n",
              "    <tr>\n",
              "      <th>29</th>\n",
              "      <td>29</td>\n",
              "      <td>0.214343</td>\n",
              "      <td>3.202475</td>\n",
              "      <td>0.223800</td>\n",
              "      <td>3.235207</td>\n",
              "      <td>0.046657</td>\n",
              "    </tr>\n",
              "    <tr>\n",
              "      <th>30</th>\n",
              "      <td>30</td>\n",
              "      <td>0.217086</td>\n",
              "      <td>3.193024</td>\n",
              "      <td>0.228533</td>\n",
              "      <td>3.194313</td>\n",
              "      <td>0.046571</td>\n",
              "    </tr>\n",
              "    <tr>\n",
              "      <th>31</th>\n",
              "      <td>31</td>\n",
              "      <td>0.217514</td>\n",
              "      <td>3.190834</td>\n",
              "      <td>0.219333</td>\n",
              "      <td>3.241137</td>\n",
              "      <td>0.047457</td>\n",
              "    </tr>\n",
              "    <tr>\n",
              "      <th>32</th>\n",
              "      <td>32</td>\n",
              "      <td>0.221571</td>\n",
              "      <td>3.180148</td>\n",
              "      <td>0.219067</td>\n",
              "      <td>3.251099</td>\n",
              "      <td>0.049286</td>\n",
              "    </tr>\n",
              "    <tr>\n",
              "      <th>33</th>\n",
              "      <td>33</td>\n",
              "      <td>0.221486</td>\n",
              "      <td>3.173010</td>\n",
              "      <td>0.219333</td>\n",
              "      <td>3.232585</td>\n",
              "      <td>0.047029</td>\n",
              "    </tr>\n",
              "    <tr>\n",
              "      <th>34</th>\n",
              "      <td>34</td>\n",
              "      <td>0.223314</td>\n",
              "      <td>3.173395</td>\n",
              "      <td>0.220667</td>\n",
              "      <td>3.246037</td>\n",
              "      <td>0.046457</td>\n",
              "    </tr>\n",
              "    <tr>\n",
              "      <th>35</th>\n",
              "      <td>35</td>\n",
              "      <td>0.221629</td>\n",
              "      <td>3.172160</td>\n",
              "      <td>0.216333</td>\n",
              "      <td>3.261519</td>\n",
              "      <td>0.045629</td>\n",
              "    </tr>\n",
              "    <tr>\n",
              "      <th>36</th>\n",
              "      <td>36</td>\n",
              "      <td>0.221229</td>\n",
              "      <td>3.163741</td>\n",
              "      <td>0.223400</td>\n",
              "      <td>3.210759</td>\n",
              "      <td>0.047914</td>\n",
              "    </tr>\n",
              "    <tr>\n",
              "      <th>37</th>\n",
              "      <td>37</td>\n",
              "      <td>0.228143</td>\n",
              "      <td>3.157164</td>\n",
              "      <td>0.228933</td>\n",
              "      <td>3.200451</td>\n",
              "      <td>0.045429</td>\n",
              "    </tr>\n",
              "    <tr>\n",
              "      <th>38</th>\n",
              "      <td>38</td>\n",
              "      <td>0.226257</td>\n",
              "      <td>3.155115</td>\n",
              "      <td>0.231533</td>\n",
              "      <td>3.159786</td>\n",
              "      <td>0.046914</td>\n",
              "    </tr>\n",
              "    <tr>\n",
              "      <th>39</th>\n",
              "      <td>39</td>\n",
              "      <td>0.226800</td>\n",
              "      <td>3.146998</td>\n",
              "      <td>0.223400</td>\n",
              "      <td>3.203192</td>\n",
              "      <td>0.046629</td>\n",
              "    </tr>\n",
              "  </tbody>\n",
              "</table>\n",
              "</div>\n",
              "    <div class=\"colab-df-buttons\">\n",
              "\n",
              "  <div class=\"colab-df-container\">\n",
              "    <button class=\"colab-df-convert\" onclick=\"convertToInteractive('df-68c6a9d5-ee37-4c24-acaa-98d9ee160d07')\"\n",
              "            title=\"Convert this dataframe to an interactive table.\"\n",
              "            style=\"display:none;\">\n",
              "\n",
              "  <svg xmlns=\"http://www.w3.org/2000/svg\" height=\"24px\" viewBox=\"0 -960 960 960\">\n",
              "    <path d=\"M120-120v-720h720v720H120Zm60-500h600v-160H180v160Zm220 220h160v-160H400v160Zm0 220h160v-160H400v160ZM180-400h160v-160H180v160Zm440 0h160v-160H620v160ZM180-180h160v-160H180v160Zm440 0h160v-160H620v160Z\"/>\n",
              "  </svg>\n",
              "    </button>\n",
              "\n",
              "  <style>\n",
              "    .colab-df-container {\n",
              "      display:flex;\n",
              "      gap: 12px;\n",
              "    }\n",
              "\n",
              "    .colab-df-convert {\n",
              "      background-color: #E8F0FE;\n",
              "      border: none;\n",
              "      border-radius: 50%;\n",
              "      cursor: pointer;\n",
              "      display: none;\n",
              "      fill: #1967D2;\n",
              "      height: 32px;\n",
              "      padding: 0 0 0 0;\n",
              "      width: 32px;\n",
              "    }\n",
              "\n",
              "    .colab-df-convert:hover {\n",
              "      background-color: #E2EBFA;\n",
              "      box-shadow: 0px 1px 2px rgba(60, 64, 67, 0.3), 0px 1px 3px 1px rgba(60, 64, 67, 0.15);\n",
              "      fill: #174EA6;\n",
              "    }\n",
              "\n",
              "    .colab-df-buttons div {\n",
              "      margin-bottom: 4px;\n",
              "    }\n",
              "\n",
              "    [theme=dark] .colab-df-convert {\n",
              "      background-color: #3B4455;\n",
              "      fill: #D2E3FC;\n",
              "    }\n",
              "\n",
              "    [theme=dark] .colab-df-convert:hover {\n",
              "      background-color: #434B5C;\n",
              "      box-shadow: 0px 1px 3px 1px rgba(0, 0, 0, 0.15);\n",
              "      filter: drop-shadow(0px 1px 2px rgba(0, 0, 0, 0.3));\n",
              "      fill: #FFFFFF;\n",
              "    }\n",
              "  </style>\n",
              "\n",
              "    <script>\n",
              "      const buttonEl =\n",
              "        document.querySelector('#df-68c6a9d5-ee37-4c24-acaa-98d9ee160d07 button.colab-df-convert');\n",
              "      buttonEl.style.display =\n",
              "        google.colab.kernel.accessAllowed ? 'block' : 'none';\n",
              "\n",
              "      async function convertToInteractive(key) {\n",
              "        const element = document.querySelector('#df-68c6a9d5-ee37-4c24-acaa-98d9ee160d07');\n",
              "        const dataTable =\n",
              "          await google.colab.kernel.invokeFunction('convertToInteractive',\n",
              "                                                    [key], {});\n",
              "        if (!dataTable) return;\n",
              "\n",
              "        const docLinkHtml = 'Like what you see? Visit the ' +\n",
              "          '<a target=\"_blank\" href=https://colab.research.google.com/notebooks/data_table.ipynb>data table notebook</a>'\n",
              "          + ' to learn more about interactive tables.';\n",
              "        element.innerHTML = '';\n",
              "        dataTable['output_type'] = 'display_data';\n",
              "        await google.colab.output.renderOutput(dataTable, element);\n",
              "        const docLink = document.createElement('div');\n",
              "        docLink.innerHTML = docLinkHtml;\n",
              "        element.appendChild(docLink);\n",
              "      }\n",
              "    </script>\n",
              "  </div>\n",
              "\n",
              "\n",
              "<div id=\"df-60ac92b6-a901-4254-8f42-006185c7a3c6\">\n",
              "  <button class=\"colab-df-quickchart\" onclick=\"quickchart('df-60ac92b6-a901-4254-8f42-006185c7a3c6')\"\n",
              "            title=\"Suggest charts\"\n",
              "            style=\"display:none;\">\n",
              "\n",
              "<svg xmlns=\"http://www.w3.org/2000/svg\" height=\"24px\"viewBox=\"0 0 24 24\"\n",
              "     width=\"24px\">\n",
              "    <g>\n",
              "        <path d=\"M19 3H5c-1.1 0-2 .9-2 2v14c0 1.1.9 2 2 2h14c1.1 0 2-.9 2-2V5c0-1.1-.9-2-2-2zM9 17H7v-7h2v7zm4 0h-2V7h2v10zm4 0h-2v-4h2v4z\"/>\n",
              "    </g>\n",
              "</svg>\n",
              "  </button>\n",
              "\n",
              "<style>\n",
              "  .colab-df-quickchart {\n",
              "      --bg-color: #E8F0FE;\n",
              "      --fill-color: #1967D2;\n",
              "      --hover-bg-color: #E2EBFA;\n",
              "      --hover-fill-color: #174EA6;\n",
              "      --disabled-fill-color: #AAA;\n",
              "      --disabled-bg-color: #DDD;\n",
              "  }\n",
              "\n",
              "  [theme=dark] .colab-df-quickchart {\n",
              "      --bg-color: #3B4455;\n",
              "      --fill-color: #D2E3FC;\n",
              "      --hover-bg-color: #434B5C;\n",
              "      --hover-fill-color: #FFFFFF;\n",
              "      --disabled-bg-color: #3B4455;\n",
              "      --disabled-fill-color: #666;\n",
              "  }\n",
              "\n",
              "  .colab-df-quickchart {\n",
              "    background-color: var(--bg-color);\n",
              "    border: none;\n",
              "    border-radius: 50%;\n",
              "    cursor: pointer;\n",
              "    display: none;\n",
              "    fill: var(--fill-color);\n",
              "    height: 32px;\n",
              "    padding: 0;\n",
              "    width: 32px;\n",
              "  }\n",
              "\n",
              "  .colab-df-quickchart:hover {\n",
              "    background-color: var(--hover-bg-color);\n",
              "    box-shadow: 0 1px 2px rgba(60, 64, 67, 0.3), 0 1px 3px 1px rgba(60, 64, 67, 0.15);\n",
              "    fill: var(--button-hover-fill-color);\n",
              "  }\n",
              "\n",
              "  .colab-df-quickchart-complete:disabled,\n",
              "  .colab-df-quickchart-complete:disabled:hover {\n",
              "    background-color: var(--disabled-bg-color);\n",
              "    fill: var(--disabled-fill-color);\n",
              "    box-shadow: none;\n",
              "  }\n",
              "\n",
              "  .colab-df-spinner {\n",
              "    border: 2px solid var(--fill-color);\n",
              "    border-color: transparent;\n",
              "    border-bottom-color: var(--fill-color);\n",
              "    animation:\n",
              "      spin 1s steps(1) infinite;\n",
              "  }\n",
              "\n",
              "  @keyframes spin {\n",
              "    0% {\n",
              "      border-color: transparent;\n",
              "      border-bottom-color: var(--fill-color);\n",
              "      border-left-color: var(--fill-color);\n",
              "    }\n",
              "    20% {\n",
              "      border-color: transparent;\n",
              "      border-left-color: var(--fill-color);\n",
              "      border-top-color: var(--fill-color);\n",
              "    }\n",
              "    30% {\n",
              "      border-color: transparent;\n",
              "      border-left-color: var(--fill-color);\n",
              "      border-top-color: var(--fill-color);\n",
              "      border-right-color: var(--fill-color);\n",
              "    }\n",
              "    40% {\n",
              "      border-color: transparent;\n",
              "      border-right-color: var(--fill-color);\n",
              "      border-top-color: var(--fill-color);\n",
              "    }\n",
              "    60% {\n",
              "      border-color: transparent;\n",
              "      border-right-color: var(--fill-color);\n",
              "    }\n",
              "    80% {\n",
              "      border-color: transparent;\n",
              "      border-right-color: var(--fill-color);\n",
              "      border-bottom-color: var(--fill-color);\n",
              "    }\n",
              "    90% {\n",
              "      border-color: transparent;\n",
              "      border-bottom-color: var(--fill-color);\n",
              "    }\n",
              "  }\n",
              "</style>\n",
              "\n",
              "  <script>\n",
              "    async function quickchart(key) {\n",
              "      const quickchartButtonEl =\n",
              "        document.querySelector('#' + key + ' button');\n",
              "      quickchartButtonEl.disabled = true;  // To prevent multiple clicks.\n",
              "      quickchartButtonEl.classList.add('colab-df-spinner');\n",
              "      try {\n",
              "        const charts = await google.colab.kernel.invokeFunction(\n",
              "            'suggestCharts', [key], {});\n",
              "      } catch (error) {\n",
              "        console.error('Error during call to suggestCharts:', error);\n",
              "      }\n",
              "      quickchartButtonEl.classList.remove('colab-df-spinner');\n",
              "      quickchartButtonEl.classList.add('colab-df-quickchart-complete');\n",
              "    }\n",
              "    (() => {\n",
              "      let quickchartButtonEl =\n",
              "        document.querySelector('#df-60ac92b6-a901-4254-8f42-006185c7a3c6 button');\n",
              "      quickchartButtonEl.style.display =\n",
              "        google.colab.kernel.accessAllowed ? 'block' : 'none';\n",
              "    })();\n",
              "  </script>\n",
              "</div>\n",
              "\n",
              "  <div id=\"id_0a51fe0c-03f1-4700-9ddf-1a524db8cc1c\">\n",
              "    <style>\n",
              "      .colab-df-generate {\n",
              "        background-color: #E8F0FE;\n",
              "        border: none;\n",
              "        border-radius: 50%;\n",
              "        cursor: pointer;\n",
              "        display: none;\n",
              "        fill: #1967D2;\n",
              "        height: 32px;\n",
              "        padding: 0 0 0 0;\n",
              "        width: 32px;\n",
              "      }\n",
              "\n",
              "      .colab-df-generate:hover {\n",
              "        background-color: #E2EBFA;\n",
              "        box-shadow: 0px 1px 2px rgba(60, 64, 67, 0.3), 0px 1px 3px 1px rgba(60, 64, 67, 0.15);\n",
              "        fill: #174EA6;\n",
              "      }\n",
              "\n",
              "      [theme=dark] .colab-df-generate {\n",
              "        background-color: #3B4455;\n",
              "        fill: #D2E3FC;\n",
              "      }\n",
              "\n",
              "      [theme=dark] .colab-df-generate:hover {\n",
              "        background-color: #434B5C;\n",
              "        box-shadow: 0px 1px 3px 1px rgba(0, 0, 0, 0.15);\n",
              "        filter: drop-shadow(0px 1px 2px rgba(0, 0, 0, 0.3));\n",
              "        fill: #FFFFFF;\n",
              "      }\n",
              "    </style>\n",
              "    <button class=\"colab-df-generate\" onclick=\"generateWithVariable('ann_metric_df')\"\n",
              "            title=\"Generate code using this dataframe.\"\n",
              "            style=\"display:none;\">\n",
              "\n",
              "  <svg xmlns=\"http://www.w3.org/2000/svg\" height=\"24px\"viewBox=\"0 0 24 24\"\n",
              "       width=\"24px\">\n",
              "    <path d=\"M7,19H8.4L18.45,9,17,7.55,7,17.6ZM5,21V16.75L18.45,3.32a2,2,0,0,1,2.83,0l1.4,1.43a1.91,1.91,0,0,1,.58,1.4,1.91,1.91,0,0,1-.58,1.4L9.25,21ZM18.45,9,17,7.55Zm-12,3A5.31,5.31,0,0,0,4.9,8.1,5.31,5.31,0,0,0,1,6.5,5.31,5.31,0,0,0,4.9,4.9,5.31,5.31,0,0,0,6.5,1,5.31,5.31,0,0,0,8.1,4.9,5.31,5.31,0,0,0,12,6.5,5.46,5.46,0,0,0,6.5,12Z\"/>\n",
              "  </svg>\n",
              "    </button>\n",
              "    <script>\n",
              "      (() => {\n",
              "      const buttonEl =\n",
              "        document.querySelector('#id_0a51fe0c-03f1-4700-9ddf-1a524db8cc1c button.colab-df-generate');\n",
              "      buttonEl.style.display =\n",
              "        google.colab.kernel.accessAllowed ? 'block' : 'none';\n",
              "\n",
              "      buttonEl.onclick = () => {\n",
              "        google.colab.notebook.generateWithVariable('ann_metric_df');\n",
              "      }\n",
              "      })();\n",
              "    </script>\n",
              "  </div>\n",
              "\n",
              "    </div>\n",
              "  </div>\n"
            ],
            "application/vnd.google.colaboratory.intrinsic+json": {
              "type": "dataframe",
              "variable_name": "ann_metric_df",
              "summary": "{\n  \"name\": \"ann_metric_df\",\n  \"rows\": 40,\n  \"fields\": [\n    {\n      \"column\": \"epochs\",\n      \"properties\": {\n        \"dtype\": \"number\",\n        \"std\": 11,\n        \"min\": 0,\n        \"max\": 39,\n        \"num_unique_values\": 40,\n        \"samples\": [\n          19,\n          16,\n          15\n        ],\n        \"semantic_type\": \"\",\n        \"description\": \"\"\n      }\n    },\n    {\n      \"column\": \"accuracy\",\n      \"properties\": {\n        \"dtype\": \"number\",\n        \"std\": 0.03230797778960027,\n        \"min\": 0.07417143136262894,\n        \"max\": 0.2281428575515747,\n        \"num_unique_values\": 40,\n        \"samples\": [\n          0.20074285566806793,\n          0.19865714013576508,\n          0.19917142391204834\n        ],\n        \"semantic_type\": \"\",\n        \"description\": \"\"\n      }\n    },\n    {\n      \"column\": \"loss\",\n      \"properties\": {\n        \"dtype\": \"number\",\n        \"std\": 0.196137692805495,\n        \"min\": 3.146998405456543,\n        \"max\": 4.1464643478393555,\n        \"num_unique_values\": 40,\n        \"samples\": [\n          3.2856833934783936,\n          3.3106720447540283,\n          3.315714120864868\n        ],\n        \"semantic_type\": \"\",\n        \"description\": \"\"\n      }\n    },\n    {\n      \"column\": \"val_accuracy\",\n      \"properties\": {\n        \"dtype\": \"number\",\n        \"std\": 0.033866916475314424,\n        \"min\": 0.09133332967758179,\n        \"max\": 0.23153333365917206,\n        \"num_unique_values\": 37,\n        \"samples\": [\n          0.21746666729450226,\n          0.18333333730697632,\n          0.13279999792575836\n        ],\n        \"semantic_type\": \"\",\n        \"description\": \"\"\n      }\n    },\n    {\n      \"column\": \"val_loss\",\n      \"properties\": {\n        \"dtype\": \"number\",\n        \"std\": 0.20990604819837216,\n        \"min\": 3.159785509109497,\n        \"max\": 4.2034735679626465,\n        \"num_unique_values\": 40,\n        \"samples\": [\n          3.2970144748687744,\n          3.2603402137756348,\n          3.2932791709899902\n        ],\n        \"semantic_type\": \"\",\n        \"description\": \"\"\n      }\n    },\n    {\n      \"column\": \"top_k_categorical_accuracy\",\n      \"properties\": {\n        \"dtype\": \"number\",\n        \"std\": 0.0016539149277418192,\n        \"min\": 0.044685713946819305,\n        \"max\": 0.05302857235074043,\n        \"num_unique_values\": 36,\n        \"samples\": [\n          0.04691428691148758,\n          0.04897142946720123,\n          0.047200001776218414\n        ],\n        \"semantic_type\": \"\",\n        \"description\": \"\"\n      }\n    }\n  ]\n}"
            }
          },
          "metadata": {},
          "execution_count": 17
        }
      ]
    },
    {
      "cell_type": "code",
      "source": [
        "# plot accuracy and loss plot side by side using subplots\n",
        "fig, axs = plt.subplots(1, 2, figsize=(15, 5))\n",
        "axs[0].plot(ann_metric_df[\"epochs\"], ann_metric_df[\"accuracy\"], label=\"accuracy\")\n",
        "axs[0].plot(ann_metric_df[\"epochs\"], ann_metric_df[\"val_accuracy\"], label=\"val_accuracy\")\n",
        "axs[0].set_title(\"Accuracy\")\n",
        "axs[0].legend()\n",
        "axs[1].plot(ann_metric_df[\"epochs\"], ann_metric_df[\"loss\"], label=\"loss\")\n",
        "axs[1].plot(ann_metric_df[\"epochs\"], ann_metric_df[\"val_loss\"], label=\"val_loss\")\n",
        "axs[1].set_title(\"Loss\")\n",
        "axs[1].legend()\n",
        "plt.tight_layout()\n",
        "plt.show()"
      ],
      "metadata": {
        "colab": {
          "base_uri": "https://localhost:8080/",
          "height": 507
        },
        "id": "7k3HGr1kIUsE",
        "outputId": "040fdb97-e223-4932-f8c9-82327e1145f2"
      },
      "execution_count": 18,
      "outputs": [
        {
          "output_type": "display_data",
          "data": {
            "text/plain": [
              "<Figure size 1500x500 with 2 Axes>"
            ],
            "image/png": "[encoded data removed]"
          },
          "metadata": {}
        }
      ]
    },
    {
      "cell_type": "code",
      "source": [],
      "metadata": {
        "id": "lpUS8GqYJrSE"
      },
      "execution_count": null,
      "outputs": []
    }
  ]
}