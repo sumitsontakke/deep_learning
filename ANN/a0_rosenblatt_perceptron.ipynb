{
 "cells": [
  {
   "cell_type": "code",
   "execution_count": 2,
   "id": "402b434f",
   "metadata": {},
   "outputs": [
    {
     "name": "stdout",
     "output_type": "stream",
     "text": [
      "Final weights: [ 0.90394898  0.98889992 -0.05776145]\n",
      "\n",
      "Evaluation on OR gate:\n",
      "Input: [0 0] -> Predicted: 0, Expected: 0\n",
      "Input: [0 1] -> Predicted: 1, Expected: 1\n",
      "Input: [1 0] -> Predicted: 1, Expected: 1\n",
      "Input: [1 1] -> Predicted: 1, Expected: 1\n"
     ]
    }
   ],
   "source": [
    "import numpy as np\n",
    "from random import choice  # Use Python's random.choice for selecting training samples\n",
    "\n",
    "# Step activation function: Returns 0 if input is negative, otherwise 1\n",
    "step_function = lambda x: 0 if x < 0 else 1\n",
    "\n",
    "# OR gate training data with bias input (3rd input = 1 for bias term)\n",
    "# Each tuple contains an input array and the expected output\n",
    "training_data = [\n",
    "    (np.array([0, 0, 1]), 0),  # Input: [0, 0], Expected Output: 0\n",
    "    (np.array([0, 1, 1]), 1),  # Input: [0, 1], Expected Output: 1\n",
    "    (np.array([1, 0, 1]), 1),  # Input: [1, 0], Expected Output: 1\n",
    "    (np.array([1, 1, 1]), 1),  # Input: [1, 1], Expected Output: 1\n",
    "]\n",
    "\n",
    "# Initialize weights randomly (2 inputs + 1 bias = 3 weights)\n",
    "w = np.random.rand(3)\n",
    "\n",
    "# Learning rate\n",
    "eta = 0.1\n",
    "\n",
    "# Number of training iterations\n",
    "n = 10000\n",
    "\n",
    "# Track errors for analysis (optional)\n",
    "errors = []\n",
    "\n",
    "# Training loop\n",
    "for i in range(n):\n",
    "    # Randomly select a training sample using random.choice\n",
    "    x, expected = choice(training_data)\n",
    "    \n",
    "    # Compute the weighted sum (dot product of weights and inputs)\n",
    "    result = np.dot(w, x)\n",
    "    \n",
    "    # Apply the step activation function to get the prediction\n",
    "    prediction = step_function(result)\n",
    "    \n",
    "    # Calculate the error (difference between expected and predicted output)\n",
    "    error = expected - prediction\n",
    "    \n",
    "    # Append the error to the errors list (for optional analysis)\n",
    "    errors.append(error)\n",
    "    \n",
    "    # Update weights using the perceptron learning rule\n",
    "    # w = w + (learning_rate * error * input)\n",
    "    w += eta * error * x\n",
    "\n",
    "# Print the final weights after training\n",
    "print(\"Final weights:\", w)\n",
    "\n",
    "# Evaluate the perceptron on the OR gate training data\n",
    "print(\"\\nEvaluation on OR gate:\")\n",
    "for x, expected in training_data:\n",
    "    # Compute the weighted sum for the input\n",
    "    result = np.dot(x, w)\n",
    "    \n",
    "    # Apply the step activation function to get the prediction\n",
    "    prediction = step_function(result)\n",
    "    \n",
    "    # Print the input, predicted output, and expected output\n",
    "    print(f\"Input: {x[:2]} -> Predicted: {prediction}, Expected: {expected}\")"
   ]
  },
  {
   "cell_type": "code",
   "execution_count": null,
   "id": "4e44d501",
   "metadata": {},
   "outputs": [],
   "source": []
  }
 ],
 "metadata": {
  "kernelspec": {
   "display_name": "mlenv",
   "language": "python",
   "name": "python3"
  },
  "language_info": {
   "codemirror_mode": {
    "name": "ipython",
    "version": 3
   },
   "file_extension": ".py",
   "mimetype": "text/x-python",
   "name": "python",
   "nbconvert_exporter": "python",
   "pygments_lexer": "ipython3",
   "version": "3.9.6"
  }
 },
 "nbformat": 4,
 "nbformat_minor": 5
}
