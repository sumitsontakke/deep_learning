{
 "cells": [
  {
   "cell_type": "code",
   "execution_count": 3,
   "id": "ef466add",
   "metadata": {},
   "outputs": [],
   "source": [
    "import pandas as pd\n",
    "import numpy as np\n",
    "import tensorflow as tf\n",
    "import matplotlib.pyplot as plt\n",
    "\n",
    "from tensorflow.keras import Input\n",
    "from tensorflow.keras.models import Sequential, load_model\n",
    "from tensorflow.keras.layers import Conv2D, MaxPooling2D, Dropout, Flatten, Dense, BatchNormalization, GlobalAveragePooling2D\n",
    "from tensorflow.keras.callbacks import EarlyStopping, ModelCheckpoint, ReduceLROnPlateau\n",
    "from tensorflow.keras.datasets import cifar100\n",
    "from tensorflow.keras.utils import to_categorical\n",
    "from tensorflow.keras.metrics import TopKCategoricalAccuracy\n",
    "\n",
    "from sklearn.model_selection import train_test_split\n",
    "\n",
    "retrain_model = False"
   ]
  },
  {
   "cell_type": "code",
   "execution_count": 4,
   "id": "ce3a8a99",
   "metadata": {},
   "outputs": [
    {
     "name": "stdout",
     "output_type": "stream",
     "text": [
      "(50000, 32, 32, 3) (50000, 1)\n",
      "(10000, 32, 32, 3) (10000, 1)\n"
     ]
    }
   ],
   "source": [
    "from tensorflow.keras.datasets import cifar100\n",
    "\n",
    "(X_train, y_train), (X_test, y_test) = cifar100.load_data()\n",
    "\n",
    "# Normalize X data\n",
    "X_train = X_train.astype('float32') / 255.0\n",
    "X_test = X_test.astype('float32') / 255.0\n",
    "\n",
    "print(X_train.shape, y_train.shape)\n",
    "print(X_test.shape, y_test.shape)"
   ]
  },
  {
   "cell_type": "code",
   "execution_count": 5,
   "id": "8c040705",
   "metadata": {},
   "outputs": [],
   "source": [
    "# Convert labels to one-hot encoding\n",
    "y_train = tf.keras.utils.to_categorical(y_train, 100)\n",
    "y_test = tf.keras.utils.to_categorical(y_test, 100)"
   ]
  },
  {
   "cell_type": "code",
   "execution_count": 6,
   "id": "4937a463",
   "metadata": {},
   "outputs": [
    {
     "name": "stderr",
     "output_type": "stream",
     "text": [
      "2025-04-23 10:33:34.452818: I tensorflow/core/common_runtime/pluggable_device/pluggable_device_factory.cc:306] Could not identify NUMA node of platform GPU ID 0, defaulting to 0. Your kernel may not have been built with NUMA support.\n",
      "2025-04-23 10:33:34.452870: I tensorflow/core/common_runtime/pluggable_device/pluggable_device_factory.cc:272] Created TensorFlow device (/job:localhost/replica:0/task:0/device:GPU:0 with 0 MB memory) -> physical PluggableDevice (device: 0, name: METAL, pci bus id: <undefined>)\n"
     ]
    }
   ],
   "source": [
    "# Define the enhanced CNN model\n",
    "model = Sequential([\n",
    "    Input(shape=(32, 32, 3)),\n",
    "\n",
    "    # Block 1\n",
    "    Conv2D(32, (3, 3), activation='relu', padding='same'),\n",
    "    BatchNormalization(),\n",
    "    MaxPooling2D(pool_size=(2, 2)),\n",
    "    Dropout(0.3),\n",
    "\n",
    "    # Block 2\n",
    "    Conv2D(64, (3, 3), activation='relu', padding='same'),\n",
    "    BatchNormalization(),\n",
    "    MaxPooling2D(pool_size=(2, 2)),\n",
    "    Dropout(0.3),\n",
    "\n",
    "    # Block 3\n",
    "    Conv2D(128, (3, 3), activation='relu', padding='same'),\n",
    "    BatchNormalization(),\n",
    "    MaxPooling2D(pool_size=(2, 2)),\n",
    "    Dropout(0.4),\n",
    "\n",
    "    # Global Average Pooling instead of Dense(256)\n",
    "    GlobalAveragePooling2D(),\n",
    "\n",
    "    # Final output layer\n",
    "    Dense(100, activation='softmax')\n",
    "])\n"
   ]
  },
  {
   "cell_type": "code",
   "execution_count": 7,
   "id": "a298e957",
   "metadata": {},
   "outputs": [],
   "source": [
    "\n",
    "\n",
    "# Callbacks\n",
    "callbacks = [\n",
    "    EarlyStopping(\n",
    "        monitor='val_loss', patience=25, restore_best_weights=True, verbose=1\n",
    "    ),\n",
    "    ModelCheckpoint(\n",
    "        filepath='best_model.h5', monitor='val_loss', save_best_only=True, verbose=1\n",
    "    ),\n",
    "    ReduceLROnPlateau(\n",
    "        monitor='val_loss', factor=0.5, patience=3, min_lr=1e-6, verbose=1\n",
    "    )\n",
    "]\n",
    "\n"
   ]
  },
  {
   "cell_type": "code",
   "execution_count": 8,
   "id": "1db5b551",
   "metadata": {},
   "outputs": [],
   "source": [
    "from tensorflow.keras.preprocessing.image import ImageDataGenerator\n",
    "\n",
    "# Create an augmented data generator\n",
    "datagen = ImageDataGenerator(\n",
    "    rotation_range=20,      # Random rotations within 20 degrees\n",
    "    width_shift_range=0.2,  # Horizontal shifts\n",
    "    height_shift_range=0.2, # Vertical shifts\n",
    "    shear_range=0.2,        # Shear transformations\n",
    "    zoom_range=0.2,         # Random zoom\n",
    "    horizontal_flip=True,   # Flip images horizontally\n",
    "    fill_mode='nearest'     # Fill pixels for rotated/shifts\n",
    ")\n",
    "\n",
    "\n",
    "\n",
    "# Fit the generator to training data\n",
    "# datagen.fit(X_train)\n",
    "\n",
    "# # Use .flow() to get batches from datagen\n",
    "# train_generator = datagen.flow(X_train, y_train, batch_size=64)\n"
   ]
  },
  {
   "cell_type": "code",
   "execution_count": 9,
   "id": "67ba9862",
   "metadata": {},
   "outputs": [],
   "source": [
    "\n",
    "# Compile the model\n",
    "model.compile(\n",
    "    optimizer=tf.keras.optimizers.Adam(learning_rate=0.001),\n",
    "    loss='categorical_crossentropy',\n",
    "    metrics=['accuracy']\n",
    ")\n"
   ]
  },
  {
   "cell_type": "code",
   "execution_count": 14,
   "id": "27f19614",
   "metadata": {},
   "outputs": [],
   "source": [
    "X_training, X_val, y_training, y_val = train_test_split(X_train, y_train, test_size=0.2, random_state=42)\n",
    "\n",
    "datagen.fit(X_training)\n",
    "# Use .flow() to get batches from datagen\n",
    "train_generator = datagen.flow(X_training, y_training, batch_size=64)\n",
    "\n",
    "# Use generator during model training\n",
    "if retrain_model:\n",
    "    history = model.fit(\n",
    "        train_generator,\n",
    "        validation_data=(X_val, y_val),\n",
    "        epochs=60,\n",
    "        callbacks=callbacks,\n",
    "        verbose=2\n",
    "    )\n",
    "else:\n",
    "    model = load_model('best_model.h5')"
   ]
  },
  {
   "cell_type": "code",
   "execution_count": 15,
   "id": "7b73f572",
   "metadata": {},
   "outputs": [
    {
     "ename": "NameError",
     "evalue": "name 'history' is not defined",
     "output_type": "error",
     "traceback": [
      "\u001b[0;31m---------------------------------------------------------------------------\u001b[0m",
      "\u001b[0;31mNameError\u001b[0m                                 Traceback (most recent call last)",
      "Cell \u001b[0;32mIn[15], line 1\u001b[0m\n\u001b[0;32m----> 1\u001b[0m \u001b[43mhistory\u001b[49m\u001b[38;5;241m.\u001b[39mhistory\u001b[38;5;241m.\u001b[39mkeys()\n",
      "\u001b[0;31mNameError\u001b[0m: name 'history' is not defined"
     ]
    }
   ],
   "source": [
    "history.history.keys()"
   ]
  },
  {
   "cell_type": "code",
   "execution_count": 16,
   "id": "f48e35c2",
   "metadata": {},
   "outputs": [],
   "source": [
    "if retrain_model:\n",
    "    pd.DataFrame({\"epoch\": history.epoch,\n",
    "                \"learning_rate\": history.history[\"lr\"],\n",
    "                \"loss\": history.history[\"loss\"],\n",
    "                \"val_loss\": history.history[\"val_loss\"],\n",
    "                \"accuracy\": history.history[\"accuracy\"],\n",
    "                \"val_accuracy\": history.history[\"val_accuracy\"]})\n",
    "\n",
    "    fig, ax = plt.subplots(1, 2, figsize=(15, 5))\n",
    "    plt.subplot(1, 2, 1)\n",
    "    plt.plot(history.history[\"loss\"], label=\"loss\")\n",
    "    plt.plot(history.history[\"val_loss\"], label=\"val_loss\")\n",
    "    plt.plot(history.history[\"lr\"], label=\"learning_rate\")\n",
    "    plt.title(\"Loss\")\n",
    "    plt.xlabel(\"Epochs\")\n",
    "    plt.ylabel(\"Loss\")\n",
    "    plt.legend()\n",
    "    plt.subplot(1, 2, 2)\n",
    "    plt.plot(history.history[\"accuracy\"], label=\"accuracy\")\n",
    "    plt.plot(history.history[\"val_accuracy\"], label=\"val_accuracy\")\n",
    "    plt.plot(history.history[\"lr\"], label=\"learning_rate\")\n",
    "    plt.title(\"Accuracy\")\n",
    "    plt.xlabel(\"Epochs\")\n",
    "    plt.ylabel(\"Accuracy\")\n",
    "    plt.legend()\n",
    "    plt.show()"
   ]
  },
  {
   "cell_type": "code",
   "execution_count": 17,
   "id": "a5b384e3",
   "metadata": {},
   "outputs": [
    {
     "name": "stderr",
     "output_type": "stream",
     "text": [
      "2025-04-23 10:37:06.905229: I tensorflow/core/grappler/optimizers/custom_graph_optimizer_registry.cc:114] Plugin optimizer for device_type GPU is enabled.\n"
     ]
    },
    {
     "name": "stdout",
     "output_type": "stream",
     "text": [
      "313/313 - 5s - loss: 2.3834 - accuracy: 0.3962 - 5s/epoch - 17ms/step\n",
      "Test Accuracy: 39.62%\n",
      "Test Loss: 2.3834\n"
     ]
    }
   ],
   "source": [
    "# Evaluate the model\n",
    "\n",
    "test_loss, test_acc = model.evaluate(X_test, y_test, verbose=2)\n",
    "print(f\"Test Accuracy: {test_acc * 100:.2f}%\")\n",
    "print(f\"Test Loss: {test_loss:.4f}\")\n"
   ]
  },
  {
   "cell_type": "code",
   "execution_count": 18,
   "id": "56a31ec4",
   "metadata": {},
   "outputs": [
    {
     "data": {
      "text/plain": [
       "([<KerasTensor: shape=(None, 32, 32, 3) dtype=float32 (created by layer 'input_1')>],\n",
       " <KerasTensor: shape=(None, 32, 32, 3) dtype=float32 (created by layer 'input_1')>,\n",
       " (None, 32, 32, 3))"
      ]
     },
     "execution_count": 18,
     "metadata": {},
     "output_type": "execute_result"
    }
   ],
   "source": [
    "model.inputs, model.input, model.input_shape"
   ]
  },
  {
   "cell_type": "code",
   "execution_count": 19,
   "id": "448db913",
   "metadata": {},
   "outputs": [
    {
     "data": {
      "text/plain": [
       "(32, 32, 3)"
      ]
     },
     "execution_count": 19,
     "metadata": {},
     "output_type": "execute_result"
    }
   ],
   "source": [
    "X_test[0].shape"
   ]
  },
  {
   "cell_type": "markdown",
   "id": "66ab8895",
   "metadata": {},
   "source": [
    "Keras models always expect a batch (even if it’s a batch of 1), so the input must have shape (1, 32, 32, 3) instead of just (32, 32, 3)."
   ]
  },
  {
   "cell_type": "code",
   "execution_count": 20,
   "id": "1da059ec",
   "metadata": {},
   "outputs": [
    {
     "name": "stdout",
     "output_type": "stream",
     "text": [
      "Single image shape: (1, 32, 32, 3)\n",
      "1/1 [==============================] - 0s 233ms/step\n",
      "[[2.37149223e-07 4.12118534e-05 1.53200526e-03 3.96774383e-03\n",
      "  7.51744024e-03 4.69978084e-04 1.67926002e-04 5.23810554e-03\n",
      "  1.07045630e-02 2.51524674e-04 9.71035275e-04 3.39259021e-03\n",
      "  3.70535515e-02 5.08168305e-04 9.54703282e-05 4.89192200e-04\n",
      "  1.56211143e-04 1.04416395e-03 3.28614726e-03 2.08892990e-04\n",
      "  8.46522671e-05 3.43682041e-04 1.87473500e-03 2.84393709e-02\n",
      "  9.60694067e-03 1.46232356e-04 5.61104203e-03 3.23584001e-03\n",
      "  2.49217846e-04 2.43873917e-03 1.17426492e-01 3.98963224e-04\n",
      "  8.48294981e-03 5.02149633e-04 1.50342903e-03 1.13054912e-03\n",
      "  5.80854714e-04 1.87030726e-03 2.23312364e-03 3.20683233e-02\n",
      "  3.11852607e-04 2.31943995e-04 5.06488490e-04 3.94245813e-04\n",
      "  4.63206926e-03 8.50585988e-04 2.77312892e-03 1.16492156e-04\n",
      "  7.43910030e-04 4.76422012e-01 4.16228361e-03 4.53970642e-05\n",
      "  1.38011401e-05 1.43452166e-06 1.10355417e-04 8.79595149e-03\n",
      "  1.39611482e-03 2.59619719e-05 1.37277937e-04 2.46496941e-03\n",
      "  1.57895358e-03 1.97733776e-03 5.53431855e-05 1.81190902e-04\n",
      "  1.22763775e-03 2.74388964e-04 8.26313859e-04 2.44059571e-04\n",
      "  1.56108066e-02 6.12030504e-04 5.35706204e-05 1.55588686e-02\n",
      "  1.73099060e-02 1.87565968e-03 1.81875017e-03 4.31363951e-05\n",
      "  1.30428709e-02 9.46708838e-04 3.19547113e-03 9.24874097e-03\n",
      "  1.49519101e-03 2.03396729e-03 6.28414389e-04 3.15428565e-06\n",
      "  7.68200844e-05 1.89768546e-03 6.93690823e-03 2.45763840e-05\n",
      "  7.00276796e-05 3.42142448e-04 9.25962348e-03 1.01290247e-03\n",
      "  9.02014744e-06 2.65013147e-03 1.14902628e-06 8.34100991e-02\n",
      "  7.92580249e-04 1.74937991e-03 7.74129876e-04 1.69025757e-03]]\n"
     ]
    },
    {
     "name": "stderr",
     "output_type": "stream",
     "text": [
      "2025-04-23 10:37:20.069228: I tensorflow/core/grappler/optimizers/custom_graph_optimizer_registry.cc:114] Plugin optimizer for device_type GPU is enabled.\n"
     ]
    }
   ],
   "source": [
    "# Expand dimensions to make it a batch of 1\n",
    "single_image = np.expand_dims(X_test[0], axis=0)\n",
    "print(\"Single image shape:\", single_image.shape)\n",
    "# Predict\n",
    "prediction = model.predict(single_image)\n",
    "print(prediction)"
   ]
  },
  {
   "cell_type": "code",
   "execution_count": 21,
   "id": "24bcfaa2",
   "metadata": {},
   "outputs": [
    {
     "name": "stdout",
     "output_type": "stream",
     "text": [
      "Predicted class index: 49\n"
     ]
    },
    {
     "data": {
      "image/png": "[encoded data removed]",
      "text/plain": [
       "<Figure size 100x100 with 1 Axes>"
      ]
     },
     "metadata": {},
     "output_type": "display_data"
    }
   ],
   "source": [
    "predicted_class = np.argmax(prediction)\n",
    "\n",
    "print(\"Predicted class index:\", predicted_class)\n",
    "\n",
    "#Visualize the prediction with image\n",
    "plt.figure(figsize=(1,1))\n",
    "plt.imshow(X_test[0])\n",
    "plt.title(f\"Predicted class: {predicted_class} \\n True class: {np.argmax(y_test[0])}\")\n",
    "plt.axis('off')\n",
    "plt.show()\n"
   ]
  },
  {
   "cell_type": "code",
   "execution_count": 22,
   "id": "4b4ab981",
   "metadata": {},
   "outputs": [
    {
     "name": "stdout",
     "output_type": "stream",
     "text": [
      "313/313 [==============================] - 1s 5ms/step\n"
     ]
    }
   ],
   "source": [
    "# Get predicted class probabilities\n",
    "y_pred_probs = model.predict(X_test)\n",
    "\n",
    "# Convert probabilities to class labels\n",
    "y_pred_classes = np.argmax(y_pred_probs, axis=1)\n",
    "y_true_classes = np.argmax(y_test, axis=1)\n"
   ]
  },
  {
   "cell_type": "code",
   "execution_count": 35,
   "id": "84a03089",
   "metadata": {},
   "outputs": [],
   "source": [
    "from sklearn.metrics import classification_report\n",
    "# Print classification report\n",
    "csr = classification_report(y_true_classes, y_pred_classes, output_dict=True)\n",
    "\n",
    "# Confusion Matrix doesn't help here due to large number of classes."
   ]
  },
  {
   "cell_type": "code",
   "execution_count": 36,
   "id": "c4d720d4",
   "metadata": {},
   "outputs": [],
   "source": [
    "csr = pd.DataFrame(csr).T"
   ]
  },
  {
   "cell_type": "code",
   "execution_count": 40,
   "id": "f62ebb87",
   "metadata": {},
   "outputs": [
    {
     "data": {
      "image/png": "[encoded data removed]",
      "text/plain": [
       "<Figure size 2000x1000 with 1 Axes>"
      ]
     },
     "metadata": {},
     "output_type": "display_data"
    }
   ],
   "source": [
    "csr = csr.reset_index()\n",
    "csr.plot(x='index', figsize=(20,10))\n",
    "plt.title(\"Classification Report\")\n",
    "plt.xlabel(\"Classes\")\n",
    "plt.ylabel(\"Scores\")\n",
    "plt.legend([\"Precision\", \"Recall\", \"F1-Score\", \"Support\"])\n",
    "plt.show()"
   ]
  },
  {
   "cell_type": "code",
   "execution_count": 42,
   "id": "7c04d5f3",
   "metadata": {},
   "outputs": [],
   "source": [
    "csr.sort_values(by='f1-score', ascending=False, inplace=True)"
   ]
  },
  {
   "cell_type": "code",
   "execution_count": 43,
   "id": "34fbe181",
   "metadata": {},
   "outputs": [
    {
     "data": {
      "text/html": [
       "<div>\n",
       "<style scoped>\n",
       "    .dataframe tbody tr th:only-of-type {\n",
       "        vertical-align: middle;\n",
       "    }\n",
       "\n",
       "    .dataframe tbody tr th {\n",
       "        vertical-align: top;\n",
       "    }\n",
       "\n",
       "    .dataframe thead th {\n",
       "        text-align: right;\n",
       "    }\n",
       "</style>\n",
       "<table border=\"1\" class=\"dataframe\">\n",
       "  <thead>\n",
       "    <tr style=\"text-align: right;\">\n",
       "      <th></th>\n",
       "      <th>level_0</th>\n",
       "      <th>index</th>\n",
       "      <th>precision</th>\n",
       "      <th>recall</th>\n",
       "      <th>f1-score</th>\n",
       "      <th>support</th>\n",
       "    </tr>\n",
       "  </thead>\n",
       "  <tbody>\n",
       "    <tr>\n",
       "      <th>60</th>\n",
       "      <td>60</td>\n",
       "      <td>60</td>\n",
       "      <td>0.682171</td>\n",
       "      <td>0.88</td>\n",
       "      <td>0.768559</td>\n",
       "      <td>100.0</td>\n",
       "    </tr>\n",
       "    <tr>\n",
       "      <th>82</th>\n",
       "      <td>82</td>\n",
       "      <td>82</td>\n",
       "      <td>0.680672</td>\n",
       "      <td>0.81</td>\n",
       "      <td>0.739726</td>\n",
       "      <td>100.0</td>\n",
       "    </tr>\n",
       "    <tr>\n",
       "      <th>53</th>\n",
       "      <td>53</td>\n",
       "      <td>53</td>\n",
       "      <td>0.653543</td>\n",
       "      <td>0.83</td>\n",
       "      <td>0.731278</td>\n",
       "      <td>100.0</td>\n",
       "    </tr>\n",
       "    <tr>\n",
       "      <th>68</th>\n",
       "      <td>68</td>\n",
       "      <td>68</td>\n",
       "      <td>0.717172</td>\n",
       "      <td>0.71</td>\n",
       "      <td>0.713568</td>\n",
       "      <td>100.0</td>\n",
       "    </tr>\n",
       "    <tr>\n",
       "      <th>0</th>\n",
       "      <td>0</td>\n",
       "      <td>0</td>\n",
       "      <td>0.761364</td>\n",
       "      <td>0.67</td>\n",
       "      <td>0.712766</td>\n",
       "      <td>100.0</td>\n",
       "    </tr>\n",
       "    <tr>\n",
       "      <th>...</th>\n",
       "      <td>...</td>\n",
       "      <td>...</td>\n",
       "      <td>...</td>\n",
       "      <td>...</td>\n",
       "      <td>...</td>\n",
       "      <td>...</td>\n",
       "    </tr>\n",
       "    <tr>\n",
       "      <th>38</th>\n",
       "      <td>38</td>\n",
       "      <td>38</td>\n",
       "      <td>0.352941</td>\n",
       "      <td>0.06</td>\n",
       "      <td>0.102564</td>\n",
       "      <td>100.0</td>\n",
       "    </tr>\n",
       "    <tr>\n",
       "      <th>44</th>\n",
       "      <td>44</td>\n",
       "      <td>44</td>\n",
       "      <td>0.142857</td>\n",
       "      <td>0.06</td>\n",
       "      <td>0.084507</td>\n",
       "      <td>100.0</td>\n",
       "    </tr>\n",
       "    <tr>\n",
       "      <th>98</th>\n",
       "      <td>98</td>\n",
       "      <td>98</td>\n",
       "      <td>0.185185</td>\n",
       "      <td>0.05</td>\n",
       "      <td>0.078740</td>\n",
       "      <td>100.0</td>\n",
       "    </tr>\n",
       "    <tr>\n",
       "      <th>10</th>\n",
       "      <td>10</td>\n",
       "      <td>10</td>\n",
       "      <td>0.230769</td>\n",
       "      <td>0.03</td>\n",
       "      <td>0.053097</td>\n",
       "      <td>100.0</td>\n",
       "    </tr>\n",
       "    <tr>\n",
       "      <th>55</th>\n",
       "      <td>55</td>\n",
       "      <td>55</td>\n",
       "      <td>0.111111</td>\n",
       "      <td>0.01</td>\n",
       "      <td>0.018349</td>\n",
       "      <td>100.0</td>\n",
       "    </tr>\n",
       "  </tbody>\n",
       "</table>\n",
       "<p>103 rows × 6 columns</p>\n",
       "</div>"
      ],
      "text/plain": [
       "    level_0 index  precision  recall  f1-score  support\n",
       "60       60    60   0.682171    0.88  0.768559    100.0\n",
       "82       82    82   0.680672    0.81  0.739726    100.0\n",
       "53       53    53   0.653543    0.83  0.731278    100.0\n",
       "68       68    68   0.717172    0.71  0.713568    100.0\n",
       "0         0     0   0.761364    0.67  0.712766    100.0\n",
       "..      ...   ...        ...     ...       ...      ...\n",
       "38       38    38   0.352941    0.06  0.102564    100.0\n",
       "44       44    44   0.142857    0.06  0.084507    100.0\n",
       "98       98    98   0.185185    0.05  0.078740    100.0\n",
       "10       10    10   0.230769    0.03  0.053097    100.0\n",
       "55       55    55   0.111111    0.01  0.018349    100.0\n",
       "\n",
       "[103 rows x 6 columns]"
      ]
     },
     "execution_count": 43,
     "metadata": {},
     "output_type": "execute_result"
    }
   ],
   "source": [
    "csr"
   ]
  },
  {
   "cell_type": "code",
   "execution_count": null,
   "id": "8ecbeb04",
   "metadata": {},
   "outputs": [],
   "source": []
  }
 ],
 "metadata": {
  "kernelspec": {
   "display_name": "mlos",
   "language": "python",
   "name": "python3"
  },
  "language_info": {
   "codemirror_mode": {
    "name": "ipython",
    "version": 3
   },
   "file_extension": ".py",
   "mimetype": "text/x-python",
   "name": "python",
   "nbconvert_exporter": "python",
   "pygments_lexer": "ipython3",
   "version": "3.9.6"
  }
 },
 "nbformat": 4,
 "nbformat_minor": 5
}
